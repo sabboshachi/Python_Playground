{
 "cells": [
  {
   "cell_type": "markdown",
   "id": "9faebc10",
   "metadata": {},
   "source": [
    "# If Statement \n",
    "\n",
    "If statements are used to test for particular conditions and responds appropriately."
   ]
  },
  {
   "cell_type": "markdown",
   "id": "eaf8b264",
   "metadata": {},
   "source": [
    "### Conditional tests\n",
    "\n",
    "equals            [ x == 42 ] <br>\n",
    "not equal         [ x != 42 ] <br>\n",
    "greater than      [ x > 42 ] <br>\n",
    "    or equal to   [ x >= 42 ] <br>\n",
    "less than         [ x < 42 ] <br>\n",
    "    or equal to   [ x <= 42 ]"
   ]
  },
  {
   "cell_type": "markdown",
   "id": "f2aecae4",
   "metadata": {},
   "source": [
    "### Conditional test with lists"
   ]
  },
  {
   "cell_type": "code",
   "execution_count": 2,
   "id": "8d091d4b",
   "metadata": {},
   "outputs": [
    {
     "ename": "NameError",
     "evalue": "name 'bikes' is not defined",
     "output_type": "error",
     "traceback": [
      "\u001b[1;31m---------------------------------------------------------------------------\u001b[0m",
      "\u001b[1;31mNameError\u001b[0m                                 Traceback (most recent call last)",
      "Input \u001b[1;32mIn [2]\u001b[0m, in \u001b[0;36m<module>\u001b[1;34m\u001b[0m\n\u001b[1;32m----> 1\u001b[0m \u001b[38;5;124m\"\u001b[39m\u001b[38;5;124mhero\u001b[39m\u001b[38;5;124m\"\u001b[39m \u001b[38;5;129;01min\u001b[39;00m \u001b[43mbikes\u001b[49m\n",
      "\u001b[1;31mNameError\u001b[0m: name 'bikes' is not defined"
     ]
    }
   ],
   "source": [
    "\"hero\" in bikes\n",
    "\n",
    "\"surly\" not in bikes"
   ]
  },
  {
   "cell_type": "markdown",
   "id": "f3e559cb",
   "metadata": {},
   "source": [
    "### Assigning boolean values"
   ]
  },
  {
   "cell_type": "code",
   "execution_count": 4,
   "id": "72783920",
   "metadata": {},
   "outputs": [],
   "source": [
    "game_actives = True\n",
    "\n",
    "can_edit = False"
   ]
  },
  {
   "cell_type": "markdown",
   "id": "cef01d0d",
   "metadata": {},
   "source": [
    "### A simple if test "
   ]
  },
  {
   "cell_type": "code",
   "execution_count": 5,
   "id": "8a3d8abf",
   "metadata": {},
   "outputs": [
    {
     "ename": "NameError",
     "evalue": "name 'age' is not defined",
     "output_type": "error",
     "traceback": [
      "\u001b[1;31m---------------------------------------------------------------------------\u001b[0m",
      "\u001b[1;31mNameError\u001b[0m                                 Traceback (most recent call last)",
      "Input \u001b[1;32mIn [5]\u001b[0m, in \u001b[0;36m<module>\u001b[1;34m\u001b[0m\n\u001b[1;32m----> 1\u001b[0m \u001b[38;5;28;01mif\u001b[39;00m \u001b[43mage\u001b[49m \u001b[38;5;241m>\u001b[39m\u001b[38;5;241m=\u001b[39m \u001b[38;5;241m18\u001b[39m:\n\u001b[0;32m      2\u001b[0m     \u001b[38;5;28mprint\u001b[39m(\u001b[38;5;124m'\u001b[39m\u001b[38;5;124mYou can Vote!\u001b[39m\u001b[38;5;124m'\u001b[39m)\n",
      "\u001b[1;31mNameError\u001b[0m: name 'age' is not defined"
     ]
    }
   ],
   "source": [
    "if age >= 18:\n",
    "    print('You can Vote!')"
   ]
  },
  {
   "cell_type": "markdown",
   "id": "be20a726",
   "metadata": {},
   "source": [
    "### if-elif-else statements"
   ]
  },
  {
   "cell_type": "code",
   "execution_count": 6,
   "id": "80ea144a",
   "metadata": {},
   "outputs": [
    {
     "ename": "NameError",
     "evalue": "name 'age' is not defined",
     "output_type": "error",
     "traceback": [
      "\u001b[1;31m---------------------------------------------------------------------------\u001b[0m",
      "\u001b[1;31mNameError\u001b[0m                                 Traceback (most recent call last)",
      "Input \u001b[1;32mIn [6]\u001b[0m, in \u001b[0;36m<module>\u001b[1;34m\u001b[0m\n\u001b[1;32m----> 1\u001b[0m \u001b[38;5;28;01mif\u001b[39;00m \u001b[43mage\u001b[49m \u001b[38;5;241m<\u001b[39m \u001b[38;5;241m4\u001b[39m:\n\u001b[0;32m      2\u001b[0m     ticket_price \u001b[38;5;241m=\u001b[39m \u001b[38;5;241m0\u001b[39m\n\u001b[0;32m      3\u001b[0m \u001b[38;5;28;01melif\u001b[39;00m age \u001b[38;5;241m<\u001b[39m \u001b[38;5;241m18\u001b[39m:\n",
      "\u001b[1;31mNameError\u001b[0m: name 'age' is not defined"
     ]
    }
   ],
   "source": [
    "if age < 4:\n",
    "    ticket_price = 0\n",
    "elif age < 18:\n",
    "    ticket_price = 10\n",
    "else:\n",
    "    ticket_price = 15"
   ]
  }
 ],
 "metadata": {
  "kernelspec": {
   "display_name": "Python 3 (ipykernel)",
   "language": "python",
   "name": "python3"
  },
  "language_info": {
   "codemirror_mode": {
    "name": "ipython",
    "version": 3
   },
   "file_extension": ".py",
   "mimetype": "text/x-python",
   "name": "python",
   "nbconvert_exporter": "python",
   "pygments_lexer": "ipython3",
   "version": "3.10.1"
  }
 },
 "nbformat": 4,
 "nbformat_minor": 5
}
