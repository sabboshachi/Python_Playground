{
 "cells": [
  {
   "cell_type": "markdown",
   "id": "9faebc10",
   "metadata": {},
   "source": [
    "# If Statement \n",
    "\n",
    "If statements are used to test for particular conditions and responds appropriately."
   ]
  },
  {
   "cell_type": "markdown",
   "id": "eaf8b264",
   "metadata": {},
   "source": [
    "### Conditional tests\n",
    "\n",
    "equals            [ x == 42 ] <br>\n",
    "not equal         [ x != 42 ] <br>\n",
    "greater than      [ x > 42 ] <br>\n",
    "    or equal to   [ x >= 42 ] <br>\n",
    "less than         [ x < 42 ] <br>\n",
    "    or equal to   [ x <= 42 ]"
   ]
  },
  {
   "cell_type": "markdown",
   "id": "f2aecae4",
   "metadata": {},
   "source": [
    "### Conditional test with lists"
   ]
  },
  {
   "cell_type": "code",
   "execution_count": null,
   "id": "c9c79a36",
   "metadata": {},
   "outputs": [],
   "source": [
    "\"hero\" in bikes\n",
    "\n",
    "\"surly\" not in bikes"
   ]
  },
  {
   "cell_type": "markdown",
   "id": "f3e559cb",
   "metadata": {},
   "source": [
    "### Assigning boolean values"
   ]
  },
  {
   "cell_type": "code",
   "execution_count": 4,
   "id": "72783920",
   "metadata": {},
   "outputs": [],
   "source": [
    "game_actives = True\n",
    "\n",
    "can_edit = False"
   ]
  },
  {
   "cell_type": "markdown",
   "id": "cef01d0d",
   "metadata": {},
   "source": [
    "### A simple if test "
   ]
  },
  {
   "cell_type": "code",
   "execution_count": null,
   "id": "9db1d4c1",
   "metadata": {},
   "outputs": [],
   "source": [
    "if age >= 18:\n",
    "    print('You can Vote!')"
   ]
  },
  {
   "cell_type": "markdown",
   "id": "be20a726",
   "metadata": {},
   "source": [
    "### if-elif-else statements"
   ]
  },
  {
   "cell_type": "code",
   "execution_count": null,
   "id": "45356cd7",
   "metadata": {},
   "outputs": [],
   "source": [
    "if age < 4:\n",
    "    ticket_price = 0\n",
    "elif age < 18:\n",
    "    ticket_price = 10\n",
    "else:\n",
    "    ticket_price = 15"
   ]
  }
 ],
 "metadata": {
  "kernelspec": {
   "display_name": "Python 3 (ipykernel)",
   "language": "python",
   "name": "python3"
  },
  "language_info": {
   "codemirror_mode": {
    "name": "ipython",
    "version": 3
   },
   "file_extension": ".py",
   "mimetype": "text/x-python",
   "name": "python",
   "nbconvert_exporter": "python",
   "pygments_lexer": "ipython3",
   "version": "3.10.1"
  }
 },
 "nbformat": 4,
 "nbformat_minor": 5
}
