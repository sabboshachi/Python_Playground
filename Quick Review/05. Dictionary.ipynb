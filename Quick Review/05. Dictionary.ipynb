{
 "cells": [
  {
   "cell_type": "markdown",
   "id": "3fe55466",
   "metadata": {},
   "source": [
    "# Dictionary\n",
    "\n",
    "Dictionaries store connections between pieces of information. Each time in a dictionary is a key-value pair."
   ]
  },
  {
   "cell_type": "markdown",
   "id": "8c61e861",
   "metadata": {},
   "source": [
    "### A simple dictionary"
   ]
  },
  {
   "cell_type": "code",
   "execution_count": 2,
   "id": "ecf9f83a",
   "metadata": {},
   "outputs": [],
   "source": [
    "alien = {\"color\" : \"green\", \"points\" : 5}"
   ]
  },
  {
   "cell_type": "markdown",
   "id": "d3917624",
   "metadata": {},
   "source": [
    "### Accessing a value in dictionary"
   ]
  },
  {
   "cell_type": "code",
   "execution_count": 4,
   "id": "7044c5fd",
   "metadata": {},
   "outputs": [
    {
     "name": "stdout",
     "output_type": "stream",
     "text": [
      "the alien's color is green!\n"
     ]
    }
   ],
   "source": [
    "print(\"the alien's color is \" + alien['color'] + \"!\")"
   ]
  },
  {
   "cell_type": "markdown",
   "id": "783b3f88",
   "metadata": {},
   "source": [
    "### Adding new key-value pair "
   ]
  },
  {
   "cell_type": "code",
   "execution_count": 7,
   "id": "deb8e4d5",
   "metadata": {},
   "outputs": [],
   "source": [
    "alien['x_position'] = 0"
   ]
  },
  {
   "cell_type": "code",
   "execution_count": 8,
   "id": "0f113e46",
   "metadata": {},
   "outputs": [
    {
     "name": "stdout",
     "output_type": "stream",
     "text": [
      "{'color': 'green', 'points': 5, 'x_position': 0}\n"
     ]
    }
   ],
   "source": [
    "print(alien)"
   ]
  },
  {
   "cell_type": "markdown",
   "id": "98695bd2",
   "metadata": {},
   "source": [
    "### Looping through all key-value pair"
   ]
  },
  {
   "cell_type": "code",
   "execution_count": 18,
   "id": "b991de0e",
   "metadata": {},
   "outputs": [
    {
     "name": "stdout",
     "output_type": "stream",
     "text": [
      "susmita loves 23.\n",
      "sabboshachi loves 25.\n"
     ]
    }
   ],
   "source": [
    "fav_numbers = {\"susmita\" : 23, \"sabboshachi\" : 25}\n",
    "\n",
    "for name, number in fav_numbers.items():\n",
    "    print(name + \" loves\" + \" \" + str(number) + \".\")"
   ]
  },
  {
   "cell_type": "markdown",
   "id": "42accbcb",
   "metadata": {},
   "source": [
    "### Looping through all keys"
   ]
  },
  {
   "cell_type": "code",
   "execution_count": 19,
   "id": "3f04ff64",
   "metadata": {},
   "outputs": [
    {
     "name": "stdout",
     "output_type": "stream",
     "text": [
      "susmita loves a number.\n",
      "sabboshachi loves a number.\n"
     ]
    }
   ],
   "source": [
    "fav_numbers = {\"susmita\" : 23, \"sabboshachi\" : 25}\n",
    "\n",
    "for name in fav_numbers.keys():\n",
    "    print(name + \" loves a number.\")"
   ]
  },
  {
   "cell_type": "markdown",
   "id": "3e7e0cce",
   "metadata": {},
   "source": [
    "### Looping through all values"
   ]
  },
  {
   "cell_type": "code",
   "execution_count": 20,
   "id": "f586e0a9",
   "metadata": {},
   "outputs": [
    {
     "name": "stdout",
     "output_type": "stream",
     "text": [
      "23 is a favourite.\n",
      "25 is a favourite.\n"
     ]
    }
   ],
   "source": [
    "fav_numbers = {\"susmita\" : 23, \"sabboshachi\" : 25}\n",
    "\n",
    "for number in fav_numbers.values():\n",
    "    print(str(number) + \" is a favourite.\")"
   ]
  }
 ],
 "metadata": {
  "kernelspec": {
   "display_name": "Python 3 (ipykernel)",
   "language": "python",
   "name": "python3"
  },
  "language_info": {
   "codemirror_mode": {
    "name": "ipython",
    "version": 3
   },
   "file_extension": ".py",
   "mimetype": "text/x-python",
   "name": "python",
   "nbconvert_exporter": "python",
   "pygments_lexer": "ipython3",
   "version": "3.10.1"
  }
 },
 "nbformat": 4,
 "nbformat_minor": 5
}
