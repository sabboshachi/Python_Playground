{
 "cells": [
  {
   "cell_type": "markdown",
   "id": "b0aecefd",
   "metadata": {},
   "source": [
    "# Variables and String\n",
    "\n",
    "Variables are used to store values. A string is a series of charecters, surrounded by single of double quotes."
   ]
  },
  {
   "cell_type": "markdown",
   "id": "2b842eca",
   "metadata": {},
   "source": [
    "### Hello World"
   ]
  },
  {
   "cell_type": "code",
   "execution_count": 1,
   "id": "3898ab15",
   "metadata": {},
   "outputs": [
    {
     "name": "stdout",
     "output_type": "stream",
     "text": [
      "Hello World; This is python review time.\n"
     ]
    }
   ],
   "source": [
    "print(\"Hello World; This is python review time.\")"
   ]
  },
  {
   "cell_type": "markdown",
   "id": "6441953e",
   "metadata": {},
   "source": [
    "### Hello World with a variable"
   ]
  },
  {
   "cell_type": "code",
   "execution_count": 5,
   "id": "a2e9ad2e",
   "metadata": {},
   "outputs": [
    {
     "name": "stdout",
     "output_type": "stream",
     "text": [
      "Hello World!\n"
     ]
    }
   ],
   "source": [
    "message = \"Hello World!\"\n",
    "print(message)"
   ]
  },
  {
   "cell_type": "markdown",
   "id": "11c35213",
   "metadata": {},
   "source": [
    "### Concatenation "
   ]
  },
  {
   "cell_type": "code",
   "execution_count": 9,
   "id": "73e0055f",
   "metadata": {},
   "outputs": [
    {
     "name": "stdout",
     "output_type": "stream",
     "text": [
      "albert einstein\n"
     ]
    }
   ],
   "source": [
    "first_name = \"albert\"\n",
    "last_name = \"einstein\"\n",
    "full_name = first_name +\" \"+ last_name\n",
    "\n",
    "print(full_name)"
   ]
  },
  {
   "cell_type": "code",
   "execution_count": null,
   "id": "ba6622f7",
   "metadata": {},
   "outputs": [],
   "source": []
  }
 ],
 "metadata": {
  "kernelspec": {
   "display_name": "Python 3 (ipykernel)",
   "language": "python",
   "name": "python3"
  },
  "language_info": {
   "codemirror_mode": {
    "name": "ipython",
    "version": 3
   },
   "file_extension": ".py",
   "mimetype": "text/x-python",
   "name": "python",
   "nbconvert_exporter": "python",
   "pygments_lexer": "ipython3",
   "version": "3.10.1"
  }
 },
 "nbformat": 4,
 "nbformat_minor": 5
}
