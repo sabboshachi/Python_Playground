{
 "cells": [
  {
   "cell_type": "markdown",
   "id": "298bff13",
   "metadata": {},
   "source": [
    "# Working with Files \n",
    "\n",
    "Our programes can read from files and write to files. Files are opened in read mode (\"r\") by default, but can also be opened in write mode ('w') and append mode ('a')"
   ]
  },
  {
   "cell_type": "markdown",
   "id": "6637d2ec",
   "metadata": {},
   "source": [
    "### Reading a file and storing its lines"
   ]
  },
  {
   "cell_type": "code",
   "execution_count": 5,
   "id": "e1b07119",
   "metadata": {},
   "outputs": [
    {
     "name": "stdout",
     "output_type": "stream",
     "text": [
      "Hi\n",
      "\n",
      "this is a demo text file for testing.\n",
      "\n",
      "with this txt file i'm try to read a text file with my code.\n",
      "\n",
      "let's try if it workes or not.\n",
      "\n",
      "but wait \n",
      "\n",
      "let's have the most commont print in program.\n",
      "\n",
      "\"Hello World !\"\n"
     ]
    }
   ],
   "source": [
    "filename = 'siddartha.txt'\n",
    "with open(filename) as file_object:\n",
    "    lines = file_object.readlines()\n",
    "    \n",
    "for line in lines:\n",
    "    print(line)"
   ]
  },
  {
   "cell_type": "code",
   "execution_count": null,
   "id": "c3712ce3",
   "metadata": {},
   "outputs": [],
   "source": []
  }
 ],
 "metadata": {
  "kernelspec": {
   "display_name": "Python 3 (ipykernel)",
   "language": "python",
   "name": "python3"
  },
  "language_info": {
   "codemirror_mode": {
    "name": "ipython",
    "version": 3
   },
   "file_extension": ".py",
   "mimetype": "text/x-python",
   "name": "python",
   "nbconvert_exporter": "python",
   "pygments_lexer": "ipython3",
   "version": "3.10.1"
  }
 },
 "nbformat": 4,
 "nbformat_minor": 5
}
