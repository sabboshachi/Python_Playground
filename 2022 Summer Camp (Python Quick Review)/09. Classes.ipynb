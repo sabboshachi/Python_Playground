{
 "cells": [
  {
   "cell_type": "markdown",
   "id": "ca050fac",
   "metadata": {},
   "source": [
    "# Classes\n",
    "\n",
    "A class defines the behavior of an object and the kind of information an object can store. The information in a class is stored in attributes and functions that belongs to a class is called method. A child class inherites the attributes and methodes. A child class inherites the attributes and methods from its parents class."
   ]
  },
  {
   "cell_type": "markdown",
   "id": "d2b96890",
   "metadata": {},
   "source": [
    "### Creating a dog class"
   ]
  },
  {
   "cell_type": "code",
   "execution_count": null,
   "id": "d0bf5df5",
   "metadata": {},
   "outputs": [],
   "source": [
    "class Dog():\n",
    "    \"\"\"Represent a dog\"\"\""
   ]
  },
  {
   "cell_type": "markdown",
   "id": "f8c395fb",
   "metadata": {},
   "source": [
    "### Inheritance"
   ]
  }
 ],
 "metadata": {
  "kernelspec": {
   "display_name": "Python 3 (ipykernel)",
   "language": "python",
   "name": "python3"
  },
  "language_info": {
   "codemirror_mode": {
    "name": "ipython",
    "version": 3
   },
   "file_extension": ".py",
   "mimetype": "text/x-python",
   "name": "python",
   "nbconvert_exporter": "python",
   "pygments_lexer": "ipython3",
   "version": "3.10.1"
  }
 },
 "nbformat": 4,
 "nbformat_minor": 5
}
