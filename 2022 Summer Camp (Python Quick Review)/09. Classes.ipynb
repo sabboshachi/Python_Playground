{
 "cells": [
  {
   "cell_type": "markdown",
   "id": "ca050fac",
   "metadata": {},
   "source": [
    "# Classes\n",
    "\n",
    "A class defines the behavior of an object and the kind of information an object can store. The information in a class is stored in attributes and functions that belongs to a class is called method. A child class inherites the attributes and methodes. A child class inherites the attributes and methods from its parents class."
   ]
  },
  {
   "cell_type": "markdown",
   "id": "ebac994d",
   "metadata": {},
   "source": [
    "### Creating a dog class"
   ]
  },
  {
   "cell_type": "code",
   "execution_count": 3,
   "id": "608abefd",
   "metadata": {},
   "outputs": [
    {
     "name": "stdout",
     "output_type": "stream",
     "text": [
      "Peso is a great dog!\n",
      "Peso is sitting.\n"
     ]
    }
   ],
   "source": [
    "class Dog():\n",
    "    \"\"\"Represent a dog\"\"\"\n",
    "    \n",
    "    def __init__(self, name):\n",
    "        \"\"\"Initialize dog object\"\"\"\n",
    "        self.name = name\n",
    "        \n",
    "    def sit(self):\n",
    "        \"\"\"Simulate Sitting\"\"\"\n",
    "        print(self.name + \" is sitting.\")\n",
    "        \n",
    "my_dog = Dog(\"Peso\")\n",
    "\n",
    "print(my_dog.name + \" is a great dog!\")\n",
    "\n",
    "my_dog.sit()"
   ]
  },
  {
   "cell_type": "markdown",
   "id": "ae75f109",
   "metadata": {},
   "source": [
    "### Inheritance"
   ]
  },
  {
   "cell_type": "code",
   "execution_count": null,
   "id": "afc05589",
   "metadata": {},
   "outputs": [],
   "source": [
    "class SARDog(Dog):\n",
    "    \"\"\"Represent a search dog.\"\"\"\n",
    "    \n",
    "    def __init__(self, name):\n",
    "        \"\"\"Initialize the sardog\"\"\"\n",
    "        super().__init__(name)\n",
    "        \n",
    "    def search(self):\n",
    "        \"\"\"Simulate searching\"\"\"\n",
    "        print(self.name + \" is searching.\")"
   ]
  }
 ],
 "metadata": {
  "kernelspec": {
   "display_name": "Python 3 (ipykernel)",
   "language": "python",
   "name": "python3"
  },
  "language_info": {
   "codemirror_mode": {
    "name": "ipython",
    "version": 3
   },
   "file_extension": ".py",
   "mimetype": "text/x-python",
   "name": "python",
   "nbconvert_exporter": "python",
   "pygments_lexer": "ipython3",
   "version": "3.10.1"
  }
 },
 "nbformat": 4,
 "nbformat_minor": 5
}
