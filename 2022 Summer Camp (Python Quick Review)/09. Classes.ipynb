{
 "cells": [
  {
   "cell_type": "markdown",
   "id": "ca050fac",
   "metadata": {},
   "source": [
    "# Classes\n",
    "\n",
    "A class defines the behavior of an object and the kind of information an object can store. The information in a class is stored in attributes and functions that belongs to a class is called method. A child class inherites the attributes and methodes. A child class inherites the attributes and methods from its parents class."
   ]
  },
  {
   "cell_type": "markdown",
   "id": "a8428e42",
   "metadata": {},
   "source": [
    "### Creating a dog class"
   ]
  },
  {
   "cell_type": "markdown",
   "id": "79f72146",
   "metadata": {},
   "source": [
    "### Inheritance"
   ]
  }
 ],
 "metadata": {
  "kernelspec": {
   "display_name": "Python 3 (ipykernel)",
   "language": "python",
   "name": "python3"
  },
  "language_info": {
   "codemirror_mode": {
    "name": "ipython",
    "version": 3
   },
   "file_extension": ".py",
   "mimetype": "text/x-python",
   "name": "python",
   "nbconvert_exporter": "python",
   "pygments_lexer": "ipython3",
   "version": "3.10.1"
  }
 },
 "nbformat": 4,
 "nbformat_minor": 5
}
