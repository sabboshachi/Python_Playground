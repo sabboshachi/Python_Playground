{
 "cells": [
  {
   "cell_type": "markdown",
   "id": "b06913f3",
   "metadata": {},
   "source": [
    "# Lists"
   ]
  },
  {
   "cell_type": "markdown",
   "id": "c2481221",
   "metadata": {},
   "source": [
    "## What are Lists?\n",
    "\n",
    "A list stores a series of items in a perticular order.\n",
    "Lists allow us to store sents of information in one place, whether we have justa few items or millions of items. \n",
    "Lists are one of Python's most powerful features readly accessible to new programmers, and they tie together many important concepts in programming."
   ]
  },
  {
   "cell_type": "markdown",
   "id": "bd1eca40",
   "metadata": {},
   "source": [
    "### Defining a list"
   ]
  },
  {
   "cell_type": "code",
   "execution_count": 2,
   "id": "8096a5d9",
   "metadata": {},
   "outputs": [],
   "source": [
    "users = ['susmita', 'sabboshachi', 'tekka', 'sandy']"
   ]
  },
  {
   "cell_type": "markdown",
   "id": "28d3b27a",
   "metadata": {},
   "source": [
    "## Accessing elements \n",
    "### Getting elements by postitions"
   ]
  },
  {
   "cell_type": "code",
   "execution_count": 3,
   "id": "1279e896",
   "metadata": {},
   "outputs": [],
   "source": [
    "first_user = users[0] # getting the first element\n",
    "\n",
    "second_user = users[1] # getting the second element\n",
    "\n",
    "newest_user = users[-1] # getting the last element"
   ]
  },
  {
   "cell_type": "markdown",
   "id": "072a1d42",
   "metadata": {},
   "source": [
    "## Modifying Individual items \n",
    "### Changing an element "
   ]
  },
  {
   "cell_type": "code",
   "execution_count": 8,
   "id": "2c029ef5",
   "metadata": {},
   "outputs": [],
   "source": [
    "users[0] = 'valerie'\n",
    "users[-2] = 'Rudra'"
   ]
  },
  {
   "cell_type": "markdown",
   "id": "4702a395",
   "metadata": {},
   "source": [
    "## Adding elements \n",
    "### Adding an element to the end of the list "
   ]
  },
  {
   "cell_type": "code",
   "execution_count": 17,
   "id": "fdfb26ab",
   "metadata": {},
   "outputs": [
    {
     "name": "stdout",
     "output_type": "stream",
     "text": [
      "['valerie', 'sabboshachi', 'Rudra', 'sandy', 'Susmita', 'Susmita', 'Susmita', 'Susmita', 'Susmita', 'Susmita', 'Susmita', 'Susmita', 'Susmita']\n"
     ]
    }
   ],
   "source": [
    "users.append(\"Susmita\")\n",
    "print(users)"
   ]
  },
  {
   "cell_type": "markdown",
   "id": "d2ba0b02",
   "metadata": {},
   "source": [
    "### Starting with an empty list "
   ]
  },
  {
   "cell_type": "code",
   "execution_count": 20,
   "id": "aff38ba8",
   "metadata": {},
   "outputs": [],
   "source": [
    "users = []\n",
    "\n",
    "users.append(\"Susmita\")\n",
    "users.append(\"Dey\")\n",
    "users.append(\"Sabboshachi\")\n",
    "users.append(\"Sarkar\")"
   ]
  },
  {
   "cell_type": "markdown",
   "id": "e5be0dac",
   "metadata": {},
   "source": [
    "### Inserting elements at a particular position "
   ]
  },
  {
   "cell_type": "code",
   "execution_count": 22,
   "id": "45a93f14",
   "metadata": {},
   "outputs": [],
   "source": [
    "users.insert(2, \"Tekka\" )\n",
    "users.insert(3, \"Sandy\")\n",
    "users.insert(1, \"Sabboshachi\")"
   ]
  },
  {
   "cell_type": "markdown",
   "id": "18952b0b",
   "metadata": {},
   "source": [
    "## Removing Elements\n",
    "### Deleting an element by its position "
   ]
  },
  {
   "cell_type": "code",
   "execution_count": null,
   "id": "5b3dad0e",
   "metadata": {},
   "outputs": [],
   "source": []
  }
 ],
 "metadata": {
  "kernelspec": {
   "display_name": "Python 3 (ipykernel)",
   "language": "python",
   "name": "python3"
  },
  "language_info": {
   "codemirror_mode": {
    "name": "ipython",
    "version": 3
   },
   "file_extension": ".py",
   "mimetype": "text/x-python",
   "name": "python",
   "nbconvert_exporter": "python",
   "pygments_lexer": "ipython3",
   "version": "3.10.1"
  }
 },
 "nbformat": 4,
 "nbformat_minor": 5
}
