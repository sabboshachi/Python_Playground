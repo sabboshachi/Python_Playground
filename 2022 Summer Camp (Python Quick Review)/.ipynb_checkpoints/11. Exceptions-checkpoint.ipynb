{
 "cells": [
  {
   "cell_type": "markdown",
   "id": "a7a4ed99",
   "metadata": {},
   "source": [
    "# Exceptions\n",
    "\n",
    "Exceptions helps us to respond appropiately to errors that are likey to occur.\n",
    "We place code that might cause an error in the try block. \n",
    "Code that should run in response to an error gors in the except block. Code tha should run only if the try block was \n",
    "successful gose in the else block."
   ]
  },
  {
   "cell_type": "code",
   "execution_count": 14,
   "id": "43aec074",
   "metadata": {},
   "outputs": [
    {
     "name": "stdout",
     "output_type": "stream",
     "text": [
      "How many tickets do want?\n",
      "2\n",
      "Your tickets are printing.\n"
     ]
    }
   ],
   "source": [
    "prompt = \"How many tickets do want?\\n\"\n",
    "\n",
    "num_ticktes = input(prompt)\n",
    "\n",
    "try:\n",
    "    num_ticktes = int(num_ticktes)\n",
    "except ValueError:\n",
    "    print(\"Please try again.\")\n",
    "else:\n",
    "    print(\"Your tickets are printing.\")"
   ]
  }
 ],
 "metadata": {
  "kernelspec": {
   "display_name": "Python 3 (ipykernel)",
   "language": "python",
   "name": "python3"
  },
  "language_info": {
   "codemirror_mode": {
    "name": "ipython",
    "version": 3
   },
   "file_extension": ".py",
   "mimetype": "text/x-python",
   "name": "python",
   "nbconvert_exporter": "python",
   "pygments_lexer": "ipython3",
   "version": "3.10.1"
  }
 },
 "nbformat": 4,
 "nbformat_minor": 5
}
