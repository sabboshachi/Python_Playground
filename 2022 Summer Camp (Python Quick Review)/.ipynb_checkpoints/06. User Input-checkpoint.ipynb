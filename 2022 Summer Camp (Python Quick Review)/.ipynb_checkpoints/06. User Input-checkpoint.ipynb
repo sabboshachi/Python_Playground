{
 "cells": [
  {
   "cell_type": "markdown",
   "id": "4be6dd42",
   "metadata": {},
   "source": [
    "# User Input\n",
    "\n",
    "Our program can be prompt the user for input. All input is stored as a string."
   ]
  },
  {
   "cell_type": "markdown",
   "id": "205eb368",
   "metadata": {},
   "source": [
    "### Prompting for a value"
   ]
  },
  {
   "cell_type": "code",
   "execution_count": 2,
   "id": "c54bcd18",
   "metadata": {},
   "outputs": [
    {
     "name": "stdout",
     "output_type": "stream",
     "text": [
      "What is your name? Sabboshachi Sarkar\n",
      "Hello, Sabboshachi Sarkar!\n"
     ]
    }
   ],
   "source": [
    "name = input(\"What is your name? \")\n",
    "print(\"Hello, \" + name + \"!\")"
   ]
  },
  {
   "cell_type": "markdown",
   "id": "050c6b2c",
   "metadata": {},
   "source": [
    "### Promptng for numerical input"
   ]
  },
  {
   "cell_type": "code",
   "execution_count": 5,
   "id": "634bfe89",
   "metadata": {},
   "outputs": [
    {
     "name": "stdout",
     "output_type": "stream",
     "text": [
      "How old are you? 25\n",
      "What is the value of Pi? 22\n"
     ]
    }
   ],
   "source": [
    "age = input(\"How old are you? \")\n",
    "age = int (age)\n",
    "\n",
    "pi = input(\"What is the value of Pi? \")\n",
    "pi = float(pi)"
   ]
  }
 ],
 "metadata": {
  "kernelspec": {
   "display_name": "Python 3 (ipykernel)",
   "language": "python",
   "name": "python3"
  },
  "language_info": {
   "codemirror_mode": {
    "name": "ipython",
    "version": 3
   },
   "file_extension": ".py",
   "mimetype": "text/x-python",
   "name": "python",
   "nbconvert_exporter": "python",
   "pygments_lexer": "ipython3",
   "version": "3.10.1"
  }
 },
 "nbformat": 4,
 "nbformat_minor": 5
}
