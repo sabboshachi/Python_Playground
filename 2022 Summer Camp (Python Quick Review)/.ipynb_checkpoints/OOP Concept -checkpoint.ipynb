{
 "cells": [
  {
   "cell_type": "markdown",
   "id": "7c263a9d",
   "metadata": {},
   "source": [
    "# Object Oriented Programming with Python\n",
    "## (freeCodeCamp.org)\n",
    "\n",
    "This is the *[Tutorial Video link](https://www.youtube.com/watch?v=Ej_02ICOIgs)*."
   ]
  },
  {
   "cell_type": "code",
   "execution_count": 1,
   "id": "2b1f8a98",
   "metadata": {},
   "outputs": [],
   "source": [
    "item1 = \"Phone\"\n",
    "item1_price = 100\n",
    "item1_quantity = 5\n",
    "\n",
    "item1_price_total = item1_price * item1_quantity"
   ]
  },
  {
   "cell_type": "markdown",
   "id": "06e47bd2",
   "metadata": {},
   "source": [
    "### Checking the datatype of the variables"
   ]
  },
  {
   "cell_type": "code",
   "execution_count": 5,
   "id": "08ab359e",
   "metadata": {},
   "outputs": [
    {
     "name": "stdout",
     "output_type": "stream",
     "text": [
      "<class 'str'>\n",
      "<class 'int'>\n",
      "<class 'int'>\n",
      "<class 'int'>\n"
     ]
    }
   ],
   "source": [
    "print(type(item1))\n",
    "print(type(item1_price))\n",
    "print(type(item1_quantity))\n",
    "print(type(item1_price_total))"
   ]
  },
  {
   "cell_type": "markdown",
   "id": "f569523c",
   "metadata": {},
   "source": [
    "### Creating Class"
   ]
  },
  {
   "cell_type": "code",
   "execution_count": 3,
   "id": "7ca7f544",
   "metadata": {},
   "outputs": [],
   "source": [
    "class Item:  \n",
    "    pass\n",
    "\n",
    "###### Creating instanses ######\n",
    "item1 = Item()\n",
    "\n",
    "###### Creating Attributes ######\n",
    "item1.name = \"Phone\"\n",
    "item1.price = 100\n",
    "item1.quantity = 5 \n"
   ]
  },
  {
   "cell_type": "code",
   "execution_count": 7,
   "id": "3c39595a",
   "metadata": {},
   "outputs": [
    {
     "name": "stdout",
     "output_type": "stream",
     "text": [
      "<class '__main__.Item'>\n",
      "<class 'str'>\n",
      "<class 'int'>\n",
      "<class 'int'>\n"
     ]
    }
   ],
   "source": [
    "print(type(item1))\n",
    "print(type(item1.name))\n",
    "print(type(item1.price))\n",
    "print(type(item1.quantity))\n"
   ]
  },
  {
   "cell_type": "code",
   "execution_count": null,
   "id": "ca95dbda",
   "metadata": {},
   "outputs": [],
   "source": []
  }
 ],
 "metadata": {
  "kernelspec": {
   "display_name": "Python 3 (ipykernel)",
   "language": "python",
   "name": "python3"
  },
  "language_info": {
   "codemirror_mode": {
    "name": "ipython",
    "version": 3
   },
   "file_extension": ".py",
   "mimetype": "text/x-python",
   "name": "python",
   "nbconvert_exporter": "python",
   "pygments_lexer": "ipython3",
   "version": "3.10.1"
  }
 },
 "nbformat": 4,
 "nbformat_minor": 5
}
