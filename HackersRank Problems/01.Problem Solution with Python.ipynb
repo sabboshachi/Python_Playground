{
 "cells": [
  {
   "cell_type": "markdown",
   "id": "a778ebbd",
   "metadata": {},
   "source": [
    "### 01. List Comprehensions"
   ]
  },
  {
   "cell_type": "code",
   "execution_count": 11,
   "id": "0196d1ca",
   "metadata": {},
   "outputs": [
    {
     "name": "stdout",
     "output_type": "stream",
     "text": [
      "1\n",
      "2\n",
      "1\n",
      "2\n",
      "[(1, 2, 1), (1, 1, 2), (2, 1, 1), (2, 1, 1), (1, 1, 2), (1, 2, 1)]\n"
     ]
    }
   ],
   "source": [
    "#################### Test Code ####################\n",
    "from itertools import permutations\n",
    "x = int(input())\n",
    "y = int(input())\n",
    "z = int(input())\n",
    "n = int(input())\n",
    "perm = list(permutations([x,y,z]))\n",
    "print(perm)"
   ]
  },
  {
   "cell_type": "code",
   "execution_count": 18,
   "id": "9db6944a",
   "metadata": {},
   "outputs": [
    {
     "name": "stdout",
     "output_type": "stream",
     "text": [
      "1\n",
      "2\n",
      "1\n",
      "3\n",
      "{(0, 0, 0)}\n",
      "{(1, 0, 0), (0, 0, 1), (0, 1, 0)}\n",
      "{(1, 0, 0), (0, 0, 1), (0, 1, 0)}\n",
      "{(1, 0, 1), (1, 1, 0), (0, 1, 1)}\n",
      "{(0, 2, 0), (0, 0, 2), (2, 0, 0)}\n",
      "{(0, 2, 1), (1, 2, 0), (2, 1, 0), (2, 0, 1), (0, 1, 2), (1, 0, 2)}\n",
      "{(1, 0, 0), (0, 0, 1), (0, 1, 0)}\n",
      "{(1, 0, 1), (1, 1, 0), (0, 1, 1)}\n",
      "{(1, 0, 1), (1, 1, 0), (0, 1, 1)}\n",
      "{(1, 1, 1)}\n",
      "{(0, 2, 1), (1, 2, 0), (2, 1, 0), (2, 0, 1), (0, 1, 2), (1, 0, 2)}\n",
      "{(1, 2, 1), (2, 1, 1), (1, 1, 2)}\n"
     ]
    }
   ],
   "source": [
    "#################### Test Code ####################\n",
    "x = int(input())\n",
    "y = int(input())\n",
    "z = int(input())\n",
    "n = int(input())\n",
    "for x in range(x+1):\n",
    "    for y in range(y+1):\n",
    "        for z in range(z+1):\n",
    "            perm = list(permutations([x,y,z]))\n",
    "            print(set(perm))\n",
    "            "
   ]
  },
  {
   "cell_type": "code",
   "execution_count": 12,
   "id": "6cbe98e5",
   "metadata": {},
   "outputs": [
    {
     "name": "stdout",
     "output_type": "stream",
     "text": [
      "1\n",
      "2\n",
      "3\n",
      "3\n",
      "[[0, 0, 0], [0, 0, 1], [0, 0, 2], [0, 1, 0], [0, 1, 1], [0, 1, 3], [0, 2, 0], [0, 2, 2], [0, 2, 3], [1, 0, 0], [1, 0, 1], [1, 0, 3], [1, 1, 0], [1, 1, 2], [1, 1, 3], [1, 2, 1], [1, 2, 2], [1, 2, 3]]\n"
     ]
    }
   ],
   "source": [
    "#################### Submitted Code ####################\n",
    "\n",
    "x = int(input())\n",
    "y = int(input())\n",
    "z = int(input())\n",
    "n = int(input())\n",
    "\n",
    "print([[i,j,k] for i in range(x+1) for j in range(y+1) for k in range(z+1) if i+j+k!=n])"
   ]
  },
  {
   "cell_type": "markdown",
   "id": "d25a1fd1",
   "metadata": {},
   "source": [
    "### Find the Runner-Up Score!"
   ]
  },
  {
   "cell_type": "code",
   "execution_count": 20,
   "id": "86913897",
   "metadata": {},
   "outputs": [
    {
     "name": "stdout",
     "output_type": "stream",
     "text": [
      "123456789\n"
     ]
    }
   ],
   "source": [
    "arr = map(int, input().split())"
   ]
  },
  {
   "cell_type": "code",
   "execution_count": 22,
   "id": "823b6b66",
   "metadata": {},
   "outputs": [
    {
     "name": "stdout",
     "output_type": "stream",
     "text": [
      "2\n",
      "3\n"
     ]
    }
   ],
   "source": [
    "n = int(input())\n",
    "arr = map(int, input().split())"
   ]
  },
  {
   "cell_type": "code",
   "execution_count": 55,
   "id": "60d72870",
   "metadata": {},
   "outputs": [
    {
     "name": "stdout",
     "output_type": "stream",
     "text": [
      "5\n",
      "3 5 5 5 5\n",
      "3\n"
     ]
    }
   ],
   "source": [
    "#################### Submitted Code ####################\n",
    "\n",
    "if __name__ == '__main__':\n",
    "    n = int(input())\n",
    "    arr = map(int, input().split())\n",
    "    arr=set(arr)\n",
    "    a=max(arr)\n",
    "    arr.remove(a)\n",
    "    print(max(arr))"
   ]
  },
  {
   "cell_type": "markdown",
   "id": "98d8f3f7",
   "metadata": {},
   "source": [
    "### Nested Lists"
   ]
  },
  {
   "cell_type": "code",
   "execution_count": 73,
   "id": "2db8e650",
   "metadata": {
    "scrolled": true
   },
   "outputs": [
    {
     "name": "stdout",
     "output_type": "stream",
     "text": [
      "3\n",
      "Tekka\n",
      "99.8\n",
      "Sandy\n",
      "98.9\n",
      "Leo\n",
      "96.5\n"
     ]
    }
   ],
   "source": [
    "if __name__ == '__main__':\n",
    "    data = []\n",
    "    scorelist = []\n",
    "    for _ in range(int(input())):\n",
    "        name = input()\n",
    "        score = float(input())\n",
    "        a = list([name, score])\n",
    "        data.append(a)\n",
    "        scorelist.append(score)\n",
    "        \n",
    "        "
   ]
  },
  {
   "cell_type": "code",
   "execution_count": 74,
   "id": "3535fc72",
   "metadata": {},
   "outputs": [
    {
     "name": "stdout",
     "output_type": "stream",
     "text": [
      "['Leo', 96.5]\n"
     ]
    }
   ],
   "source": [
    "print(a)"
   ]
  },
  {
   "cell_type": "code",
   "execution_count": 76,
   "id": "cb7b7016",
   "metadata": {},
   "outputs": [
    {
     "name": "stdout",
     "output_type": "stream",
     "text": [
      "[['Tekka', 99.8], ['Sandy', 98.9], ['Leo', 96.5]]\n"
     ]
    }
   ],
   "source": [
    "print(data)"
   ]
  },
  {
   "cell_type": "code",
   "execution_count": 81,
   "id": "a018d9f6",
   "metadata": {},
   "outputs": [
    {
     "name": "stdout",
     "output_type": "stream",
     "text": [
      "[99.8, 98.9, 96.5]\n"
     ]
    }
   ],
   "source": [
    "print(scorelist)"
   ]
  },
  {
   "cell_type": "code",
   "execution_count": 83,
   "id": "bc4b5e2e",
   "metadata": {},
   "outputs": [
    {
     "name": "stdout",
     "output_type": "stream",
     "text": [
      "99.8\n"
     ]
    }
   ],
   "source": [
    "p = max(scorelist)\n",
    "print(p)"
   ]
  },
  {
   "cell_type": "code",
   "execution_count": 86,
   "id": "a7af083e",
   "metadata": {},
   "outputs": [
    {
     "name": "stdout",
     "output_type": "stream",
     "text": [
      "[['Tekka', 99.8], ['Sandy', 98.9], ['Leo', 96.5]]\n"
     ]
    }
   ],
   "source": [
    "print(data)"
   ]
  },
  {
   "cell_type": "code",
   "execution_count": 95,
   "id": "b7388253",
   "metadata": {},
   "outputs": [
    {
     "ename": "AttributeError",
     "evalue": "'builtin_function_or_method' object has no attribute 'data'",
     "output_type": "error",
     "traceback": [
      "\u001b[1;31m---------------------------------------------------------------------------\u001b[0m",
      "\u001b[1;31mAttributeError\u001b[0m                            Traceback (most recent call last)",
      "Cell \u001b[1;32mIn[95], line 1\u001b[0m\n\u001b[1;32m----> 1\u001b[0m \u001b[38;5;28mprint\u001b[39m(\u001b[38;5;28;43mmax\u001b[39;49m\u001b[38;5;241;43m.\u001b[39;49m\u001b[43mdata\u001b[49m(score))\n",
      "\u001b[1;31mAttributeError\u001b[0m: 'builtin_function_or_method' object has no attribute 'data'"
     ]
    }
   ],
   "source": []
  },
  {
   "cell_type": "code",
   "execution_count": 70,
   "id": "3e410a66",
   "metadata": {},
   "outputs": [
    {
     "name": "stdout",
     "output_type": "stream",
     "text": [
      "[['leo', 90.2], ['sandy', 91.2], ['tekka', 89.9]]\n"
     ]
    }
   ],
   "source": [
    "print(sorted(b))"
   ]
  },
  {
   "cell_type": "code",
   "execution_count": 71,
   "id": "52d2fbe6",
   "metadata": {},
   "outputs": [
    {
     "name": "stdout",
     "output_type": "stream",
     "text": [
      "['tekka', 89.9]\n"
     ]
    }
   ],
   "source": [
    "print(max(b))"
   ]
  },
  {
   "cell_type": "code",
   "execution_count": 72,
   "id": "58951dcd",
   "metadata": {},
   "outputs": [
    {
     "name": "stdout",
     "output_type": "stream",
     "text": [
      "['leo', 90.2]\n"
     ]
    }
   ],
   "source": [
    "print(min(b))"
   ]
  },
  {
   "cell_type": "code",
   "execution_count": 49,
   "id": "c14002cf",
   "metadata": {},
   "outputs": [],
   "source": [
    "c = min(b)"
   ]
  },
  {
   "cell_type": "code",
   "execution_count": 50,
   "id": "1b6c5f37",
   "metadata": {},
   "outputs": [],
   "source": [
    "b.remove(c)"
   ]
  },
  {
   "cell_type": "code",
   "execution_count": 51,
   "id": "78b743df",
   "metadata": {},
   "outputs": [
    {
     "name": "stdout",
     "output_type": "stream",
     "text": [
      "[['tekka', 50.5]]\n"
     ]
    }
   ],
   "source": [
    "print(b)"
   ]
  },
  {
   "cell_type": "code",
   "execution_count": null,
   "id": "ea3780ee",
   "metadata": {},
   "outputs": [],
   "source": []
  }
 ],
 "metadata": {
  "kernelspec": {
   "display_name": "Python 3 (ipykernel)",
   "language": "python",
   "name": "python3"
  },
  "language_info": {
   "codemirror_mode": {
    "name": "ipython",
    "version": 3
   },
   "file_extension": ".py",
   "mimetype": "text/x-python",
   "name": "python",
   "nbconvert_exporter": "python",
   "pygments_lexer": "ipython3",
   "version": "3.11.1"
  }
 },
 "nbformat": 4,
 "nbformat_minor": 5
}
