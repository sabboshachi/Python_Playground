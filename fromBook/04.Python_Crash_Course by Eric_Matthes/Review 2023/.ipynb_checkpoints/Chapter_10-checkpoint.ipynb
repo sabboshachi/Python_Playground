{
 "cells": [
  {
   "cell_type": "markdown",
   "id": "ab40918f",
   "metadata": {},
   "source": [
    "# FILES AND EXCEPTIONS"
   ]
  },
  {
   "cell_type": "markdown",
   "id": "f6a78fd5",
   "metadata": {},
   "source": [
    "### Reading from a File"
   ]
  },
  {
   "cell_type": "markdown",
   "id": "15fa8785",
   "metadata": {},
   "source": [
    "When you want to work with the information in a text file, the first step \n",
    "is to read the file into memory. You can read the entire contents of a file, or \n",
    "you can work through the file one line at a time."
   ]
  },
  {
   "cell_type": "markdown",
   "id": "baccb8a4",
   "metadata": {},
   "source": [
    "### Reading an Entire File"
   ]
  },
  {
   "cell_type": "code",
   "execution_count": 1,
   "id": "fc1ac0a7",
   "metadata": {},
   "outputs": [
    {
     "name": "stdout",
     "output_type": "stream",
     "text": [
      "3.141592653589793238462643383279\n"
     ]
    }
   ],
   "source": [
    "with open('pi.txt') as file_object:\n",
    "    contents = file_object.read()\n",
    "    print(contents)"
   ]
  },
  {
   "cell_type": "markdown",
   "id": "005bd664",
   "metadata": {},
   "source": [
    "The first line of this program has a lot going on. Let’s start by looking \n",
    "at the open() function. To do any work with a file, even just printing its con\u0002tents, you first need to open the file to access it. The open() function needs \n",
    "one argument: the name of the file you want to open. Python looks for this \n",
    "file in the directory where the program that’s currently being executed is \n",
    "stored. In this example, file_reader.py is currently running, so Python looks \n",
    "for pi_digits.txt in the directory where file_reader.py is stored. The open()\n",
    "function returns an object representing the file. Here, open('pi_digits.txt')\n",
    "returns an object representing pi_digits.txt. Python stores this object in \n",
    "file_object, which we’ll work with later in the program.\n",
    "\n",
    "The keyword with closes the file once access to it is no longer needed. \n",
    "Notice how we call open() in this program but not close(). You could open and close the file by calling open() and close(), but if a bug in your program \n",
    "prevents the close() statement from being executed, the file may never \n",
    "close. This may seem trivial, but improperly closed files can cause data \n",
    "to be lost or corrupted. And if you call close() too early in your program, \n",
    "you’ll find yourself trying to work with a closed file (a file you can’t access), \n",
    "which leads to more errors. It’s not always easy to know exactly when you \n",
    "should close a file, but with the structure shown here, Python will figure that \n",
    "out for you. All you have to do is open the file and work with it as desired, \n",
    "trusting that Python will close it automatically when the time is right.\n",
    "\n",
    "Once we have a file object representing pi_digits.txt, we use the read()\n",
    "method in the second line of our program to read the entire contents of \n",
    "the file and store it as one long string in contents. When we print the value \n",
    "of contents, we get the entire text file back:"
   ]
  },
  {
   "cell_type": "markdown",
   "id": "d6b04915",
   "metadata": {},
   "source": [
    "### File Paths"
   ]
  },
  {
   "cell_type": "code",
   "execution_count": null,
   "id": "5f22c466",
   "metadata": {},
   "outputs": [],
   "source": [
    "with open('text_files/filename.txt') as file_object:"
   ]
  },
  {
   "cell_type": "markdown",
   "id": "fd175f53",
   "metadata": {},
   "source": [
    "This line tells Python to look for the desired .txt file in the folder \n",
    "text_files and assumes that text_files is located inside python_work (which it is). \n",
    "On Windows systems, you use a backslash (\\) instead of a forward slash (/) \n",
    "in the file path"
   ]
  },
  {
   "cell_type": "code",
   "execution_count": null,
   "id": "6db0ffa6",
   "metadata": {},
   "outputs": [],
   "source": [
    "file_path = 'C:\\Users\\ehmatthes\\other_files\\text_files\\filename.txt'\n",
    "with open(file_path) as file_object:"
   ]
  },
  {
   "cell_type": "markdown",
   "id": "ec47625e",
   "metadata": {},
   "source": [
    "### Reading Line by Line"
   ]
  },
  {
   "cell_type": "code",
   "execution_count": 2,
   "id": "fe71699a",
   "metadata": {},
   "outputs": [
    {
     "name": "stdout",
     "output_type": "stream",
     "text": [
      "3.141592653589793238462643383279\n"
     ]
    }
   ],
   "source": [
    "filename = \"pi.txt\"\n",
    "\n",
    "with open(filename) as file_object:\n",
    "    for line in file_object:\n",
    "        print(line.rstrip())"
   ]
  },
  {
   "cell_type": "markdown",
   "id": "4cd8e43d",
   "metadata": {},
   "source": [
    "### Making a List of Lines from a File"
   ]
  },
  {
   "cell_type": "code",
   "execution_count": 3,
   "id": "6849609f",
   "metadata": {},
   "outputs": [
    {
     "name": "stdout",
     "output_type": "stream",
     "text": [
      "3.141592653589793238462643383279\n"
     ]
    }
   ],
   "source": [
    "filename = \"pi.txt\"\n",
    "\n",
    "with open(filename) as file_object:\n",
    "    lines = file_object.readlines()\n",
    "    \n",
    "for line in lines:\n",
    "    print(line.rstrip())"
   ]
  },
  {
   "cell_type": "markdown",
   "id": "4bbf1891",
   "metadata": {},
   "source": [
    "### Working with a File’s Contents"
   ]
  },
  {
   "cell_type": "code",
   "execution_count": 6,
   "id": "51d4dab0",
   "metadata": {},
   "outputs": [
    {
     "name": "stdout",
     "output_type": "stream",
     "text": [
      "3.141592653589793238462643383279\n",
      "32\n"
     ]
    }
   ],
   "source": [
    "filename = \"pi.txt\"\n",
    "\n",
    "with open(filename) as file_object:\n",
    "    lines = file_object.readlines()\n",
    "    \n",
    "pi_string = \"\"\n",
    "\n",
    "for line in lines:\n",
    "    pi_string += line.rstrip()\n",
    "    \n",
    "print(pi_string)\n",
    "print(len(pi_string))"
   ]
  },
  {
   "cell_type": "markdown",
   "id": "ba730cb2",
   "metadata": {},
   "source": [
    "# Writing to a File"
   ]
  },
  {
   "cell_type": "markdown",
   "id": "c4ea92fc",
   "metadata": {},
   "source": [
    "### Writing to an Empty File"
   ]
  },
  {
   "cell_type": "code",
   "execution_count": 15,
   "id": "4bf11107",
   "metadata": {},
   "outputs": [],
   "source": [
    "filename = \"programming.txt\"\n",
    "\n",
    "with open(filename, \"w\") as file_object:\n",
    "    file_object.write(\"Hi, I'm Sabboshachi Sarkar. I love Programming! \")\n",
    "    file_object.write(\"I love creating new games.\")"
   ]
  },
  {
   "cell_type": "code",
   "execution_count": 18,
   "id": "fcfbf96f",
   "metadata": {},
   "outputs": [
    {
     "name": "stdout",
     "output_type": "stream",
     "text": [
      "Hi, I'm Sabboshachi Sarkar. I love Programming! I love creating new games.I also love finding meaning in large datasets.\n",
      "I love creating apps that can run in a browser.\n",
      "\n"
     ]
    }
   ],
   "source": [
    "with open('programming.txt') as file_object:\n",
    "    contents = file_object.read()\n",
    "    print(contents)"
   ]
  },
  {
   "cell_type": "markdown",
   "id": "634cddc3",
   "metadata": {},
   "source": [
    "### Appending to a File"
   ]
  },
  {
   "cell_type": "code",
   "execution_count": 17,
   "id": "1a1cd6c8",
   "metadata": {},
   "outputs": [],
   "source": [
    "filename = \"programming.txt\"\n",
    "with open(filename, 'a') as file_object:\n",
    "    file_object.write(\"I also love finding meaning in large datasets.\\n\")\n",
    "    file_object.write(\"I love creating apps that can run in a browser.\\n\")"
   ]
  },
  {
   "cell_type": "markdown",
   "id": "7fb928ce",
   "metadata": {},
   "source": [
    "# Exceptions"
   ]
  },
  {
   "cell_type": "markdown",
   "id": "c666bfcc",
   "metadata": {},
   "source": [
    "### Using try-except Blocks"
   ]
  },
  {
   "cell_type": "markdown",
   "id": "291f1ba1",
   "metadata": {},
   "source": [
    "When you think an error may occur, you can write a try-except block to \n",
    "handle the exception that might be raised. You tell Python to try running \n",
    "some code, and you tell it what to do if the code results in a particular kind \n",
    "of exception."
   ]
  },
  {
   "cell_type": "code",
   "execution_count": 20,
   "id": "7623dd49",
   "metadata": {},
   "outputs": [
    {
     "ename": "ZeroDivisionError",
     "evalue": "division by zero",
     "output_type": "error",
     "traceback": [
      "\u001b[1;31m---------------------------------------------------------------------------\u001b[0m",
      "\u001b[1;31mZeroDivisionError\u001b[0m                         Traceback (most recent call last)",
      "Cell \u001b[1;32mIn[20], line 1\u001b[0m\n\u001b[1;32m----> 1\u001b[0m \u001b[38;5;28mprint\u001b[39m(\u001b[38;5;241;43m5\u001b[39;49m\u001b[38;5;241;43m/\u001b[39;49m\u001b[38;5;241;43m0\u001b[39;49m)\n",
      "\u001b[1;31mZeroDivisionError\u001b[0m: division by zero"
     ]
    }
   ],
   "source": [
    "print(5/0)"
   ]
  },
  {
   "cell_type": "code",
   "execution_count": 21,
   "id": "247c1707",
   "metadata": {},
   "outputs": [
    {
     "name": "stdout",
     "output_type": "stream",
     "text": [
      "You can't divide by zero!\n"
     ]
    }
   ],
   "source": [
    "try:\n",
    "    print(5/0)\n",
    "except ZeroDivisionError:\n",
    "    print(\"You can't divide by zero!\")"
   ]
  },
  {
   "cell_type": "markdown",
   "id": "2350545e",
   "metadata": {},
   "source": [
    "We put print(5/0), the line that caused the error, inside a try block. If \n",
    "the code in a try block works, Python skips over the except block. If the code \n",
    "in the try block causes an error, Python looks for an except block whose \n",
    "error matches the one that was raised and runs the code in that block.\n",
    "In this example, the code in the try block produces a ZeroDivisionError, \n",
    "so Python looks for an except block telling it how to respond. Python then \n",
    "runs the code in that block, and the user sees a friendly error message \n",
    "instead of a traceback"
   ]
  }
 ],
 "metadata": {
  "kernelspec": {
   "display_name": "Python 3 (ipykernel)",
   "language": "python",
   "name": "python3"
  },
  "language_info": {
   "codemirror_mode": {
    "name": "ipython",
    "version": 3
   },
   "file_extension": ".py",
   "mimetype": "text/x-python",
   "name": "python",
   "nbconvert_exporter": "python",
   "pygments_lexer": "ipython3",
   "version": "3.11.1"
  }
 },
 "nbformat": 4,
 "nbformat_minor": 5
}
