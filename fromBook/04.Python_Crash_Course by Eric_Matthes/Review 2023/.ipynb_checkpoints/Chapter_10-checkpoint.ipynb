{
 "cells": [
  {
   "cell_type": "markdown",
   "id": "ab40918f",
   "metadata": {},
   "source": [
    "# FILES AND EXCEPTIONS"
   ]
  },
  {
   "cell_type": "markdown",
   "id": "f6a78fd5",
   "metadata": {},
   "source": [
    "### Reading from a File"
   ]
  },
  {
   "cell_type": "markdown",
   "id": "3e8d2131",
   "metadata": {},
   "source": [
    "When you want to work with the information in a text file, the first step \n",
    "is to read the file into memory. You can read the entire contents of a file, or \n",
    "you can work through the file one line at a time."
   ]
  },
  {
   "cell_type": "markdown",
   "id": "2aae296e",
   "metadata": {},
   "source": [
    "### Reading an Entire File"
   ]
  },
  {
   "cell_type": "code",
   "execution_count": null,
   "id": "fc1ac0a7",
   "metadata": {},
   "outputs": [],
   "source": []
  }
 ],
 "metadata": {
  "kernelspec": {
   "display_name": "Python 3 (ipykernel)",
   "language": "python",
   "name": "python3"
  },
  "language_info": {
   "codemirror_mode": {
    "name": "ipython",
    "version": 3
   },
   "file_extension": ".py",
   "mimetype": "text/x-python",
   "name": "python",
   "nbconvert_exporter": "python",
   "pygments_lexer": "ipython3",
   "version": "3.11.1"
  }
 },
 "nbformat": 4,
 "nbformat_minor": 5
}
