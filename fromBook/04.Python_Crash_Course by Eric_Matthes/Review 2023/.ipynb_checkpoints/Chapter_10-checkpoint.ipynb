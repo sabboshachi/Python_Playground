{
 "cells": [
  {
   "cell_type": "markdown",
   "id": "ab40918f",
   "metadata": {},
   "source": [
    "# FILES AND EXCEPTIONS"
   ]
  },
  {
   "cell_type": "markdown",
   "id": "f6a78fd5",
   "metadata": {},
   "source": [
    "### Reading from a File"
   ]
  },
  {
   "cell_type": "markdown",
   "id": "12b306c2",
   "metadata": {},
   "source": [
    "When you want to work with the information in a text file, the first step \n",
    "is to read the file into memory. You can read the entire contents of a file, or \n",
    "you can work through the file one line at a time."
   ]
  },
  {
   "cell_type": "markdown",
   "id": "4a7626b3",
   "metadata": {},
   "source": [
    "### Reading an Entire File"
   ]
  },
  {
   "cell_type": "code",
   "execution_count": 1,
   "id": "fc1ac0a7",
   "metadata": {},
   "outputs": [
    {
     "name": "stdout",
     "output_type": "stream",
     "text": [
      "3.141592653589793238462643383279\n"
     ]
    }
   ],
   "source": [
    "with open('pi.txt') as file_object:\n",
    "    contents = file_object.read()\n",
    "    print(contents)"
   ]
  },
  {
   "cell_type": "markdown",
   "id": "905b16cd",
   "metadata": {},
   "source": [
    "The first line of this program has a lot going on. Let’s start by looking \n",
    "at the open() function. To do any work with a file, even just printing its con\u0002tents, you first need to open the file to access it. The open() function needs \n",
    "one argument: the name of the file you want to open. Python looks for this \n",
    "file in the directory where the program that’s currently being executed is \n",
    "stored. In this example, file_reader.py is currently running, so Python looks \n",
    "for pi_digits.txt in the directory where file_reader.py is stored. The open()\n",
    "function returns an object representing the file. Here, open('pi_digits.txt')\n",
    "returns an object representing pi_digits.txt. Python stores this object in \n",
    "file_object, which we’ll work with later in the program.\n",
    "\n",
    "The keyword with closes the file once access to it is no longer needed. \n",
    "Notice how we call open() in this program but not close(). You could open and close the file by calling open() and close(), but if a bug in your program \n",
    "prevents the close() statement from being executed, the file may never \n",
    "close. This may seem trivial, but improperly closed files can cause data \n",
    "to be lost or corrupted. And if you call close() too early in your program, \n",
    "you’ll find yourself trying to work with a closed file (a file you can’t access), \n",
    "which leads to more errors. It’s not always easy to know exactly when you \n",
    "should close a file, but with the structure shown here, Python will figure that \n",
    "out for you. All you have to do is open the file and work with it as desired, \n",
    "trusting that Python will close it automatically when the time is right.\n",
    "\n",
    "Once we have a file object representing pi_digits.txt, we use the read()\n",
    "method in the second line of our program to read the entire contents of \n",
    "the file and store it as one long string in contents. When we print the value \n",
    "of contents, we get the entire text file back:"
   ]
  },
  {
   "cell_type": "code",
   "execution_count": null,
   "id": "bece6150",
   "metadata": {},
   "outputs": [],
   "source": []
  }
 ],
 "metadata": {
  "kernelspec": {
   "display_name": "Python 3 (ipykernel)",
   "language": "python",
   "name": "python3"
  },
  "language_info": {
   "codemirror_mode": {
    "name": "ipython",
    "version": 3
   },
   "file_extension": ".py",
   "mimetype": "text/x-python",
   "name": "python",
   "nbconvert_exporter": "python",
   "pygments_lexer": "ipython3",
   "version": "3.11.1"
  }
 },
 "nbformat": 4,
 "nbformat_minor": 5
}
