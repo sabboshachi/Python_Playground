{
 "cells": [
  {
   "cell_type": "markdown",
   "id": "5d29326f",
   "metadata": {},
   "source": [
    "# CLASSES"
   ]
  },
  {
   "cell_type": "markdown",
   "id": "a42296a2",
   "metadata": {},
   "source": [
    "Object-oriented programming is one of the \n",
    "most effective approaches to writing software. \n",
    "\n",
    "In object-oriented programming you \n",
    "write classes that represent real-world things \n",
    "and situations, and you create objects based on these \n",
    "classes. \n",
    "\n",
    "When you write a class, you define the general \n",
    "behavior that a whole category of objects can have. When you create individual objects from the class, each object is automatically equipped with the general behavior, we can then give each object whatever unique triaits we desire.\n",
    "\n",
    "Making an object from a class is called <b>instantiation</b>, and you work with \n",
    "<b>instances</b> of a class."
   ]
  },
  {
   "cell_type": "markdown",
   "id": "884a2a0b",
   "metadata": {},
   "source": [
    "# Creating and Using a Class"
   ]
  },
  {
   "cell_type": "markdown",
   "id": "da0d9e07",
   "metadata": {},
   "source": [
    "We can model almost anything using classes."
   ]
  },
  {
   "cell_type": "markdown",
   "id": "b3014777",
   "metadata": {},
   "source": [
    "### Creating the Dog Class"
   ]
  },
  {
   "cell_type": "code",
   "execution_count": 4,
   "id": "85806481",
   "metadata": {},
   "outputs": [],
   "source": [
    "class Dog(): ### define a class called Dog.\n",
    "    \"\"\"A simple attempt to model a dog\"\"\" ### we write a docstring describing what this class does.\n",
    "    \n",
    "    def __init__(self, name, age):\n",
    "        self.name = name\n",
    "        self.age = age\n",
    "        \n",
    "    def sit(self):\n",
    "        \"\"\"Simulate a dog sitting in response to a command\"\"\"\n",
    "        print(self.name.title() + \" is sitting now.\")\n",
    "        \n",
    "    def roll_over(self):\n",
    "        \"\"\"Simulate rolling over in response to a command\"\"\"\n",
    "        print(self.name.title() + \" rolled over!\")"
   ]
  },
  {
   "cell_type": "code",
   "execution_count": 5,
   "id": "67879388",
   "metadata": {},
   "outputs": [
    {
     "name": "stdout",
     "output_type": "stream",
     "text": [
      "My dog's name is Willie.\n",
      "My dog is 6 years old.\n"
     ]
    }
   ],
   "source": [
    "my_dog = Dog('willie', 6)\n",
    "\n",
    "print(\"My dog's name is \" + my_dog.name.title() + \".\")\n",
    "print(\"My dog is \" + str(my_dog.age) + \" years old.\")"
   ]
  },
  {
   "cell_type": "markdown",
   "id": "25c8a4a8",
   "metadata": {},
   "source": [
    "### **The __init__() Method**\n",
    "\n",
    "A function that’s part of a class is a method. Everything we know about a function applies to methods as well the only practical difference for now is the way we'll call methods. \n",
    "\n",
    "The __init__() method is a special method Python runs automatically whenever we create a new instance based on the Dog Class. This method has two leading underscores and two trailing underscores, a convention that helps prevent python's default method names from confliction with our method names. \n",
    "\n",
    "We define the __init__() method to have three parameters: self, name, \n",
    "and age. The self parameter is required in the method definition, and it \n",
    "must come first before the other parameters.  It must be included in the definition because when Python calls this __init__() method later (to create an instance of Dog),  the method call will automatically pass the self argument. Every method call associated with a class automatically passes self, which \n",
    "is a reference to the instance itself; it gives the individual instance access to \n",
    "the attributes and methods in the class.\n",
    "\n",
    "When we make an instance of Dog, \n",
    "Python will call the __init__() method from the Dog class. We’ll pass Dog()\n",
    "a name and an age as arguments; self is passed automatically, so we don’t \n",
    "need to pass it. Whenever we want to make an instance from the Dog class, \n",
    "we’ll provide values for only the last two parameters, name and age.\n",
    "\n",
    "The two variables have the prefix self. Any variable \n",
    "prefixed with self is available to every method in the class, and we’ll also be \n",
    "able to access these variables through any instance created from the class. self.name = name takes the value stored in the parameter name and stores it \n",
    "in the variable name, which is then attached to the instance being created. \n",
    "The same process happens with self.age = age. Variables that are accessible \n",
    "through instances like this are called <b>attributes</b>.\n",
    "\n",
    "The Dog class has two other methods defined: sit() and roll_over(). Because these methods don’t need additional information like a name \n",
    "or age, we just define them to have one parameter, self. The instances \n",
    "we create later will have access to these methods. In other words, they’ll \n",
    "be able to sit and roll over. For now, sit() and roll_over() don’t do much. \n",
    "They simply print a message saying the dog is sitting or rolling over. But \n",
    "the concept can be extended to realistic situations: if this class were part \n",
    "of an actual computer game, these methods would contain code to make \n",
    "an animated dog sit and roll over. If this class was written to control a \n",
    "robot, these methods would direct movements that cause a dog robot to \n",
    "sit and roll over.\n"
   ]
  },
  {
   "cell_type": "markdown",
   "id": "808110fe",
   "metadata": {},
   "source": [
    "### Accessing Attributes\n",
    "\n",
    "To access the attributes of an instance, you use dot notation."
   ]
  },
  {
   "cell_type": "code",
   "execution_count": null,
   "id": "90c5d037",
   "metadata": {},
   "outputs": [],
   "source": [
    "my_dog.name "
   ]
  },
  {
   "cell_type": "markdown",
   "id": "1b0b2846",
   "metadata": {},
   "source": [
    "### Calling Methods"
   ]
  },
  {
   "cell_type": "code",
   "execution_count": 22,
   "id": "f5b8964c",
   "metadata": {},
   "outputs": [],
   "source": [
    "class Dog(): ### define a class called Dog.\n",
    "    \"\"\"A simple attempt to model a dog\"\"\" ### we write a docstring describing what this class does.\n",
    "    \n",
    "    def __init__(self, name, age):\n",
    "        self.name = name\n",
    "        self.age = age\n",
    "        \n",
    "    def sit(self):\n",
    "        \"\"\"Simulate a dog sitting in response to a command\"\"\"\n",
    "        print(self.name.title() + \" is sitting now.\")\n",
    "        \n",
    "    def roll_over(self):\n",
    "        \"\"\"Simulate rolling over in response to a command\"\"\"\n",
    "        print(self.name.title() + \" rolled over!\")"
   ]
  },
  {
   "cell_type": "code",
   "execution_count": 23,
   "id": "6f11aa1e",
   "metadata": {},
   "outputs": [
    {
     "name": "stdout",
     "output_type": "stream",
     "text": [
      "My Dog's name is Max.\n",
      "His age is 6.\n",
      "\n",
      "\n",
      "Max is sitting now.\n",
      "Max rolled over!\n"
     ]
    }
   ],
   "source": [
    "my_dog = Dog(\"Max\",6)\n",
    "\n",
    "print(\"My Dog's name is \" + my_dog.name.title() + \".\")\n",
    "print(\"His age is \" + str(my_dog.age) + \".\")\n",
    "print(\"\\n\")\n",
    "my_dog.sit()\n",
    "my_dog.roll_over()"
   ]
  },
  {
   "cell_type": "markdown",
   "id": "3eaf4c98",
   "metadata": {},
   "source": [
    "### Creating Multiple Instances"
   ]
  },
  {
   "cell_type": "code",
   "execution_count": 26,
   "id": "40ef4532",
   "metadata": {},
   "outputs": [],
   "source": [
    "class Dog(): ### define a class called Dog.\n",
    "    \"\"\"A simple attempt to model a dog\"\"\" ### we write a docstring describing what this class does.\n",
    "    \n",
    "    def __init__(self, name, age):\n",
    "        self.name = name\n",
    "        self.age = age\n",
    "        \n",
    "    def sit(self):\n",
    "        \"\"\"Simulate a dog sitting in response to a command\"\"\"\n",
    "        print(self.name.title() + \" is sitting now.\")\n",
    "        \n",
    "    def roll_over(self):\n",
    "        \"\"\"Simulate rolling over in response to a command\"\"\"\n",
    "        print(self.name.title() + \" rolled over!\")"
   ]
  },
  {
   "cell_type": "code",
   "execution_count": 29,
   "id": "1b8efe50",
   "metadata": {},
   "outputs": [
    {
     "name": "stdout",
     "output_type": "stream",
     "text": [
      "The name of my dog is Max.\n",
      "He is 6.\n",
      "Your dog's name is Tom.\n",
      "He is just 5.\n",
      "Tom is sitting now.\n",
      "Max rolled over!\n"
     ]
    }
   ],
   "source": [
    "my_dog = Dog(\"Max\", 6)\n",
    "\n",
    "your_dog = Dog(\"Tom\", 5)\n",
    "\n",
    "print(\"The name of my dog is \" + my_dog.name.title() + \".\")\n",
    "print(\"He is \" + str(my_dog.age) + \".\")\n",
    "\n",
    "print(\"Your dog's name is \" + your_dog.name.title() + \".\")\n",
    "print(\"He is just \" + str(your_dog.age) + \".\")\n",
    "\n",
    "your_dog.sit()\n",
    "my_dog.roll_over()"
   ]
  },
  {
   "cell_type": "markdown",
   "id": "1f08ee59",
   "metadata": {},
   "source": [
    "# ********************** EXERCISE **********************"
   ]
  },
  {
   "cell_type": "markdown",
   "id": "7608db80",
   "metadata": {},
   "source": [
    "<b>9-1 Restaurant:</b> Make a class called Restaurant. The __init__() method for \n",
    "Restaurant should store two attributes: a restaurant_name and a cuisine_type.\n",
    "Make a method called describe_restaurant() that prints these two pieces of \n",
    "information, and a method called open_restaurant() that prints a message indicating that the restaurant is open.\n",
    "\n",
    "Make an instance called restaurant from your class. Print the two attributes individually and then call both methods."
   ]
  },
  {
   "cell_type": "code",
   "execution_count": 39,
   "id": "fe89f735",
   "metadata": {},
   "outputs": [
    {
     "name": "stdout",
     "output_type": "stream",
     "text": [
      "The name of the restaurant is Hideout.\n",
      "Cuisine type: Biriyani.\n",
      "The restaurant is open from 10am to 12am.\n",
      "The name of the restaurant is Black Cafe.\n",
      "Cuisine type: Chicken Fry.\n",
      "The restaurant is open from 10am to 12am.\n"
     ]
    }
   ],
   "source": [
    "class Restaurant():\n",
    "    def __init__(self, restaurant_name, cuisine_type):\n",
    "        self.name = restaurant_name\n",
    "        self.cuisine = cuisine_type\n",
    "        \n",
    "    def describe_restaurant(self):\n",
    "        print(\"The name of the restaurant is \" + self.name.title() + \".\")\n",
    "        print(\"Cuisine type: \" + self.cuisine.title() + \".\")\n",
    "        \n",
    "    def open_restaurant(self):\n",
    "        print(\"The restaurant is open from 10am to 12am.\")\n",
    "        \n",
    "my_fav_restaurant = Restaurant(\"Hideout\", \"Biriyani\")\n",
    "your_fav_restaurant = Restaurant(\"Black Cafe\", \"Chicken Fry\")\n",
    "\n",
    "my_fav_restaurant.describe_restaurant()\n",
    "my_fav_restaurant.open_restaurant()\n",
    "\n",
    "your_fav_restaurant.describe_restaurant()\n",
    "your_fav_restaurant.open_restaurant()\n"
   ]
  },
  {
   "cell_type": "markdown",
   "id": "9ef4feca",
   "metadata": {},
   "source": [
    "<b>9-2 Three Restaurants:</b> Start with your class from Exercise 9-1. Create three \n",
    "different instances from the class, and call describe_restaurant() for each \n",
    "instance."
   ]
  },
  {
   "cell_type": "markdown",
   "id": "da511232",
   "metadata": {},
   "source": [
    "<b>9-3 Users:</b> Make a class called User. Create two attributes called first_name\n",
    "and last_name, and then create several other attributes that are typically stored \n",
    "in a user profile. Make a method called describe_user() that prints a summary \n",
    "of the user’s information. Make another method called greet_user() that prints \n",
    "a personalized greeting to the user.\n",
    "\n",
    "Create several instances representing different users, and call both methods \n",
    "for each user.\n"
   ]
  },
  {
   "cell_type": "code",
   "execution_count": 49,
   "id": "59f8e269",
   "metadata": {},
   "outputs": [
    {
     "name": "stdout",
     "output_type": "stream",
     "text": [
      "The name of the user is : Susmita Dey.\n",
      "He/She lives in USA and his/her age is 23.\n",
      "The name of the user is : Sabboshachi Sarkar.\n",
      "He/She lives in Rajshahi and his/her age is 26.\n"
     ]
    }
   ],
   "source": [
    "class User():\n",
    "    def __init__(self, first_name, last_name, age, location):\n",
    "        self.first = first_name\n",
    "        self.last = last_name\n",
    "        self.age = age\n",
    "        self.location = location\n",
    "    def describe_user(self):\n",
    "        print(\"The name of the user is : \" + self.first.title() + \" \" + self.last.title() + \".\")\n",
    "        print(\"He/She lives in \" + self.location + \" and his/her age is \" + str(self.age) + \".\")\n",
    "    def greet_user(self):\n",
    "        print(\"Hello, \" + self.first.title() + self.last.title() + \".\")\n",
    "        \n",
    "user_01 = User(\"Sabboshachi\", \"Sarkar\", 26, \"Rajshahi\")\n",
    "user_02 = User(\"Susmita\", \"Dey\", 23, \"USA\")\n",
    "\n",
    "user_02.describe_user()\n",
    "user_01.describe_user()"
   ]
  },
  {
   "cell_type": "code",
   "execution_count": 50,
   "id": "52ae501a",
   "metadata": {},
   "outputs": [
    {
     "name": "stdout",
     "output_type": "stream",
     "text": [
      "The name of the user is : Susmita Dey.\n",
      "He/She lives in USA and his/her age is 23.\n",
      "The name of the user is : Sabboshachi Sarkar.\n",
      "He/She lives in Rajshahi and his/her age is 26.\n"
     ]
    }
   ],
   "source": [
    "class User():\n",
    "    def __init__(self, first_name, last_name, age, location = \"\"): ### if we want to skip an attribute\n",
    "        self.first = first_name\n",
    "        self.last = last_name\n",
    "        self.age = age\n",
    "        self.location = location\n",
    "    def describe_user(self):\n",
    "        print(\"The name of the user is : \" + self.first.title() + \" \" + self.last.title() + \".\")\n",
    "        print(\"He/She lives in \" + self.location + \" and his/her age is \" + str(self.age) + \".\")\n",
    "    def greet_user(self):\n",
    "        print(\"Hello, \" + self.first.title() + self.last.title() + \".\")\n",
    "        \n",
    "user_01 = User(\"Sabboshachi\", \"Sarkar\", 26, \"Rajshahi\")\n",
    "user_02 = User(\"Susmita\", \"Dey\", 23, \"USA\")\n",
    "\n",
    "user_02.describe_user()\n",
    "user_01.describe_user()"
   ]
  },
  {
   "cell_type": "markdown",
   "id": "6fe4940f",
   "metadata": {},
   "source": [
    "# Working with Classes and Instances"
   ]
  },
  {
   "cell_type": "markdown",
   "id": "49667a5e",
   "metadata": {},
   "source": [
    "We can use classes to represent many real world situations. Once we write a class, we'll spend most of our time with the instances created from that class. One of the first tasks we'll want to do is modify the attributes associated with a particular instance. We can modify the attributes of an instances directly or write the methods that update attributes in specific ways."
   ]
  },
  {
   "cell_type": "markdown",
   "id": "864efedb",
   "metadata": {},
   "source": [
    "### The Car Class"
   ]
  },
  {
   "cell_type": "code",
   "execution_count": 8,
   "id": "6c1944ef",
   "metadata": {},
   "outputs": [
    {
     "name": "stdout",
     "output_type": "stream",
     "text": [
      "2016 Audi A4\n"
     ]
    }
   ],
   "source": [
    "class Car():\n",
    "    \"\"\"A simple attempt to represent a car.\"\"\"\n",
    "    \n",
    "    def __init__(self, make, model, year):\n",
    "        \"\"\"Initialize attributes to describe a car.\"\"\"\n",
    "        \n",
    "        self.make = make\n",
    "        self.model = model\n",
    "        self.year = year\n",
    "        \n",
    "    def get_descriptive_name(self):\n",
    "        \"\"\"Return a neatly formatted descriptive name.\"\"\"\n",
    "        long_name = str(self.year) + \" \" + self.make + \" \" + self.model\n",
    "        return long_name.title()\n",
    "    \n",
    "my_new_car = Car(\"audi\", \"a4\", 2016)\n",
    "print(my_new_car.get_descriptive_name())"
   ]
  },
  {
   "cell_type": "markdown",
   "id": "028242b3",
   "metadata": {},
   "source": [
    "Car class, we define the __init__() method with the self\n",
    "parameter first, just like we did before with our Dog class. We also give \n",
    "it three other parameters: make, model, and year. The __init__() method \n",
    "takes in these parameters and stores them in the attributes that will be \n",
    "associated with instances made from this class. When we make a new Car\n",
    "instance, we’ll need to specify a make, model, and year for our instance."
   ]
  },
  {
   "cell_type": "markdown",
   "id": "312be291",
   "metadata": {},
   "source": [
    "### Setting a Default Value for an Attribute"
   ]
  },
  {
   "cell_type": "markdown",
   "id": "3b1844c1",
   "metadata": {},
   "source": [
    "Every attribute in a class needs an initial value, even if that value is 0 or an \n",
    "empty string. In some cases, such as when setting a default value, it makes \n",
    "sense to specify this initial value in the body of the __init__() method; if \n",
    "you do this for an attribute, you don’t have to include a parameter for that \n",
    "attribute."
   ]
  },
  {
   "cell_type": "code",
   "execution_count": 19,
   "id": "0ce1918d",
   "metadata": {},
   "outputs": [
    {
     "name": "stdout",
     "output_type": "stream",
     "text": [
      "2022 Audi A4\n",
      "This car has 0 miles on it.\n"
     ]
    }
   ],
   "source": [
    "class Car():\n",
    "    def __init__(self, make, model, year):\n",
    "        \"\"\"Initializ attriblutes to deescribe a car.\"\"\"\n",
    "        self.make = make\n",
    "        self.model = model\n",
    "        self.year = year\n",
    "        self.odometer_reading = 0\n",
    "        \n",
    "    def get_descriptive_name(self):\n",
    "        \"\"\"Return a neatly formatted descriptive name.\"\"\"\n",
    "        long_name = str(self.year) + \" \" + self.make + \" \" + self.model\n",
    "        return long_name.title()\n",
    "    \n",
    "    def read_odometer(self):\n",
    "        \"\"\"Print a statement showing the car's mileage.\"\"\"\n",
    "        print(\"This car has \" + str(self.odometer_reading) + \" miles on it.\")\n",
    "        \n",
    "my_new_car = Car(\"Audi\", \"A4\", 2022)\n",
    "\n",
    "print(my_new_car.get_descriptive_name())\n",
    "my_new_car.read_odometer()"
   ]
  },
  {
   "cell_type": "markdown",
   "id": "ee7ffb09",
   "metadata": {},
   "source": [
    "## Modifying Attribute Values"
   ]
  },
  {
   "cell_type": "markdown",
   "id": "ce99a98d",
   "metadata": {},
   "source": [
    "We can change an attribute’s value in three ways:\n",
    "\n",
    " ** 01. you can change the value directly through an instance,</br>\n",
    " ** 02. set the value through a method</br>\n",
    " ** 03. increment the value (add a certain amount to it) through a method</br>"
   ]
  },
  {
   "cell_type": "markdown",
   "id": "68e83bc7",
   "metadata": {},
   "source": [
    "### Modifying an Attribute’s Value Directly"
   ]
  },
  {
   "cell_type": "code",
   "execution_count": 25,
   "id": "67382abc",
   "metadata": {},
   "outputs": [
    {
     "name": "stdout",
     "output_type": "stream",
     "text": [
      "2022 Audi A4\n",
      "This car has 23 miles on it.\n"
     ]
    }
   ],
   "source": [
    "class Car():\n",
    "    def __init__(self, make, model, year):\n",
    "        \"\"\"Initializ attriblutes to deescribe a car.\"\"\"\n",
    "        self.make = make\n",
    "        self.model = model\n",
    "        self.year = year\n",
    "        self.odometer_reading = 0\n",
    "        \n",
    "    def get_descriptive_name(self):\n",
    "        \"\"\"Return a neatly formatted descriptive name.\"\"\"\n",
    "        long_name = str(self.year) + \" \" + self.make + \" \" + self.model\n",
    "        return long_name.title()\n",
    "    \n",
    "    def read_odometer(self):\n",
    "        \"\"\"Print a statement showing the car's mileage.\"\"\"\n",
    "        print(\"This car has \" + str(self.odometer_reading) + \" miles on it.\")\n",
    "        \n",
    "my_new_car = Car(\"Audi\", \"A4\", 2022)\n",
    "\n",
    "print(my_new_car.get_descriptive_name())\n",
    "\n",
    "my_new_car.odometer_reading = 23 ### we can change the value from here too.\n",
    "my_new_car.read_odometer()"
   ]
  },
  {
   "cell_type": "markdown",
   "id": "bc90ecca",
   "metadata": {},
   "source": [
    "### Modifying an Attribute’s Value Through a Method"
   ]
  },
  {
   "cell_type": "code",
   "execution_count": 27,
   "id": "fd80dcc2",
   "metadata": {},
   "outputs": [
    {
     "name": "stdout",
     "output_type": "stream",
     "text": [
      "2022 Audi A4\n",
      "This car has 23 miles on it.\n"
     ]
    }
   ],
   "source": [
    "class Car():\n",
    "    def __init__(self, make, model, year):\n",
    "        \"\"\"Initializ attriblutes to deescribe a car.\"\"\"\n",
    "        self.make = make\n",
    "        self.model = model\n",
    "        self.year = year\n",
    "        self.odometer_reading = 0\n",
    "        \n",
    "    def get_descriptive_name(self):\n",
    "        \"\"\"Return a neatly formatted descriptive name.\"\"\"\n",
    "        long_name = str(self.year) + \" \" + self.make + \" \" + self.model\n",
    "        return long_name.title()\n",
    "    \n",
    "    def read_odometer(self):\n",
    "        \"\"\"Print a statement showing the car's mileage.\"\"\"\n",
    "        print(\"This car has \" + str(self.odometer_reading) + \" miles on it.\")\n",
    "        \n",
    "    def update_odometer(self,mileage):\n",
    "        \"\"\"Set the odometer reading to the given value.\"\"\"\n",
    "        self.odometer_reading = mileage\n",
    "        \n",
    "my_new_car = Car(\"Audi\", \"A4\", 2022)\n",
    "\n",
    "print(my_new_car.get_descriptive_name())\n",
    "\n",
    "my_new_car.update_odometer(23) ## same just we need to add value to the mileage parameter\n",
    "my_new_car.read_odometer()"
   ]
  },
  {
   "cell_type": "code",
   "execution_count": 31,
   "id": "83802383",
   "metadata": {},
   "outputs": [
    {
     "name": "stdout",
     "output_type": "stream",
     "text": [
      "2022 Audi A4\n",
      "You can't roll back an odometer!\n",
      "This car has 32 miles on it.\n"
     ]
    }
   ],
   "source": [
    "class Car():\n",
    "    def __init__(self, make, model, year):\n",
    "        \"\"\"Initializ attriblutes to deescribe a car.\"\"\"\n",
    "        self.make = make\n",
    "        self.model = model\n",
    "        self.year = year\n",
    "        self.odometer_reading = 32\n",
    "        \n",
    "    def get_descriptive_name(self):\n",
    "        \"\"\"Return a neatly formatted descriptive name.\"\"\"\n",
    "        long_name = str(self.year) + \" \" + self.make + \" \" + self.model\n",
    "        return long_name.title()\n",
    "    \n",
    "    def read_odometer(self):\n",
    "        \"\"\"Print a statement showing the car's mileage.\"\"\"\n",
    "        print(\"This car has \" + str(self.odometer_reading) + \" miles on it.\")\n",
    "        \n",
    "    def update_odometer(self, mileage):\n",
    "        \"\"\"Set the odometer reading to the given value. Reject the change if it attemps to roll the odometer back.\"\"\"\n",
    "        if mileage >= self.odometer_reading:\n",
    "            self.odometer_reading = mileage\n",
    "        else:\n",
    "            print(\"You can't roll back an odometer!\")\n",
    "my_new_car = Car(\"Audi\", \"A4\", 2022)\n",
    "\n",
    "print(my_new_car.get_descriptive_name())\n",
    "\n",
    "my_new_car.update_odometer(23) ## same just we need to add value to the mileage parameter\n",
    "my_new_car.read_odometer()"
   ]
  },
  {
   "cell_type": "markdown",
   "id": "becacbfb",
   "metadata": {},
   "source": [
    "### Incrementing an Attribute’s Value Through a Method"
   ]
  },
  {
   "cell_type": "code",
   "execution_count": 35,
   "id": "6163816d",
   "metadata": {},
   "outputs": [
    {
     "name": "stdout",
     "output_type": "stream",
     "text": [
      "2022 Lamborgini A4\n",
      "This car has 2300 miles on it.\n",
      "This car has 2800 miles on it.\n"
     ]
    }
   ],
   "source": [
    "class Car():\n",
    "    def __init__(self, make, model, year):\n",
    "        \"\"\"Initializ attriblutes to deescribe a car.\"\"\"\n",
    "        self.make = make\n",
    "        self.model = model\n",
    "        self.year = year\n",
    "        self.odometer_reading = 32\n",
    "        \n",
    "    def get_descriptive_name(self):\n",
    "        \"\"\"Return a neatly formatted descriptive name.\"\"\"\n",
    "        long_name = str(self.year) + \" \" + self.make + \" \" + self.model\n",
    "        return long_name.title()\n",
    "    \n",
    "    def read_odometer(self):\n",
    "        \"\"\"Print a statement showing the car's mileage.\"\"\"\n",
    "        print(\"This car has \" + str(self.odometer_reading) + \" miles on it.\")\n",
    "        \n",
    "    def update_odometer(self, mileage):\n",
    "        \"\"\"Set the odometer reading to the given value. Reject the change if it attemps to roll the odometer back.\"\"\"\n",
    "        if mileage >= self.odometer_reading:\n",
    "            self.odometer_reading = mileage\n",
    "        else:\n",
    "            print(\"You can't roll back an odometer!\")\n",
    "            \n",
    "    def increment_odometer(self,miles):\n",
    "        \"\"\"Add the given amount to the odometer reading.\"\"\"\n",
    "        self.odometer_reading += miles\n",
    "        \n",
    "my_new_car = Car(\"lamborgini\", \"A4\", 2022)\n",
    "\n",
    "print(my_new_car.get_descriptive_name())\n",
    "\n",
    "my_new_car.update_odometer(2300) ## same just we need to add value to the mileage parameter\n",
    "my_new_car.read_odometer()\n",
    "\n",
    "my_new_car.increment_odometer(500)\n",
    "my_new_car.read_odometer()"
   ]
  },
  {
   "cell_type": "markdown",
   "id": "e4261d53",
   "metadata": {},
   "source": [
    "# ********************** EXERCISE **********************"
   ]
  },
  {
   "cell_type": "markdown",
   "id": "0e8f59c4",
   "metadata": {},
   "source": [
    "<b>9-4 Number Served:</b> Start with your program from Exercise 9-1 (page 166).\n",
    "Add an attribute called number_served with a default value of 0. Create an \n",
    "instance called restaurant from this class. Print the number of customers the \n",
    "restaurant has served, and then change this value and print it again.\n",
    "Add a method called set_number_served() that lets you set the number \n",
    "of customers that have been served. Call this method with a new number and \n",
    "print the value again.\n",
    "\n",
    "Add a method called increment_number_served() that lets you increment \n",
    "the number of customers who’ve been served. Call this method with any num\u0002ber you like that could represent how many customers were served in, say, a \n",
    "day of business."
   ]
  },
  {
   "cell_type": "code",
   "execution_count": 50,
   "id": "b97b78e3",
   "metadata": {},
   "outputs": [
    {
     "name": "stdout",
     "output_type": "stream",
     "text": [
      "The name of the restaurant is Hideout.\n",
      "Cuisine type: Biriyani.\n",
      "The restaurant is open from 10am to 12am.\n",
      "The Number of searved custormers are 213.\n",
      "The Number of searved custormers are 333.\n"
     ]
    }
   ],
   "source": [
    "class Restaurant():\n",
    "    def __init__(self, restaurant_name, cuisine_type):\n",
    "        self.name = restaurant_name\n",
    "        self.cuisine = cuisine_type\n",
    "        self.number_served = 0\n",
    "    \n",
    "    def describe_restaurant(self):\n",
    "        print(\"The name of the restaurant is \" + self.name.title() + \".\")\n",
    "        print(\"Cuisine type: \" + self.cuisine.title() + \".\")\n",
    "        \n",
    "    def open_restaurant(self):\n",
    "        print(\"The restaurant is open from 10am to 12am.\")\n",
    "        \n",
    "    def restaurent(self):\n",
    "        print(\"The Number of searved custormers are \" + str(self.number_served) + \".\")\n",
    "        \n",
    "    def set_number_served(self, customer_number):\n",
    "        self.number_served = customer_number\n",
    "        \n",
    "    def increment_number_served(self, new_number):\n",
    "        self.number_served += new_number\n",
    "        \n",
    "        \n",
    "my_fav_restaurant = Restaurant(\"Hideout\", \"Biriyani\")\n",
    "my_fav_restaurant.describe_restaurant()\n",
    "my_fav_restaurant.open_restaurant()\n",
    "\n",
    "\n",
    "my_fav_restaurant.set_number_served(213)\n",
    "my_fav_restaurant.restaurent()\n",
    "\n",
    "my_fav_restaurant.increment_number_served(120)\n",
    "my_fav_restaurant.restaurent()"
   ]
  },
  {
   "cell_type": "markdown",
   "id": "c59e84ba",
   "metadata": {},
   "source": [
    "<b>9-5 Login Attempts:</b> Add an attribute called login_attempts to your User\n",
    "class from Exercise 9-3 (page 166). Write a method called increment_\n",
    "login_attempts() that increments the value of login_attempts by 1. Write \n",
    "another method called reset_login_attempts() that resets the value of login_\n",
    "attempts to 0.\n",
    "\n",
    "Make an instance of the User class and call increment_login_attempts()\n",
    "several times. Print the value of login_attempts to make sure it was incremented \n",
    "properly, and then call reset_login_attempts(). Print login_attempts again to \n",
    "make sure it was reset to 0.\n"
   ]
  },
  {
   "cell_type": "code",
   "execution_count": 16,
   "id": "e8cab423",
   "metadata": {},
   "outputs": [
    {
     "name": "stdout",
     "output_type": "stream",
     "text": [
      "The name of the user is : Sabboshachi Sarkar.\n",
      "He/She lives in Rajshahi and his/her age is 26.\n",
      "Hello, Sabboshachi Sarkar.\n",
      "Login Attepts: 0.\n",
      "Login Attepts: 1.\n",
      "Write 'Q' if you want to reset the login attempts value.\n",
      "Q\n",
      "Your Login attepmts has been reset.\n",
      "Login Attepts: 0.\n"
     ]
    }
   ],
   "source": [
    "class User():\n",
    "    def __init__(self, first_name, last_name, age, location):\n",
    "        self.first = first_name\n",
    "        self.last = last_name\n",
    "        self.age = age\n",
    "        self.location = location\n",
    "        self.login_attempts = 0\n",
    "    \n",
    "    def describe_user(self):\n",
    "        print(\"The name of the user is : \" + self.first.title() + \" \" + self.last.title() + \".\")\n",
    "        print(\"He/She lives in \" + self.location + \" and his/her age is \" + str(self.age) + \".\")\n",
    "    \n",
    "    def greet_user(self):\n",
    "        print(\"Hello, \" + self.first.title() + \" \" +  self.last.title() + \".\")\n",
    "    \n",
    "    def login_count(self):\n",
    "        print(\"Login Attepts: \" + str(self.login_attempts) + \".\")\n",
    "    \n",
    "    def increment_login_attempts(self):\n",
    "        self.login_attempts += 1\n",
    "    \n",
    "    def reset_login_attempts(self):\n",
    "        value = input(\"Write 'Q' if you want to reset the login attempts value.\\n\")\n",
    "        if value == \"Q\":\n",
    "            self.login_attempts = 0\n",
    "            print(\"Your Login attepmts has been reset.\")\n",
    "        elif value == \"q\":\n",
    "            self.login_attempts = 0\n",
    "            print(\"Your Login attepmts has been reset.\") \n",
    "        else:\n",
    "            print(\"Attempts won't change, Thanks!\")\n",
    "        \n",
    "user_01 = User(\"Sabboshachi\", \"Sarkar\", 26, \"Rajshahi\")\n",
    "user_01.describe_user()\n",
    "user_01.greet_user()\n",
    "\n",
    "user_01.login_count()\n",
    "\n",
    "user_01.increment_login_attempts()\n",
    "user_01.login_count()\n",
    "\n",
    "user_01.reset_login_attempts()\n",
    "user_01.login_count()"
   ]
  },
  {
   "cell_type": "markdown",
   "id": "7e8b4a5f",
   "metadata": {},
   "source": [
    "# Inheritance"
   ]
  },
  {
   "cell_type": "markdown",
   "id": "2ed9307f",
   "metadata": {},
   "source": [
    "You don’t always have to start from scratch when writing a class. If the class \n",
    "you’re writing is a specialized version of another class you wrote, you can \n",
    "use <b>inheritance</b>.\n",
    "\n",
    "When one class <b>inherits</b> from another, it automatically takes \n",
    "on all the attributes and methods of the first class. \n",
    "The original class is \n",
    "called the <b>parent class</b>, and the new class is the <b>child class</b>. The child class \n",
    "inherits every attribute and method from its parent class but is also free to \n",
    "define new attributes and methods of its own."
   ]
  },
  {
   "cell_type": "markdown",
   "id": "a0a2b887",
   "metadata": {},
   "source": [
    "### The __init__() Method for a Child Class"
   ]
  },
  {
   "cell_type": "code",
   "execution_count": 22,
   "id": "7a294e4c",
   "metadata": {},
   "outputs": [
    {
     "name": "stdout",
     "output_type": "stream",
     "text": [
      "2016 Tesla Model S\n"
     ]
    }
   ],
   "source": [
    "class Car():\n",
    "    \"\"\"A simple attempt to represent a car.\"\"\"\n",
    "    \n",
    "    def __init__(self, make, model, year):\n",
    "        self.make = make\n",
    "        self.model = model\n",
    "        self.year = year\n",
    "        self.odometer_reading = 0\n",
    "        \n",
    "    def get_descriptive_name(self):\n",
    "        long_name = str(self.year) + \" \" + self.make + \" \" + self.model\n",
    "        return long_name.title()\n",
    "    \n",
    "    def read_odometer(self):\n",
    "        print(\"The car has \" + str(self.odometer_reading) + \" miles on it.\")\n",
    "        \n",
    "    def update_odometer(self, mileage):\n",
    "        if mileage >= self.odometer_reading:\n",
    "            self.odometer_reading = mileage\n",
    "        else:\n",
    "            print(\"You can't roll back an odometer!\")\n",
    "            \n",
    "    def increment_odometer(self, miles):\n",
    "        self.odometer_reading += miles\n",
    "        \n",
    "########### now we will create a chile class from the previous class ###############\n",
    "\n",
    "class ElectricCar(Car):\n",
    "    \"\"\"Represent aspects of a car, specific to electric vehicles.\"\"\"\n",
    "    \n",
    "    def __init__(self, make, model, year): ##### The __init__() method takes in the information required to make a Car instance.\n",
    "        \"\"\"Initialize attributes of the parent class.\"\"\"\n",
    "        \n",
    "        super().__init__(make, model, year) ##### The super() function is a special function that helps python make connection between the parent and child class. \n",
    "        # This line tells python to call the __init__() method from ElectricCar’s parent class, which gives an ElectricCar instance all the attributes of its parent class.\n",
    "        # The name super comes from convertion of callling the parent class a superclass and the child class a subclass.\n",
    "        \n",
    "my_tesla = ElectricCar(\"Tesla\", 'model S', 2016)  \n",
    "\n",
    "print(my_tesla.get_descriptive_name())"
   ]
  },
  {
   "cell_type": "markdown",
   "id": "c89926f1",
   "metadata": {},
   "source": [
    "### Defining Attributes and Methods for the Child Class"
   ]
  },
  {
   "cell_type": "markdown",
   "id": "2ff14b2e",
   "metadata": {},
   "source": [
    "Once we have a child class that inherits from a parent class, we can add \n",
    "any new attributes and methods necessary to differentiate the child class \n",
    "from the parent class."
   ]
  },
  {
   "cell_type": "code",
   "execution_count": 26,
   "id": "489280d9",
   "metadata": {},
   "outputs": [
    {
     "name": "stdout",
     "output_type": "stream",
     "text": [
      "2016 Tesla Model S!\n",
      "This car has a 70-kWh battery.\n"
     ]
    }
   ],
   "source": [
    "class Car():\n",
    "    \"\"\"A simple attempt to represent a car.\"\"\"\n",
    "    \n",
    "    def __init__(self, make, model, year):\n",
    "        self.make = make\n",
    "        self.model = model\n",
    "        self.year = year\n",
    "        self.odometer_reading = 0\n",
    "        \n",
    "    def get_descriptive_name(self):\n",
    "        long_name = str(self.year) + \" \" + self.make + \" \" + self.model + \"!\"\n",
    "        return long_name.title()\n",
    "    \n",
    "    def read_odometer(self):\n",
    "        print(\"The car has \" + str(self.odometer_reading) + \" miles on it.\")\n",
    "        \n",
    "    def update_odometer(self, mileage):\n",
    "        if mileage >= self.odometer_reading:\n",
    "            self.odometer_reading = mileage\n",
    "        else:\n",
    "            print(\"You can't roll back an odometer!\")\n",
    "            \n",
    "    def increment_odometer(self, miles):\n",
    "        self.odometer_reading += miles\n",
    "        \n",
    "########### now we will create a chile class from the previous class ###############\n",
    "\n",
    "class ElectricCar(Car):\n",
    "    \"\"\"Represent aspects of a car, specific to electric vehicles.\"\"\"\n",
    "    \n",
    "    def __init__(self, make, model, year):\n",
    "        \"\"\"Initialize attributes of the parent class.\"\"\"\n",
    "        \n",
    "        super().__init__(make, model, year) \n",
    "        self.battery_size = 70\n",
    "        \n",
    "    def describe_battery(self):\n",
    "        \"\"\"Print a statement describing the battery size.\"\"\"\n",
    "        print(\"This car has a \" + str(self.battery_size) + \"-kWh battery.\")\n",
    "        \n",
    "        \n",
    "my_tesla = ElectricCar(\"Tesla\", 'model S', 2016)  \n",
    "\n",
    "print(my_tesla.get_descriptive_name())\n",
    "my_tesla.describe_battery()"
   ]
  },
  {
   "cell_type": "markdown",
   "id": "31f1dbfb",
   "metadata": {},
   "source": [
    "### Overriding Methods from the Parent Class"
   ]
  },
  {
   "cell_type": "markdown",
   "id": "f5dc18c6",
   "metadata": {},
   "source": [
    "We can override any method from the parent class that doesn’t fit what \n",
    "you’re trying to model with the child class. To do this, we define a method in the child class with the same name as the method we want to override in the parent class. Python will disregard the parent class method and only \n",
    "pay attention to the method you define in the child class.\n",
    "\n",
    "\n",
    "Say the class Car had a method called fill_gas_tank(). This method is \n",
    "meaningless for an all-electric vehicle, so you might want to override this \n",
    "method."
   ]
  },
  {
   "cell_type": "code",
   "execution_count": 35,
   "id": "b957a690",
   "metadata": {},
   "outputs": [
    {
     "name": "stdout",
     "output_type": "stream",
     "text": [
      "2020 Rr Ghost!\n",
      "The gas tank size of this car is : 20 liter.\n",
      "2016 Tesla Model S!\n",
      "This car has a 70-kWh battery.\n",
      "This car doesn't need a gas tank!\n"
     ]
    }
   ],
   "source": [
    "class Car():\n",
    "    \"\"\"A simple attempt to represent a car.\"\"\"\n",
    "    \n",
    "    def __init__(self, make, model, year):\n",
    "        self.make = make\n",
    "        self.model = model\n",
    "        self.year = year\n",
    "        self.odometer_reading = 0\n",
    "        self.gas_tank = 20\n",
    "        \n",
    "    def get_descriptive_name(self):\n",
    "        long_name = str(self.year) + \" \" + self.make + \" \" + self.model + \"!\"\n",
    "        return long_name.title()\n",
    "    \n",
    "    def read_odometer(self):\n",
    "        print(\"The car has \" + str(self.odometer_reading) + \" miles on it.\")\n",
    "        \n",
    "    def update_odometer(self, mileage):\n",
    "        if mileage >= self.odometer_reading:\n",
    "            self.odometer_reading = mileage\n",
    "        else:\n",
    "            print(\"You can't roll back an odometer!\")\n",
    "            \n",
    "    def increment_odometer(self, miles):\n",
    "        self.odometer_reading += miles\n",
    "        \n",
    "    def fill_gas_tank(self):\n",
    "        print(\"The gas tank size of this car is : \" + str(self.gas_tank) + \" liter.\")\n",
    "        \n",
    "        \n",
    "########### now we will create a chile class from the previous class ###############\n",
    "\n",
    "class ElectricCar(Car):\n",
    "    \"\"\"Represent aspects of a car, specific to electric vehicles.\"\"\"\n",
    "    \n",
    "    def __init__(self, make, model, year):\n",
    "        \"\"\"Initialize attributes of the parent class.\"\"\"\n",
    "        \n",
    "        super().__init__(make, model, year) \n",
    "        self.battery_size = 70\n",
    "        \n",
    "    def describe_battery(self):\n",
    "        \"\"\"Print a statement describing the battery size.\"\"\"\n",
    "        print(\"This car has a \" + str(self.battery_size) + \"-kWh battery.\")\n",
    "        \n",
    "    def fill_gas_tank(self):\n",
    "        print(\"This car doesn't need a gas tank!\")\n",
    "        \n",
    "        \n",
    "\n",
    "my_RollsRoyes = Car(\"RR\", \"Ghost\", 2020)\n",
    "print(my_RollsRoyes.get_descriptive_name())\n",
    "my_RollsRoyes.fill_gas_tank()\n",
    "\n",
    "\n",
    "my_tesla = ElectricCar(\"Tesla\", 'model S', 2016)  \n",
    "print(my_tesla.get_descriptive_name())\n",
    "my_tesla.describe_battery()\n",
    "my_tesla.fill_gas_tank()\n",
    "\n",
    "####### we will keep the same name for the method but as we use it in different classes the method will work according to the behavior of the calss."
   ]
  },
  {
   "cell_type": "code",
   "execution_count": null,
   "id": "373dc6ba",
   "metadata": {},
   "outputs": [],
   "source": []
  }
 ],
 "metadata": {
  "kernelspec": {
   "display_name": "Python 3 (ipykernel)",
   "language": "python",
   "name": "python3"
  },
  "language_info": {
   "codemirror_mode": {
    "name": "ipython",
    "version": 3
   },
   "file_extension": ".py",
   "mimetype": "text/x-python",
   "name": "python",
   "nbconvert_exporter": "python",
   "pygments_lexer": "ipython3",
   "version": "3.11.1"
  }
 },
 "nbformat": 4,
 "nbformat_minor": 5
}
