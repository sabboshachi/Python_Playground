{
 "cells": [
  {
   "cell_type": "markdown",
   "id": "ae6d49c1",
   "metadata": {},
   "source": [
    "# FUNCTIONS"
   ]
  },
  {
   "cell_type": "markdown",
   "id": "fdf6d2f3",
   "metadata": {},
   "source": [
    "### Defining a Function"
   ]
  },
  {
   "cell_type": "code",
   "execution_count": 2,
   "id": "6893fc17",
   "metadata": {},
   "outputs": [
    {
     "name": "stdout",
     "output_type": "stream",
     "text": [
      "Hello!\n"
     ]
    }
   ],
   "source": [
    "def greet_user(): ###keyword def informs Python that you’re defining a function.\n",
    "    \"\"\"Display a simple greeting\"\"\" ### this is a comment called a \"docstring\"\n",
    "    print(\"Hello!\")\n",
    "    \n",
    "greet_user() ###To call a function, you write the name of the function"
   ]
  },
  {
   "cell_type": "markdown",
   "id": "09c11fda",
   "metadata": {},
   "source": [
    "### Passing Information to a Function"
   ]
  },
  {
   "cell_type": "code",
   "execution_count": 5,
   "id": "2a0eca54",
   "metadata": {},
   "outputs": [
    {
     "name": "stdout",
     "output_type": "stream",
     "text": [
      "Hello, Mr.Tekka.\n"
     ]
    }
   ],
   "source": [
    "def greet_user(username):\n",
    "    \"\"\"Display a simple greeting\"\"\"\n",
    "    \n",
    "    print(\"Hello, Mr.\" + username.title() + \".\")\n",
    "    \n",
    "greet_user(\"tekka\")"
   ]
  },
  {
   "cell_type": "markdown",
   "id": "a108231c",
   "metadata": {},
   "source": [
    "### Arguments and Parameters"
   ]
  },
  {
   "cell_type": "markdown",
   "id": "a7c007a2",
   "metadata": {},
   "source": [
    "The variable username in the definition of greet_user() is an example of a \n",
    "parameter, a piece of information the function needs to do its job. The value \n",
    "'jesse' in greet_user('jesse') is an example of an argument. An argument \n",
    "is a piece of information that is passed from a function call to a function. When we call the function, we place the value we want the function to work \n",
    "with in parentheses. In this case the argument 'jesse' was passed to the \n",
    "function greet_user(), and the value was stored in the parameter username."
   ]
  },
  {
   "cell_type": "markdown",
   "id": "20bd9004",
   "metadata": {},
   "source": [
    "# Passing Arguments"
   ]
  },
  {
   "cell_type": "markdown",
   "id": "8fe776ec",
   "metadata": {},
   "source": [
    "Because a function definition can have multiple parameters, a function call \n",
    "may need multiple arguments. You can pass arguments to your functions \n",
    "in a number of ways. You can use positional arguments, which need to be in \n",
    "the same order the parameters were written; keyword arguments, where each \n",
    "argument consists of a variable name and a value; and lists and dictionaries \n",
    "of values. Let’s look at each of these in turn."
   ]
  },
  {
   "cell_type": "markdown",
   "id": "71d33f4f",
   "metadata": {},
   "source": [
    "### Positional Arguments"
   ]
  }
 ],
 "metadata": {
  "kernelspec": {
   "display_name": "Python 3 (ipykernel)",
   "language": "python",
   "name": "python3"
  },
  "language_info": {
   "codemirror_mode": {
    "name": "ipython",
    "version": 3
   },
   "file_extension": ".py",
   "mimetype": "text/x-python",
   "name": "python",
   "nbconvert_exporter": "python",
   "pygments_lexer": "ipython3",
   "version": "3.11.1"
  }
 },
 "nbformat": 4,
 "nbformat_minor": 5
}
