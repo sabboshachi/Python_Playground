{
 "cells": [
  {
   "cell_type": "markdown",
   "id": "de8ec6d5",
   "metadata": {},
   "source": [
    "# DICTIONARIES"
   ]
  },
  {
   "cell_type": "code",
   "execution_count": 5,
   "id": "f3625192",
   "metadata": {},
   "outputs": [
    {
     "name": "stdout",
     "output_type": "stream",
     "text": [
      "green\n",
      "5\n"
     ]
    }
   ],
   "source": [
    "alien_0 = {'color': 'green', 'points': 5}\n",
    "\n",
    "print(alien_0['color'])\n",
    "print(alien_0['points'])"
   ]
  },
  {
   "cell_type": "markdown",
   "id": "a84bb25e",
   "metadata": {},
   "source": [
    "### Working with Dictionaries"
   ]
  },
  {
   "cell_type": "markdown",
   "id": "ce8f7c51",
   "metadata": {},
   "source": [
    "A dictionary in Python is a collection of key-value pairs. Each key is connected \n",
    "to a value, and you can use a key to access the value associated with that key. \n",
    "A key’s value can be a number, a string, a list, or even another dictionary. \n",
    "In fact, you can use any object that you can create in Python as a value in a \n",
    "dictionary.\n",
    "\n",
    "A key-value pair is a set of values associated with each other. When you \n",
    "provide a key, Python returns the value associated with that key. Every key \n",
    "is connected to its value by a colon, and individual key-value pairs are sepa\u0002rated by commas. You can store as many key-value pairs as you want in a \n",
    "dictionary.\n",
    "\n",
    "The simplest dictionary has exactly one key-value pair, as shown in this \n",
    "modified version of the alien_0 dictionary:\n"
   ]
  },
  {
   "cell_type": "code",
   "execution_count": null,
   "id": "64ab630c",
   "metadata": {},
   "outputs": [],
   "source": [
    "alien_0 = {'color': 'green'}"
   ]
  }
 ],
 "metadata": {
  "kernelspec": {
   "display_name": "Python 3 (ipykernel)",
   "language": "python",
   "name": "python3"
  },
  "language_info": {
   "codemirror_mode": {
    "name": "ipython",
    "version": 3
   },
   "file_extension": ".py",
   "mimetype": "text/x-python",
   "name": "python",
   "nbconvert_exporter": "python",
   "pygments_lexer": "ipython3",
   "version": "3.11.1"
  }
 },
 "nbformat": 4,
 "nbformat_minor": 5
}
