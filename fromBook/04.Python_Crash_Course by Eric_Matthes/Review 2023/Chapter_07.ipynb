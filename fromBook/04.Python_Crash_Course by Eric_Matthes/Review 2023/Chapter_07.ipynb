{
 "cells": [
  {
   "cell_type": "markdown",
   "id": "b40b5456",
   "metadata": {},
   "source": [
    "# USER INPUT NAD WHILE LOOPS"
   ]
  },
  {
   "cell_type": "markdown",
   "id": "39e4f32a",
   "metadata": {},
   "source": [
    "### How the input() Function Works"
   ]
  },
  {
   "cell_type": "code",
   "execution_count": 1,
   "id": "a4f007d6",
   "metadata": {},
   "outputs": [
    {
     "name": "stdout",
     "output_type": "stream",
     "text": [
      "What is your name: Sabboshachi\n",
      "Sabboshachi\n"
     ]
    }
   ],
   "source": [
    "message = input(\"What is your name: \")\n",
    "\n",
    "print(message)"
   ]
  },
  {
   "cell_type": "markdown",
   "id": "6d3d148a",
   "metadata": {},
   "source": [
    "### Writing Clear Prompts"
   ]
  },
  {
   "cell_type": "code",
   "execution_count": 3,
   "id": "5fbd2a05",
   "metadata": {},
   "outputs": [
    {
     "name": "stdout",
     "output_type": "stream",
     "text": [
      "Please enter your name: Sabboshachi\n",
      "Hello, Sabboshachi.\n"
     ]
    }
   ],
   "source": [
    "name = input(\"Please enter your name: \")\n",
    "print(\"Hello, \" + name.title() + \".\")"
   ]
  },
  {
   "cell_type": "markdown",
   "id": "05b22365",
   "metadata": {},
   "source": [
    "### Writing Clear Prompts"
   ]
  },
  {
   "cell_type": "code",
   "execution_count": 6,
   "id": "b8a6da8b",
   "metadata": {},
   "outputs": [
    {
     "name": "stdout",
     "output_type": "stream",
     "text": [
      "How old are you? 26\n",
      "26\n"
     ]
    }
   ],
   "source": [
    "age = input(\"How old are you? \")\n",
    "\n",
    "print(age) "
   ]
  },
  {
   "cell_type": "code",
   "execution_count": 5,
   "id": "f0e8cb06",
   "metadata": {},
   "outputs": [
    {
     "data": {
      "text/plain": [
       "str"
      ]
     },
     "execution_count": 5,
     "metadata": {},
     "output_type": "execute_result"
    }
   ],
   "source": [
    "type(age) # here 26 is not a integer but a string. To make it integer we need to declear it as an interger."
   ]
  },
  {
   "cell_type": "code",
   "execution_count": 7,
   "id": "3f8feade",
   "metadata": {},
   "outputs": [],
   "source": [
    "age = int(age)"
   ]
  },
  {
   "cell_type": "code",
   "execution_count": 8,
   "id": "3378278d",
   "metadata": {},
   "outputs": [
    {
     "data": {
      "text/plain": [
       "int"
      ]
     },
     "execution_count": 8,
     "metadata": {},
     "output_type": "execute_result"
    }
   ],
   "source": [
    "type(age)"
   ]
  },
  {
   "cell_type": "code",
   "execution_count": 17,
   "id": "4bf580f0",
   "metadata": {},
   "outputs": [
    {
     "name": "stdout",
     "output_type": "stream",
     "text": [
      "How tall are you, in inches? 55\n",
      "\n",
      "You're tall enough to ride!\n"
     ]
    }
   ],
   "source": [
    "height = input(\"How tall are you, in inches? \")\n",
    "\n",
    "height = int(height)\n",
    "\n",
    "if height >= 36:\n",
    "     print(\"\\nYou're tall enough to ride!\")\n",
    "else:\n",
    "     print(\"\\nYou'll be able to ride when you're a little older.\")"
   ]
  },
  {
   "cell_type": "markdown",
   "id": "bee286e8",
   "metadata": {},
   "source": [
    "# Introducing while Loops"
   ]
  },
  {
   "cell_type": "markdown",
   "id": "76b43416",
   "metadata": {},
   "source": [
    "The for loop takes a collection of items and executes a block of code once \n",
    "for each item in the collection. In contrast, the while loop runs as long as, \n",
    "or while, a certain condition is true. "
   ]
  },
  {
   "cell_type": "markdown",
   "id": "a8bb88ac",
   "metadata": {},
   "source": [
    "### The while Loop in Action"
   ]
  },
  {
   "cell_type": "code",
   "execution_count": 20,
   "id": "a6eb494a",
   "metadata": {},
   "outputs": [
    {
     "name": "stdout",
     "output_type": "stream",
     "text": [
      "1\n",
      "2\n",
      "3\n",
      "4\n",
      "5\n"
     ]
    }
   ],
   "source": [
    "current_number = 1\n",
    "\n",
    "while current_number <= 5:\n",
    "    print(current_number)\n",
    "    current_number += 1"
   ]
  },
  {
   "cell_type": "markdown",
   "id": "b62a8a3d",
   "metadata": {},
   "source": [
    "### Letting the User Choose When to Quit"
   ]
  },
  {
   "cell_type": "code",
   "execution_count": 22,
   "id": "829d43ff",
   "metadata": {},
   "outputs": [
    {
     "name": "stdout",
     "output_type": "stream",
     "text": [
      "\n",
      "Tell me something, and I will repeat it back to you:\n",
      "Enter 'quit' to end the program. Susmita \n",
      "Susmita \n",
      "\n",
      "Tell me something, and I will repeat it back to you:\n",
      "Enter 'quit' to end the program. Dey\n",
      "Dey\n",
      "\n",
      "Tell me something, and I will repeat it back to you:\n",
      "Enter 'quit' to end the program. Quit\n",
      "Quit\n",
      "\n",
      "Tell me something, and I will repeat it back to you:\n",
      "Enter 'quit' to end the program. quit\n",
      "quit\n"
     ]
    }
   ],
   "source": [
    "prompt = \"\\nTell me something, and I will repeat it back to you:\" \n",
    "prompt += \"\\nEnter 'quit' to end the program. \"\n",
    "\n",
    "message = \"\"\n",
    "while message != 'quit':\n",
    "    message = input(prompt)\n",
    "    print(message)"
   ]
  },
  {
   "cell_type": "code",
   "execution_count": 24,
   "id": "9421a754",
   "metadata": {},
   "outputs": [
    {
     "name": "stdout",
     "output_type": "stream",
     "text": [
      "\n",
      "Tell me something, and I will repeat it back to you:\n",
      "Enter 'quit' to end the program. Hi\n",
      "Hi\n",
      "\n",
      "Tell me something, and I will repeat it back to you:\n",
      "Enter 'quit' to end the program. quit\n"
     ]
    }
   ],
   "source": [
    "prompt = \"\\nTell me something, and I will repeat it back to you:\" \n",
    "prompt += \"\\nEnter 'quit' to end the program. \"\n",
    "\n",
    "message = \"\"\n",
    "while message != 'quit':\n",
    "    message = input(prompt)\n",
    "    \n",
    "    if message != 'quit':\n",
    "        print(message)"
   ]
  },
  {
   "cell_type": "markdown",
   "id": "7250df3f",
   "metadata": {},
   "source": [
    "### Using a Flag"
   ]
  },
  {
   "cell_type": "markdown",
   "id": "8a526876",
   "metadata": {},
   "source": [
    "In the previous example, we had the program perform certain tasks while \n",
    "a given condition was true. But what about more complicated programs in \n",
    "which many different events could cause the program to stop running? \n",
    "\n",
    "For example, in a game, several different events can end the game. \n",
    "When the player runs out of ships, their time runs out, or the cities they \n",
    "were supposed to protect are all destroyed, the game should end. It needs \n",
    "to end if any one of these events happens. If many possible events might \n",
    "occur to stop the program, trying to test all these conditions in one while\n",
    "statement becomes complicated and difficult.\n",
    "\n",
    "For a program that should run only as long as many conditions are true, \n",
    "you can define one variable that determines whether or not the entire program is active.\n",
    "This variable called a flag acts as a signal to the program. We can write our programs so they run\n",
    "while the flag is set to TRUE. As a result, our overall while statement needs to check only one \n",
    "condition: wheather or not the flag is currently TRUE. Then all our other tests can be neatly organized in the \n",
    "rest of the program.\n",
    "\n"
   ]
  },
  {
   "cell_type": "code",
   "execution_count": 1,
   "id": "00bcac52",
   "metadata": {},
   "outputs": [
    {
     "name": "stdout",
     "output_type": "stream",
     "text": [
      "\n",
      "Tell me something, and I will repeat it back to you:\n",
      "Enter 'quit' to end the program. Susmita\n",
      "Susmita\n",
      "\n",
      "Tell me something, and I will repeat it back to you:\n",
      "Enter 'quit' to end the program. Dey\n",
      "Dey\n",
      "\n",
      "Tell me something, and I will repeat it back to you:\n",
      "Enter 'quit' to end the program. quit\n"
     ]
    }
   ],
   "source": [
    "prompt = \"\\nTell me something, and I will repeat it back to you:\"\n",
    "prompt += \"\\nEnter 'quit' to end the program. \"\n",
    "\n",
    "active = True\n",
    "\n",
    "while active:\n",
    "    message = input(prompt)\n",
    "    \n",
    "    if message == 'quit':\n",
    "        active = False\n",
    "    else:\n",
    "        print(message)"
   ]
  },
  {
   "cell_type": "markdown",
   "id": "e97e4aae",
   "metadata": {},
   "source": [
    "### Using break to Exit a Loop"
   ]
  },
  {
   "cell_type": "code",
   "execution_count": 2,
   "id": "e6ff755a",
   "metadata": {},
   "outputs": [
    {
     "name": "stdout",
     "output_type": "stream",
     "text": [
      "\n",
      "Tell me something, and I will repeat it back to you:\n",
      "Enter 'quit' to end the program. susmita\n",
      "I'd love to go to Susmita!\n",
      "\n",
      "Tell me something, and I will repeat it back to you:\n",
      "Enter 'quit' to end the program. dey\n",
      "I'd love to go to Dey!\n",
      "\n",
      "Tell me something, and I will repeat it back to you:\n",
      "Enter 'quit' to end the program. quit\n"
     ]
    }
   ],
   "source": [
    "prompt = \"\\nTell me something, and I will repeat it back to you:\"\n",
    "prompt += \"\\nEnter 'quit' to end the program. \"\n",
    "\n",
    "while True:\n",
    "    city = input(prompt)\n",
    "    \n",
    "    if city == 'quit':\n",
    "        break\n",
    "    else:\n",
    "        print(\"I'd love to go to \" + city.title() + \"!\")"
   ]
  },
  {
   "cell_type": "markdown",
   "id": "f4dfefd9",
   "metadata": {},
   "source": [
    "### Using continue in a Loop"
   ]
  },
  {
   "cell_type": "markdown",
   "id": "8580e86d",
   "metadata": {},
   "source": [
    "Rather than breaking out of a loop entirely without executing the rest of its \n",
    "code, you can use the continue statement to return to the beginning of the \n",
    "loop based on the result of a conditional test. \n",
    "\n",
    "Continue basically means skipping that specific condition but not end the loop."
   ]
  },
  {
   "cell_type": "code",
   "execution_count": 2,
   "id": "a78f5bc4",
   "metadata": {},
   "outputs": [
    {
     "name": "stdout",
     "output_type": "stream",
     "text": [
      "1\n",
      "3\n",
      "5\n",
      "7\n",
      "9\n"
     ]
    }
   ],
   "source": [
    "# Odd Number\n",
    "\n",
    "current_number = 0 \n",
    "\n",
    "while current_number < 10:\n",
    "    current_number += 1\n",
    "    if current_number % 2 == 0:\n",
    "        continue  \n",
    "        \n",
    "    print(current_number)"
   ]
  },
  {
   "cell_type": "markdown",
   "id": "5edd5155",
   "metadata": {},
   "source": [
    "# Using a while Loop with Lists and Dictionaries"
   ]
  },
  {
   "cell_type": "markdown",
   "id": "ed83b323",
   "metadata": {},
   "source": [
    "A \"for\" loop is effective for looping through a list, but you shouldn’t modify \n",
    "a list inside a for loop because Python will have trouble keeping track of the \n",
    "items in the list. To modify a list as you work through it, use a while loop. \n",
    "Using while loops with lists and dictionaries allows you to collect, store, and \n",
    "organize lots of input to examine and report on later. "
   ]
  },
  {
   "cell_type": "markdown",
   "id": "9363a71f",
   "metadata": {},
   "source": [
    "### Moving Items from One List to Another"
   ]
  },
  {
   "cell_type": "code",
   "execution_count": 4,
   "id": "bead2a0a",
   "metadata": {},
   "outputs": [
    {
     "name": "stdout",
     "output_type": "stream",
     "text": [
      "Verifying user: Candace\n",
      "Verifying user: Brian\n",
      "Verifying user: Alice\n",
      "\n",
      "The following users have been confirmed:\n",
      "Candace\n",
      "Brian\n",
      "Alice\n"
     ]
    }
   ],
   "source": [
    "# Start with users that need to be verified, and an empty list to hold confirmed users.\n",
    "\n",
    "unconfirmed_users = ['alice', 'brian', 'candace']\n",
    "confirmed_users = [] \n",
    "\n",
    "# Verify each user until there are no more unconfirmed users.\n",
    "# Move each verified user into the list of confirmed users.\n",
    "\n",
    "while unconfirmed_users:\n",
    "    current_user = unconfirmed_users.pop()\n",
    "    \n",
    "    print(\"Verifying user: \" + current_user.title())\n",
    "    confirmed_users.append(current_user)\n",
    "    \n",
    "# Display all confirmed users.\n",
    "print(\"\\nThe following users have been confirmed:\")\n",
    "\n",
    "for confirmed_user in confirmed_users:\n",
    "    print(confirmed_user.title())\n"
   ]
  },
  {
   "cell_type": "markdown",
   "id": "21671743",
   "metadata": {},
   "source": [
    "### Removing All Instances of Specific Values from a List"
   ]
  },
  {
   "cell_type": "code",
   "execution_count": 8,
   "id": "021fea88",
   "metadata": {},
   "outputs": [
    {
     "name": "stdout",
     "output_type": "stream",
     "text": [
      "['dog', 'cat', 'dog', 'goldfish', 'cat', 'rabbit', 'cat']\n",
      "['dog', 'dog', 'goldfish', 'rabbit']\n"
     ]
    }
   ],
   "source": [
    "pets = ['dog', 'cat', 'dog', 'goldfish', 'cat', 'rabbit', 'cat']\n",
    "print(pets)\n",
    "\n",
    "while 'cat' in pets:\n",
    "    pets.remove('cat')\n",
    "\n",
    "print(pets)"
   ]
  },
  {
   "cell_type": "markdown",
   "id": "37db31ad",
   "metadata": {},
   "source": [
    "### Filling a Dictionary with User Input"
   ]
  },
  {
   "cell_type": "code",
   "execution_count": 10,
   "id": "ed516996",
   "metadata": {},
   "outputs": [
    {
     "name": "stdout",
     "output_type": "stream",
     "text": [
      "\n",
      "What is your name? Susmita\n",
      "Which mountain would you like to climb someday? Keocradong\n",
      "Would you like to let another person respond? (yes/ no) yes\n",
      "\n",
      "What is your name? Sabboshachi\n",
      "Which mountain would you like to climb someday? Himalaya\n",
      "Would you like to let another person respond? (yes/ no) no\n",
      "\n",
      "--- Poll Results ---\n",
      "Susmita would like to climb Keocradong.\n",
      "Sabboshachi would like to climb Himalaya.\n"
     ]
    }
   ],
   "source": [
    "responses = {}\n",
    "\n",
    "# Set a flag to indicate that polling is active.\n",
    "polling_active = True\n",
    "\n",
    "while polling_active:\n",
    "    # Prompt for the person's name and response.\n",
    "    name = input(\"\\nWhat is your name? \")\n",
    "    response = input(\"Which mountain would you like to climb someday? \")\n",
    "    \n",
    "    # Store the response in the dictionary:\n",
    "    responses[name] = response\n",
    "    \n",
    "    # Find out if anyone else is going to take the poll.\n",
    "    \n",
    "    repeat = input(\"Would you like to let another person respond? (yes/ no) \")\n",
    "    if repeat == 'no':\n",
    "        polling_active = False\n",
    "        \n",
    "# Polling is complete. Show the results.\n",
    "print(\"\\n--- Poll Results ---\")\n",
    "\n",
    "for name, response in responses.items():\n",
    "    print(name + \" would like to climb \" + response + \".\")\n",
    "    "
   ]
  },
  {
   "cell_type": "code",
   "execution_count": null,
   "id": "2e8fe27d",
   "metadata": {},
   "outputs": [],
   "source": []
  }
 ],
 "metadata": {
  "kernelspec": {
   "display_name": "Python 3 (ipykernel)",
   "language": "python",
   "name": "python3"
  },
  "language_info": {
   "codemirror_mode": {
    "name": "ipython",
    "version": 3
   },
   "file_extension": ".py",
   "mimetype": "text/x-python",
   "name": "python",
   "nbconvert_exporter": "python",
   "pygments_lexer": "ipython3",
   "version": "3.11.1"
  }
 },
 "nbformat": 4,
 "nbformat_minor": 5
}
