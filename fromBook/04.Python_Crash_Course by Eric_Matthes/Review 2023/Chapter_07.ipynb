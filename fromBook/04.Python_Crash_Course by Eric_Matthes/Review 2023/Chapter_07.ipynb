{
 "cells": [
  {
   "cell_type": "markdown",
   "id": "0d6005d6",
   "metadata": {},
   "source": [
    "# USER INPUT NAD WHILE LOOPS"
   ]
  },
  {
   "cell_type": "markdown",
   "id": "1ddf0b96",
   "metadata": {},
   "source": [
    "### How the input() Function Works"
   ]
  },
  {
   "cell_type": "code",
   "execution_count": 1,
   "id": "08fbf21c",
   "metadata": {},
   "outputs": [
    {
     "name": "stdout",
     "output_type": "stream",
     "text": [
      "What is your name: Sabboshachi\n",
      "Sabboshachi\n"
     ]
    }
   ],
   "source": [
    "message = input(\"What is your name: \")\n",
    "\n",
    "print(message)"
   ]
  },
  {
   "cell_type": "markdown",
   "id": "8967abc2",
   "metadata": {},
   "source": [
    "### Writing Clear Prompts"
   ]
  },
  {
   "cell_type": "code",
   "execution_count": 3,
   "id": "73975518",
   "metadata": {},
   "outputs": [
    {
     "name": "stdout",
     "output_type": "stream",
     "text": [
      "Please enter your name: Sabboshachi\n",
      "Hello, Sabboshachi.\n"
     ]
    }
   ],
   "source": [
    "name = input(\"Please enter your name: \")\n",
    "print(\"Hello, \" + name.title() + \".\")"
   ]
  },
  {
   "cell_type": "markdown",
   "id": "f69757b1",
   "metadata": {},
   "source": [
    "### Writing Clear Prompts"
   ]
  },
  {
   "cell_type": "code",
   "execution_count": 6,
   "id": "27e90801",
   "metadata": {},
   "outputs": [
    {
     "name": "stdout",
     "output_type": "stream",
     "text": [
      "How old are you? 26\n",
      "26\n"
     ]
    }
   ],
   "source": [
    "age = input(\"How old are you? \")\n",
    "\n",
    "print(age) "
   ]
  },
  {
   "cell_type": "code",
   "execution_count": 5,
   "id": "37672613",
   "metadata": {},
   "outputs": [
    {
     "data": {
      "text/plain": [
       "str"
      ]
     },
     "execution_count": 5,
     "metadata": {},
     "output_type": "execute_result"
    }
   ],
   "source": [
    "type(age) # here 26 is not a integer but a string. To make it integer we need to declear it as an interger."
   ]
  },
  {
   "cell_type": "code",
   "execution_count": 7,
   "id": "f496380f",
   "metadata": {},
   "outputs": [],
   "source": [
    "age = int(age)"
   ]
  },
  {
   "cell_type": "code",
   "execution_count": 8,
   "id": "283cb0ea",
   "metadata": {},
   "outputs": [
    {
     "data": {
      "text/plain": [
       "int"
      ]
     },
     "execution_count": 8,
     "metadata": {},
     "output_type": "execute_result"
    }
   ],
   "source": [
    "type(age)"
   ]
  },
  {
   "cell_type": "code",
   "execution_count": 17,
   "id": "82b351e3",
   "metadata": {},
   "outputs": [
    {
     "name": "stdout",
     "output_type": "stream",
     "text": [
      "How tall are you, in inches? 55\n",
      "\n",
      "You're tall enough to ride!\n"
     ]
    }
   ],
   "source": [
    "height = input(\"How tall are you, in inches? \")\n",
    "\n",
    "height = int(height)\n",
    "\n",
    "if height >= 36:\n",
    "     print(\"\\nYou're tall enough to ride!\")\n",
    "else:\n",
    "     print(\"\\nYou'll be able to ride when you're a little older.\")"
   ]
  },
  {
   "cell_type": "markdown",
   "id": "7e3d96f0",
   "metadata": {},
   "source": [
    "# Introducing while Loops"
   ]
  },
  {
   "cell_type": "markdown",
   "id": "9563ffec",
   "metadata": {},
   "source": [
    "The for loop takes a collection of items and executes a block of code once \n",
    "for each item in the collection. In contrast, the while loop runs as long as, \n",
    "or while, a certain condition is true. "
   ]
  },
  {
   "cell_type": "markdown",
   "id": "48f807d4",
   "metadata": {},
   "source": [
    "### The while Loop in Action"
   ]
  },
  {
   "cell_type": "code",
   "execution_count": 20,
   "id": "a678d20e",
   "metadata": {},
   "outputs": [
    {
     "name": "stdout",
     "output_type": "stream",
     "text": [
      "1\n",
      "2\n",
      "3\n",
      "4\n",
      "5\n"
     ]
    }
   ],
   "source": [
    "current_number = 1\n",
    "\n",
    "while current_number <= 5:\n",
    "    print(current_number)\n",
    "    current_number += 1"
   ]
  },
  {
   "cell_type": "markdown",
   "id": "26b66641",
   "metadata": {},
   "source": [
    "### Letting the User Choose When to Quit"
   ]
  },
  {
   "cell_type": "code",
   "execution_count": 22,
   "id": "d037e256",
   "metadata": {},
   "outputs": [
    {
     "name": "stdout",
     "output_type": "stream",
     "text": [
      "\n",
      "Tell me something, and I will repeat it back to you:\n",
      "Enter 'quit' to end the program. Susmita \n",
      "Susmita \n",
      "\n",
      "Tell me something, and I will repeat it back to you:\n",
      "Enter 'quit' to end the program. Dey\n",
      "Dey\n",
      "\n",
      "Tell me something, and I will repeat it back to you:\n",
      "Enter 'quit' to end the program. Quit\n",
      "Quit\n",
      "\n",
      "Tell me something, and I will repeat it back to you:\n",
      "Enter 'quit' to end the program. quit\n",
      "quit\n"
     ]
    }
   ],
   "source": [
    "prompt = \"\\nTell me something, and I will repeat it back to you:\" \n",
    "prompt += \"\\nEnter 'quit' to end the program. \"\n",
    "\n",
    "message = \"\"\n",
    "while message != 'quit':\n",
    "    message = input(prompt)\n",
    "    print(message)"
   ]
  },
  {
   "cell_type": "code",
   "execution_count": 24,
   "id": "3463a140",
   "metadata": {},
   "outputs": [
    {
     "name": "stdout",
     "output_type": "stream",
     "text": [
      "\n",
      "Tell me something, and I will repeat it back to you:\n",
      "Enter 'quit' to end the program. Hi\n",
      "Hi\n",
      "\n",
      "Tell me something, and I will repeat it back to you:\n",
      "Enter 'quit' to end the program. quit\n"
     ]
    }
   ],
   "source": [
    "prompt = \"\\nTell me something, and I will repeat it back to you:\" \n",
    "prompt += \"\\nEnter 'quit' to end the program. \"\n",
    "\n",
    "message = \"\"\n",
    "while message != 'quit':\n",
    "    message = input(prompt)\n",
    "    \n",
    "    if message != 'quit':\n",
    "        print(message)"
   ]
  },
  {
   "cell_type": "markdown",
   "id": "c8278742",
   "metadata": {},
   "source": [
    "### Using a Flag"
   ]
  },
  {
   "cell_type": "code",
   "execution_count": null,
   "id": "09b338a7",
   "metadata": {},
   "outputs": [],
   "source": []
  }
 ],
 "metadata": {
  "kernelspec": {
   "display_name": "Python 3 (ipykernel)",
   "language": "python",
   "name": "python3"
  },
  "language_info": {
   "codemirror_mode": {
    "name": "ipython",
    "version": 3
   },
   "file_extension": ".py",
   "mimetype": "text/x-python",
   "name": "python",
   "nbconvert_exporter": "python",
   "pygments_lexer": "ipython3",
   "version": "3.11.1"
  }
 },
 "nbformat": 4,
 "nbformat_minor": 5
}
