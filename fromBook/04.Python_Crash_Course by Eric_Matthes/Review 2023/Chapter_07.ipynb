{
 "cells": [
  {
   "cell_type": "markdown",
   "id": "cb8f9d33",
   "metadata": {},
   "source": [
    "# USER INPUT NAD WHILE LOOPS"
   ]
  },
  {
   "cell_type": "markdown",
   "id": "478bedae",
   "metadata": {},
   "source": [
    "### How the input() Function Works"
   ]
  },
  {
   "cell_type": "code",
   "execution_count": 1,
   "id": "0e550754",
   "metadata": {},
   "outputs": [
    {
     "name": "stdout",
     "output_type": "stream",
     "text": [
      "What is your name: Sabboshachi\n",
      "Sabboshachi\n"
     ]
    }
   ],
   "source": [
    "message = input(\"What is your name: \")\n",
    "\n",
    "print(message)"
   ]
  },
  {
   "cell_type": "markdown",
   "id": "aec914d7",
   "metadata": {},
   "source": [
    "### Writing Clear Prompts"
   ]
  },
  {
   "cell_type": "code",
   "execution_count": 3,
   "id": "20394a77",
   "metadata": {},
   "outputs": [
    {
     "name": "stdout",
     "output_type": "stream",
     "text": [
      "Please enter your name: Sabboshachi\n",
      "Hello, Sabboshachi.\n"
     ]
    }
   ],
   "source": [
    "name = input(\"Please enter your name: \")\n",
    "print(\"Hello, \" + name.title() + \".\")"
   ]
  },
  {
   "cell_type": "markdown",
   "id": "cceba52b",
   "metadata": {},
   "source": [
    "### Writing Clear Prompts"
   ]
  },
  {
   "cell_type": "code",
   "execution_count": 6,
   "id": "7d219e14",
   "metadata": {},
   "outputs": [
    {
     "name": "stdout",
     "output_type": "stream",
     "text": [
      "How old are you? 26\n",
      "26\n"
     ]
    }
   ],
   "source": [
    "age = input(\"How old are you? \")\n",
    "\n",
    "print(age) "
   ]
  },
  {
   "cell_type": "code",
   "execution_count": 5,
   "id": "ca204928",
   "metadata": {},
   "outputs": [
    {
     "data": {
      "text/plain": [
       "str"
      ]
     },
     "execution_count": 5,
     "metadata": {},
     "output_type": "execute_result"
    }
   ],
   "source": [
    "type(age) # here 26 is not a integer but a string. To make it integer we need to declear it as an interger."
   ]
  },
  {
   "cell_type": "code",
   "execution_count": 7,
   "id": "447fd3ec",
   "metadata": {},
   "outputs": [],
   "source": [
    "age = int(age)"
   ]
  },
  {
   "cell_type": "code",
   "execution_count": 8,
   "id": "23d5830e",
   "metadata": {},
   "outputs": [
    {
     "data": {
      "text/plain": [
       "int"
      ]
     },
     "execution_count": 8,
     "metadata": {},
     "output_type": "execute_result"
    }
   ],
   "source": [
    "type(age)"
   ]
  },
  {
   "cell_type": "code",
   "execution_count": 17,
   "id": "cf8e1930",
   "metadata": {},
   "outputs": [
    {
     "name": "stdout",
     "output_type": "stream",
     "text": [
      "How tall are you, in inches? 55\n",
      "\n",
      "You're tall enough to ride!\n"
     ]
    }
   ],
   "source": [
    "height = input(\"How tall are you, in inches? \")\n",
    "\n",
    "height = int(height)\n",
    "\n",
    "if height >= 36:\n",
    "     print(\"\\nYou're tall enough to ride!\")\n",
    "else:\n",
    "     print(\"\\nYou'll be able to ride when you're a little older.\")"
   ]
  },
  {
   "cell_type": "markdown",
   "id": "800f8155",
   "metadata": {},
   "source": [
    "# Introducing while Loops"
   ]
  },
  {
   "cell_type": "markdown",
   "id": "68924631",
   "metadata": {},
   "source": [
    "The for loop takes a collection of items and executes a block of code once \n",
    "for each item in the collection. In contrast, the while loop runs as long as, \n",
    "or while, a certain condition is true. "
   ]
  },
  {
   "cell_type": "markdown",
   "id": "d0defc20",
   "metadata": {},
   "source": [
    "### The while Loop in Action"
   ]
  },
  {
   "cell_type": "code",
   "execution_count": 20,
   "id": "151d4f5f",
   "metadata": {},
   "outputs": [
    {
     "name": "stdout",
     "output_type": "stream",
     "text": [
      "1\n",
      "2\n",
      "3\n",
      "4\n",
      "5\n"
     ]
    }
   ],
   "source": [
    "current_number = 1\n",
    "\n",
    "while current_number <= 5:\n",
    "    print(current_number)\n",
    "    current_number += 1"
   ]
  }
 ],
 "metadata": {
  "kernelspec": {
   "display_name": "Python 3 (ipykernel)",
   "language": "python",
   "name": "python3"
  },
  "language_info": {
   "codemirror_mode": {
    "name": "ipython",
    "version": 3
   },
   "file_extension": ".py",
   "mimetype": "text/x-python",
   "name": "python",
   "nbconvert_exporter": "python",
   "pygments_lexer": "ipython3",
   "version": "3.11.1"
  }
 },
 "nbformat": 4,
 "nbformat_minor": 5
}
