{
 "cells": [
  {
   "cell_type": "markdown",
   "id": "ab40918f",
   "metadata": {},
   "source": [
    "# FILES AND EXCEPTIONS"
   ]
  },
  {
   "cell_type": "markdown",
   "id": "f6a78fd5",
   "metadata": {},
   "source": [
    "### Reading from a File"
   ]
  },
  {
   "cell_type": "code",
   "execution_count": null,
   "id": "a565c763",
   "metadata": {},
   "outputs": [],
   "source": []
  },
  {
   "cell_type": "code",
   "execution_count": null,
   "id": "cad90e35",
   "metadata": {},
   "outputs": [],
   "source": []
  },
  {
   "cell_type": "code",
   "execution_count": null,
   "id": "fc1ac0a7",
   "metadata": {},
   "outputs": [],
   "source": []
  }
 ],
 "metadata": {
  "kernelspec": {
   "display_name": "Python 3 (ipykernel)",
   "language": "python",
   "name": "python3"
  },
  "language_info": {
   "codemirror_mode": {
    "name": "ipython",
    "version": 3
   },
   "file_extension": ".py",
   "mimetype": "text/x-python",
   "name": "python",
   "nbconvert_exporter": "python",
   "pygments_lexer": "ipython3",
   "version": "3.11.1"
  }
 },
 "nbformat": 4,
 "nbformat_minor": 5
}
