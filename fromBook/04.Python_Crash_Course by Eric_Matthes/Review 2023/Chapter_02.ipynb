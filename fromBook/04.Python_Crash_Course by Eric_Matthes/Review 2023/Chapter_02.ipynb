{
 "cells": [
  {
   "cell_type": "markdown",
   "id": "196a360d",
   "metadata": {},
   "source": [
    "# First Program"
   ]
  },
  {
   "cell_type": "code",
   "execution_count": 1,
   "id": "ded7adff",
   "metadata": {},
   "outputs": [
    {
     "name": "stdout",
     "output_type": "stream",
     "text": [
      "Hello World!\n"
     ]
    }
   ],
   "source": [
    "print(\"Hello World!\")"
   ]
  },
  {
   "cell_type": "markdown",
   "id": "47969408",
   "metadata": {},
   "source": [
    "### What Really Happens When You Run hello_world.py"
   ]
  },
  {
   "cell_type": "markdown",
   "id": "42544784",
   "metadata": {},
   "source": [
    "When we run the file the ending .py of the file indicates that \n",
    "the file is a Python program. Our editor then runs the file through the \n",
    "Python interpreter, which reads through the program and determines what \n",
    "each word in the program means. \n",
    "For example, when the interpreter sees the word print, it prints to the screen whatever is inside the parentheses.\n",
    "As we write our programs, our editor highlights different parts of \n",
    "our program in different ways. \n",
    "For example, it recognizes that print is the \n",
    "name of a function and displays that word in blue. It recognizes that “Hello \n",
    "World!” is not Python code and displays that phrase in orange. This \n",
    "feature is called <b>Syntax Highlighting</b> and is quite useful as you start to write \n",
    "our own programs."
   ]
  },
  {
   "cell_type": "markdown",
   "id": "17093e81",
   "metadata": {},
   "source": [
    "# Variables"
   ]
  },
  {
   "cell_type": "code",
   "execution_count": 3,
   "id": "59f11725",
   "metadata": {},
   "outputs": [
    {
     "name": "stdout",
     "output_type": "stream",
     "text": [
      "Hello World!\n"
     ]
    }
   ],
   "source": [
    "message = \"Hello World!\"\n",
    "print(message)"
   ]
  },
  {
   "cell_type": "markdown",
   "id": "7fdd776c",
   "metadata": {},
   "source": [
    "We’ve added a variable named message. Every variable holds a value, which \n",
    "is the information associated with that variable. In this case the value is the \n",
    "text “Hello Python world!” \n",
    "Adding a variable makes a little more work for the Python interpreter. \n",
    "When it processes the first line, it associates the text “Hello Python world!” \n",
    "with the variable message. When it reaches the second line, it prints the value \n",
    "associated with message to the screen."
   ]
  },
  {
   "cell_type": "markdown",
   "id": "805b413a",
   "metadata": {},
   "source": [
    "### Naming and Using Variables"
   ]
  },
  {
   "cell_type": "markdown",
   "id": "cba081c3",
   "metadata": {},
   "source": [
    "When you’re using variables in Python, you need to adhere to a few rules \n",
    "and guidelines. Breaking some of these rules will cause errors; other guidelines just help you write code that’s easier to read and understand. Be sure \n",
    "to keep the following variable rules in mind:\n",
    "\n",
    "    * Variable names can contain only letters, numbers, and underscores.They can start with a letter or an underscore, but not with a number. For instance, you can call a variable message_1 but not 1_message.\n",
    "    * Spaces are not allowed in variable names, but underscores can be used to separate words in variable names. For example, greeting_message works, but greeting message will cause errors.\n",
    "    * Avoid using Python keywords and function names as variable names; that is, do not use words that Python has reserved for a particular programmatic purpose, such as the word 'print'.\n",
    "    * Variable names should be short but descriptive. For example, name is better than n, student_name is better than s_n, and name_length is better than length_of_persons_name.\n",
    "    * Be careful when using the lowercase letter l and the uppercase letter O because they could be confused with the numbers 1 and 0."
   ]
  },
  {
   "cell_type": "markdown",
   "id": "418e387b",
   "metadata": {},
   "source": [
    "# Strings"
   ]
  },
  {
   "cell_type": "markdown",
   "id": "6c5d48aa",
   "metadata": {},
   "source": [
    "A string is simply a series of characters. Anything inside quotes is considered a string in Python.\n",
    "\n",
    "\"This is a string.\"\n",
    "'This is also a string.'"
   ]
  },
  {
   "cell_type": "markdown",
   "id": "58cafe10",
   "metadata": {},
   "source": [
    "### Changing Case in a String with Methods"
   ]
  },
  {
   "cell_type": "code",
   "execution_count": 4,
   "id": "348d847d",
   "metadata": {},
   "outputs": [
    {
     "name": "stdout",
     "output_type": "stream",
     "text": [
      "Ada Lovelace\n"
     ]
    }
   ],
   "source": [
    "name = \"ada lovelace\"\n",
    "print(name.title())"
   ]
  },
  {
   "cell_type": "markdown",
   "id": "9d4d84ce",
   "metadata": {},
   "source": [
    "In this example, the lowercase string \"ada lovelace\" is stored in the variable name. The method title() appears after the variable in the print() statement.\n",
    "\n",
    "A method is an action that Python can perform on a piece of data.\n",
    "The dot (.) after name in name.title() tells Python to make the title() method act on the variable name.\n",
    "Every method is followed by a set of parentheses, because methods often need additional information to do their work. \n",
    "That information is provided inside the parentheses. The title() function doesn’t need any additional information, so its parentheses are empty. \n",
    "\n",
    "title() displays each word in titlecase, where each word begins with a capital letter. This is useful because you’ll often want to think of a name as a piece of information."
   ]
  },
  {
   "cell_type": "code",
   "execution_count": null,
   "id": "e3c173b9",
   "metadata": {},
   "outputs": [],
   "source": []
  }
 ],
 "metadata": {
  "kernelspec": {
   "display_name": "Python 3 (ipykernel)",
   "language": "python",
   "name": "python3"
  },
  "language_info": {
   "codemirror_mode": {
    "name": "ipython",
    "version": 3
   },
   "file_extension": ".py",
   "mimetype": "text/x-python",
   "name": "python",
   "nbconvert_exporter": "python",
   "pygments_lexer": "ipython3",
   "version": "3.11.1"
  }
 },
 "nbformat": 4,
 "nbformat_minor": 5
}
