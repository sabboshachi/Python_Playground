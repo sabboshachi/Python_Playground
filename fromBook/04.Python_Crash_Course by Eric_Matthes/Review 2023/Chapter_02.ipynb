{
 "cells": [
  {
   "cell_type": "markdown",
   "id": "196a360d",
   "metadata": {},
   "source": [
    "# First Program"
   ]
  },
  {
   "cell_type": "code",
   "execution_count": 1,
   "id": "ded7adff",
   "metadata": {},
   "outputs": [
    {
     "name": "stdout",
     "output_type": "stream",
     "text": [
      "Hello World!\n"
     ]
    }
   ],
   "source": [
    "print(\"Hello World!\")"
   ]
  },
  {
   "cell_type": "markdown",
   "id": "47969408",
   "metadata": {},
   "source": [
    "### What Really Happens When You Run hello_world.py"
   ]
  },
  {
   "cell_type": "markdown",
   "id": "42544784",
   "metadata": {},
   "source": [
    "When we run the file the ending .py of the file indicates that \n",
    "the file is a Python program. Our editor then runs the file through the \n",
    "Python interpreter, which reads through the program and determines what \n",
    "each word in the program means. \n",
    "For example, when the interpreter sees the word print, it prints to the screen whatever is inside the parentheses.\n",
    "As we write our programs, our editor highlights different parts of \n",
    "our program in different ways. \n",
    "For example, it recognizes that print is the \n",
    "name of a function and displays that word in blue. It recognizes that “Hello \n",
    "World!” is not Python code and displays that phrase in orange. This \n",
    "feature is called <b>Syntax Highlighting</b> and is quite useful as you start to write \n",
    "our own programs."
   ]
  },
  {
   "cell_type": "markdown",
   "id": "17093e81",
   "metadata": {},
   "source": [
    "# Variables"
   ]
  },
  {
   "cell_type": "code",
   "execution_count": 3,
   "id": "59f11725",
   "metadata": {},
   "outputs": [
    {
     "name": "stdout",
     "output_type": "stream",
     "text": [
      "Hello World!\n"
     ]
    }
   ],
   "source": [
    "message = \"Hello World!\"\n",
    "print(message)"
   ]
  },
  {
   "cell_type": "markdown",
   "id": "7fdd776c",
   "metadata": {},
   "source": [
    "We’ve added a variable named message. Every variable holds a value, which \n",
    "is the information associated with that variable. In this case the value is the \n",
    "text “Hello Python world!” \n",
    "Adding a variable makes a little more work for the Python interpreter. \n",
    "When it processes the first line, it associates the text “Hello Python world!” \n",
    "with the variable message. When it reaches the second line, it prints the value \n",
    "associated with message to the screen."
   ]
  },
  {
   "cell_type": "markdown",
   "id": "805b413a",
   "metadata": {},
   "source": [
    "### Naming and Using Variables"
   ]
  },
  {
   "cell_type": "markdown",
   "id": "cba081c3",
   "metadata": {},
   "source": [
    "When you’re using variables in Python, you need to adhere to a few rules \n",
    "and guidelines. Breaking some of these rules will cause errors; other guidelines just help you write code that’s easier to read and understand. Be sure \n",
    "to keep the following variable rules in mind:\n",
    "\n",
    "    * Variable names can contain only letters, numbers, and underscores.They can start with a letter or an underscore, but not with a number. For instance, you can call a variable message_1 but not 1_message.\n",
    "    * Spaces are not allowed in variable names, but underscores can be used to separate words in variable names. For example, greeting_message works, but greeting message will cause errors.\n",
    "    * Avoid using Python keywords and function names as variable names; that is, do not use words that Python has reserved for a particular programmatic purpose, such as the word 'print'.\n",
    "    * Variable names should be short but descriptive. For example, name is better than n, student_name is better than s_n, and name_length is better than length_of_persons_name.\n",
    "    * Be careful when using the lowercase letter l and the uppercase letter O because they could be confused with the numbers 1 and 0."
   ]
  },
  {
   "cell_type": "markdown",
   "id": "418e387b",
   "metadata": {},
   "source": [
    "# Strings"
   ]
  },
  {
   "cell_type": "markdown",
   "id": "6c5d48aa",
   "metadata": {},
   "source": [
    "A string is simply a series of characters. Anything inside quotes is considered a string in Python.\n",
    "\n",
    "\"This is a string.\"\n",
    "'This is also a string.'"
   ]
  },
  {
   "cell_type": "markdown",
   "id": "58cafe10",
   "metadata": {},
   "source": [
    "### Changing Case in a String with Methods"
   ]
  },
  {
   "cell_type": "code",
   "execution_count": 4,
   "id": "348d847d",
   "metadata": {},
   "outputs": [
    {
     "name": "stdout",
     "output_type": "stream",
     "text": [
      "Ada Lovelace\n"
     ]
    }
   ],
   "source": [
    "name = \"ada lovelace\"\n",
    "print(name.title()) # Only the first value of the string will be in upper case"
   ]
  },
  {
   "cell_type": "markdown",
   "id": "9d4d84ce",
   "metadata": {},
   "source": [
    "In this example, the lowercase string \"ada lovelace\" is stored in the variable name. The method title() appears after the variable in the print() statement.\n",
    "\n",
    "A method is an action that Python can perform on a piece of data.\n",
    "The dot (.) after name in name.title() tells Python to make the title() method act on the variable name.\n",
    "Every method is followed by a set of parentheses, because methods often need additional information to do their work. \n",
    "That information is provided inside the parentheses. The title() function doesn’t need any additional information, so its parentheses are empty. \n",
    "\n",
    "title() displays each word in titlecase, where each word begins with a capital letter. This is useful because you’ll often want to think of a name as a piece of information."
   ]
  },
  {
   "cell_type": "code",
   "execution_count": 1,
   "id": "e3c173b9",
   "metadata": {},
   "outputs": [
    {
     "name": "stdout",
     "output_type": "stream",
     "text": [
      "ADA LOVELACE\n",
      "ada lovelace\n"
     ]
    }
   ],
   "source": [
    "name = \"Ada Lovelace\"\n",
    "print(name.upper()) # for all upper case \n",
    "print(name.lower()) # for all lower case"
   ]
  },
  {
   "cell_type": "markdown",
   "id": "57925c43",
   "metadata": {},
   "source": [
    "### Combining or Concatenating Strings"
   ]
  },
  {
   "cell_type": "code",
   "execution_count": 3,
   "id": "ee22858f",
   "metadata": {},
   "outputs": [
    {
     "name": "stdout",
     "output_type": "stream",
     "text": [
      "Ada Lovelace\n"
     ]
    }
   ],
   "source": [
    "first_name = \"ada\"\n",
    "last_name = \"lovelace\"\n",
    "\n",
    "full_name = first_name + \" \" + last_name\n",
    "print(full_name.title())"
   ]
  },
  {
   "cell_type": "markdown",
   "id": "6a45b19a",
   "metadata": {},
   "source": [
    "### Adding Whitespace to Strings with Tabs or Newlines"
   ]
  },
  {
   "cell_type": "markdown",
   "id": "0b12a046",
   "metadata": {},
   "source": [
    "In programming, whitespace refers to any nonprinting character, such as \n",
    "spaces, tabs, and end-of-line symbols. You can use whitespace to organize \n",
    "your output so it’s easier for users to read."
   ]
  },
  {
   "cell_type": "code",
   "execution_count": 4,
   "id": "99bd99ed",
   "metadata": {},
   "outputs": [
    {
     "name": "stdout",
     "output_type": "stream",
     "text": [
      "Python\n",
      "\tPython\n"
     ]
    }
   ],
   "source": [
    "print(\"Python\")\n",
    "\n",
    "print(\"\\tPython\") # 4 space concatenation / 1 tab\n"
   ]
  },
  {
   "cell_type": "code",
   "execution_count": 5,
   "id": "12201168",
   "metadata": {},
   "outputs": [
    {
     "name": "stdout",
     "output_type": "stream",
     "text": [
      "Languages:\n",
      "\tPython\n",
      "\tC\n",
      "\tJavaScript\n"
     ]
    }
   ],
   "source": [
    " print(\"Languages:\\n\\tPython\\n\\tC\\n\\tJavaScript\") # 1 tab and new line making "
   ]
  },
  {
   "cell_type": "markdown",
   "id": "b7dadf8b",
   "metadata": {},
   "source": [
    "### Stripping Whitespace"
   ]
  },
  {
   "cell_type": "code",
   "execution_count": 13,
   "id": "2d5e0f29",
   "metadata": {},
   "outputs": [],
   "source": [
    "favorite_language = ' python '"
   ]
  },
  {
   "cell_type": "code",
   "execution_count": 14,
   "id": "e35fc818",
   "metadata": {},
   "outputs": [
    {
     "name": "stdout",
     "output_type": "stream",
     "text": [
      " python\n",
      "python \n",
      "python\n"
     ]
    }
   ],
   "source": [
    "print(favorite_language.rstrip()) # delete the extra space from right side\n",
    "print(favorite_language.lstrip()) # delete the extra space from right side\n",
    "print(favorite_language.strip()) # delete the extra space from both side"
   ]
  },
  {
   "cell_type": "markdown",
   "id": "ffb295f9",
   "metadata": {},
   "source": [
    "# Numbers"
   ]
  },
  {
   "cell_type": "markdown",
   "id": "9c761692",
   "metadata": {},
   "source": [
    "Numbers are used quite often in programming to keep score in games, represent data in visualizations, store information in web applications, and so \n",
    "on. Python treats numbers in several different ways, depending on how they \n",
    "are being used.\n",
    "    \n",
    "    ** Integers\n",
    "    ** Floats"
   ]
  },
  {
   "cell_type": "markdown",
   "id": "e046ab73",
   "metadata": {},
   "source": [
    "### Avoiding Type Errors with the str() Function"
   ]
  },
  {
   "cell_type": "code",
   "execution_count": 16,
   "id": "c7d21dbf",
   "metadata": {},
   "outputs": [
    {
     "ename": "TypeError",
     "evalue": "can only concatenate str (not \"int\") to str",
     "output_type": "error",
     "traceback": [
      "\u001b[1;31m---------------------------------------------------------------------------\u001b[0m",
      "\u001b[1;31mTypeError\u001b[0m                                 Traceback (most recent call last)",
      "Cell \u001b[1;32mIn[16], line 3\u001b[0m\n\u001b[0;32m      1\u001b[0m age \u001b[38;5;241m=\u001b[39m \u001b[38;5;241m23\u001b[39m\n\u001b[1;32m----> 3\u001b[0m message \u001b[38;5;241m=\u001b[39m \u001b[38;5;124;43m\"\u001b[39;49m\u001b[38;5;124;43mHappy \u001b[39;49m\u001b[38;5;124;43m\"\u001b[39;49m\u001b[43m \u001b[49m\u001b[38;5;241;43m+\u001b[39;49m\u001b[43m \u001b[49m\u001b[43mage\u001b[49m \u001b[38;5;241m+\u001b[39m \u001b[38;5;124m\"\u001b[39m\u001b[38;5;124mrd Birthday!\u001b[39m\u001b[38;5;124m\"\u001b[39m\n\u001b[0;32m      5\u001b[0m \u001b[38;5;28mprint\u001b[39m(message)\n",
      "\u001b[1;31mTypeError\u001b[0m: can only concatenate str (not \"int\") to str"
     ]
    }
   ],
   "source": [
    "age = 23\n",
    "\n",
    "message = \"Happy \" + age + \"rd Birthday!\"\n",
    "\n",
    "print(message)"
   ]
  },
  {
   "cell_type": "markdown",
   "id": "f1cd7b58",
   "metadata": {},
   "source": [
    "This is a type error. It means Python can’t recognize the kind of information we are using. In this example Python sees at that we are using a variable that has an integer value (int), but it is not sure how to interpret that value. Python knows that the vlaue could represent either numerical valye 23 or the charecters 2 and 3 When you use integers within strings \n",
    "like this, you need to specify explicitly that you want Python to use the integer as a string of characters. We can do this by wrapping the variable in the str() function, which tells Python to represent non-string values as strings: "
   ]
  },
  {
   "cell_type": "code",
   "execution_count": 18,
   "id": "3e2b620e",
   "metadata": {},
   "outputs": [
    {
     "ename": "TypeError",
     "evalue": "can only concatenate str (not \"int\") to str",
     "output_type": "error",
     "traceback": [
      "\u001b[1;31m---------------------------------------------------------------------------\u001b[0m",
      "\u001b[1;31mTypeError\u001b[0m                                 Traceback (most recent call last)",
      "Cell \u001b[1;32mIn[18], line 3\u001b[0m\n\u001b[0;32m      1\u001b[0m age \u001b[38;5;241m=\u001b[39m \u001b[38;5;241m23\u001b[39m\n\u001b[1;32m----> 3\u001b[0m message \u001b[38;5;241m=\u001b[39m \u001b[38;5;124;43m\"\u001b[39;49m\u001b[38;5;124;43mHappy \u001b[39;49m\u001b[38;5;124;43m\"\u001b[39;49m\u001b[43m \u001b[49m\u001b[38;5;241;43m+\u001b[39;49m\u001b[43m \u001b[49m\u001b[38;5;28;43mint\u001b[39;49m\u001b[43m(\u001b[49m\u001b[43mage\u001b[49m\u001b[43m)\u001b[49m \u001b[38;5;241m+\u001b[39m \u001b[38;5;124m\"\u001b[39m\u001b[38;5;124mrd Birthday!\u001b[39m\u001b[38;5;124m\"\u001b[39m\n\u001b[0;32m      5\u001b[0m \u001b[38;5;28mprint\u001b[39m(message)\n",
      "\u001b[1;31mTypeError\u001b[0m: can only concatenate str (not \"int\") to str"
     ]
    }
   ],
   "source": [
    "age = 23\n",
    "\n",
    "message = \"Happy \" + int(age) + \"rd Birthday!\"\n",
    "\n",
    "print(message)"
   ]
  },
  {
   "cell_type": "code",
   "execution_count": 19,
   "id": "3264ae43",
   "metadata": {},
   "outputs": [
    {
     "name": "stdout",
     "output_type": "stream",
     "text": [
      "Happy 23rd Birthday!\n"
     ]
    }
   ],
   "source": [
    "age = 23\n",
    "\n",
    "message = \"Happy \" + str(age) + \"rd Birthday!\"\n",
    "\n",
    "print(message)"
   ]
  },
  {
   "cell_type": "markdown",
   "id": "27d90bd5",
   "metadata": {},
   "source": [
    "# Comments"
   ]
  },
  {
   "cell_type": "markdown",
   "id": "1d47a46c",
   "metadata": {},
   "source": [
    "Comments are an extremely useful feature in most programming languages. \n",
    "Everything we’ve written in our programs so far is Python code. As our \n",
    "programs become longer and more complicated, we should add notes within \n",
    "our programs that describe our overall approach to the problem we’re \n",
    "solving. A comment allows you to write notes in English within our programs."
   ]
  },
  {
   "cell_type": "code",
   "execution_count": 21,
   "id": "eaa821e3",
   "metadata": {},
   "outputs": [
    {
     "name": "stdout",
     "output_type": "stream",
     "text": [
      "Hello Python people!\n"
     ]
    }
   ],
   "source": [
    " # Say hello to everyone.\n",
    "print(\"Hello Python people!\")"
   ]
  }
 ],
 "metadata": {
  "kernelspec": {
   "display_name": "Python 3 (ipykernel)",
   "language": "python",
   "name": "python3"
  },
  "language_info": {
   "codemirror_mode": {
    "name": "ipython",
    "version": 3
   },
   "file_extension": ".py",
   "mimetype": "text/x-python",
   "name": "python",
   "nbconvert_exporter": "python",
   "pygments_lexer": "ipython3",
   "version": "3.11.1"
  }
 },
 "nbformat": 4,
 "nbformat_minor": 5
}
