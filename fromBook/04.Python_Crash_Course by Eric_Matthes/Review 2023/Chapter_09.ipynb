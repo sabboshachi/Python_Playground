{
 "cells": [
  {
   "cell_type": "markdown",
   "id": "5d29326f",
   "metadata": {},
   "source": [
    "# CLASSES"
   ]
  },
  {
   "cell_type": "markdown",
   "id": "a42296a2",
   "metadata": {},
   "source": [
    "Object-oriented programming is one of the \n",
    "most effective approaches to writing software. \n",
    "\n",
    "In object-oriented programming you \n",
    "write classes that represent real-world things \n",
    "and situations, and you create objects based on these \n",
    "classes. \n",
    "\n",
    "When you write a class, you define the general \n",
    "behavior that a whole category of objects can have. When you create individual objects from the class, each object is automatically equipped with the general behavior, we can then give each object whatever unique triaits we desire.\n",
    "\n",
    "Making an object from a class is called <b>instantiation</b>, and you work with \n",
    "<b>instances</b> of a class."
   ]
  },
  {
   "cell_type": "markdown",
   "id": "871080cc",
   "metadata": {},
   "source": [
    "# Creating and Using a Class"
   ]
  },
  {
   "cell_type": "markdown",
   "id": "77827b8f",
   "metadata": {},
   "source": [
    "We can model almost anything using classes."
   ]
  },
  {
   "cell_type": "markdown",
   "id": "e9c42d61",
   "metadata": {},
   "source": [
    "### Creating the Dog Class"
   ]
  },
  {
   "cell_type": "code",
   "execution_count": 4,
   "id": "af10f223",
   "metadata": {},
   "outputs": [],
   "source": [
    "class Dog(): ### define a class called Dog.\n",
    "    \"\"\"A simple attempt to model a dog\"\"\" ### we write a docstring describing what this class does.\n",
    "    \n",
    "    def __init__(self, name, age):\n",
    "        self.name = name\n",
    "        self.age = age\n",
    "        \n",
    "    def sit(self):\n",
    "        \"\"\"Simulate a dog sitting in response to a command\"\"\"\n",
    "        print(self.name.title() + \" is sitting now.\")\n",
    "        \n",
    "    def roll_over(self):\n",
    "        \"\"\"Simulate rolling over in response to a command\"\"\"\n",
    "        print(self.name.title() + \" rolled over!\")"
   ]
  },
  {
   "cell_type": "code",
   "execution_count": 5,
   "id": "87aa62d7",
   "metadata": {},
   "outputs": [
    {
     "name": "stdout",
     "output_type": "stream",
     "text": [
      "My dog's name is Willie.\n",
      "My dog is 6 years old.\n"
     ]
    }
   ],
   "source": [
    "my_dog = Dog('willie', 6)\n",
    "\n",
    "print(\"My dog's name is \" + my_dog.name.title() + \".\")\n",
    "print(\"My dog is \" + str(my_dog.age) + \" years old.\")"
   ]
  },
  {
   "cell_type": "markdown",
   "id": "df92ba8c",
   "metadata": {},
   "source": [
    "### **The __init__() Method**\n",
    "\n",
    "A function that’s part of a class is a method. Everything we know about a function applies to methods as well the only practical difference for now is the way we'll call methods. \n",
    "\n",
    "The __init__() method is a special method Python runs automatically whenever we create a new instance based on the Dog Class. This method has two leading underscores and two trailing underscores, a convention that helps prevent python's default method names from confliction with our method names. \n",
    "\n",
    "We define the __init__() method to have three parameters: self, name, \n",
    "and age. The self parameter is required in the method definition, and it \n",
    "must come first before the other parameters.  It must be included in the definition because when Python calls this __init__() method later (to create an instance of Dog),  the method call will automatically pass the self argument. Every method call associated with a class automatically passes self, which \n",
    "is a reference to the instance itself; it gives the individual instance access to \n",
    "the attributes and methods in the class.\n",
    "\n",
    "When we make an instance of Dog, \n",
    "Python will call the __init__() method from the Dog class. We’ll pass Dog()\n",
    "a name and an age as arguments; self is passed automatically, so we don’t \n",
    "need to pass it. Whenever we want to make an instance from the Dog class, \n",
    "we’ll provide values for only the last two parameters, name and age.\n",
    "\n",
    "The two variables have the prefix self. Any variable \n",
    "prefixed with self is available to every method in the class, and we’ll also be \n",
    "able to access these variables through any instance created from the class. self.name = name takes the value stored in the parameter name and stores it \n",
    "in the variable name, which is then attached to the instance being created. \n",
    "The same process happens with self.age = age. Variables that are accessible \n",
    "through instances like this are called <b>attributes</b>.\n",
    "\n",
    "The Dog class has two other methods defined: sit() and roll_over(). Because these methods don’t need additional information like a name \n",
    "or age, we just define them to have one parameter, self. The instances \n",
    "we create later will have access to these methods. In other words, they’ll \n",
    "be able to sit and roll over. For now, sit() and roll_over() don’t do much. \n",
    "They simply print a message saying the dog is sitting or rolling over. But \n",
    "the concept can be extended to realistic situations: if this class were part \n",
    "of an actual computer game, these methods would contain code to make \n",
    "an animated dog sit and roll over. If this class was written to control a \n",
    "robot, these methods would direct movements that cause a dog robot to \n",
    "sit and roll over.\n"
   ]
  },
  {
   "cell_type": "markdown",
   "id": "b891c916",
   "metadata": {},
   "source": [
    "### Accessing Attributes\n",
    "\n",
    "To access the attributes of an instance, you use dot notation."
   ]
  },
  {
   "cell_type": "code",
   "execution_count": null,
   "id": "efb46337",
   "metadata": {},
   "outputs": [],
   "source": [
    "my_dog.name "
   ]
  },
  {
   "cell_type": "markdown",
   "id": "a0523b57",
   "metadata": {},
   "source": [
    "### Calling Methods"
   ]
  },
  {
   "cell_type": "code",
   "execution_count": 22,
   "id": "c6266026",
   "metadata": {},
   "outputs": [],
   "source": [
    "class Dog(): ### define a class called Dog.\n",
    "    \"\"\"A simple attempt to model a dog\"\"\" ### we write a docstring describing what this class does.\n",
    "    \n",
    "    def __init__(self, name, age):\n",
    "        self.name = name\n",
    "        self.age = age\n",
    "        \n",
    "    def sit(self):\n",
    "        \"\"\"Simulate a dog sitting in response to a command\"\"\"\n",
    "        print(self.name.title() + \" is sitting now.\")\n",
    "        \n",
    "    def roll_over(self):\n",
    "        \"\"\"Simulate rolling over in response to a command\"\"\"\n",
    "        print(self.name.title() + \" rolled over!\")"
   ]
  },
  {
   "cell_type": "code",
   "execution_count": 23,
   "id": "83c80773",
   "metadata": {},
   "outputs": [
    {
     "name": "stdout",
     "output_type": "stream",
     "text": [
      "My Dog's name is Max.\n",
      "His age is 6.\n",
      "\n",
      "\n",
      "Max is sitting now.\n",
      "Max rolled over!\n"
     ]
    }
   ],
   "source": [
    "my_dog = Dog(\"Max\",6)\n",
    "\n",
    "print(\"My Dog's name is \" + my_dog.name.title() + \".\")\n",
    "print(\"His age is \" + str(my_dog.age) + \".\")\n",
    "print(\"\\n\")\n",
    "my_dog.sit()\n",
    "my_dog.roll_over()"
   ]
  },
  {
   "cell_type": "markdown",
   "id": "bb95e31a",
   "metadata": {},
   "source": [
    "### Creating Multiple Instances"
   ]
  },
  {
   "cell_type": "code",
   "execution_count": 26,
   "id": "8a161c36",
   "metadata": {},
   "outputs": [],
   "source": [
    "class Dog(): ### define a class called Dog.\n",
    "    \"\"\"A simple attempt to model a dog\"\"\" ### we write a docstring describing what this class does.\n",
    "    \n",
    "    def __init__(self, name, age):\n",
    "        self.name = name\n",
    "        self.age = age\n",
    "        \n",
    "    def sit(self):\n",
    "        \"\"\"Simulate a dog sitting in response to a command\"\"\"\n",
    "        print(self.name.title() + \" is sitting now.\")\n",
    "        \n",
    "    def roll_over(self):\n",
    "        \"\"\"Simulate rolling over in response to a command\"\"\"\n",
    "        print(self.name.title() + \" rolled over!\")"
   ]
  },
  {
   "cell_type": "code",
   "execution_count": 29,
   "id": "acdb2ab7",
   "metadata": {},
   "outputs": [
    {
     "name": "stdout",
     "output_type": "stream",
     "text": [
      "The name of my dog is Max.\n",
      "He is 6.\n",
      "Your dog's name is Tom.\n",
      "He is just 5.\n",
      "Tom is sitting now.\n",
      "Max rolled over!\n"
     ]
    }
   ],
   "source": [
    "my_dog = Dog(\"Max\", 6)\n",
    "\n",
    "your_dog = Dog(\"Tom\", 5)\n",
    "\n",
    "print(\"The name of my dog is \" + my_dog.name.title() + \".\")\n",
    "print(\"He is \" + str(my_dog.age) + \".\")\n",
    "\n",
    "print(\"Your dog's name is \" + your_dog.name.title() + \".\")\n",
    "print(\"He is just \" + str(your_dog.age) + \".\")\n",
    "\n",
    "your_dog.sit()\n",
    "my_dog.roll_over()"
   ]
  },
  {
   "cell_type": "markdown",
   "id": "d5b853ce",
   "metadata": {},
   "source": [
    "# ********************** EXERCISE **********************"
   ]
  },
  {
   "cell_type": "markdown",
   "id": "c32c8f11",
   "metadata": {},
   "source": [
    "<b>9-1 Restaurant:</b> Make a class called Restaurant. The __init__() method for \n",
    "Restaurant should store two attributes: a restaurant_name and a cuisine_type.\n",
    "Make a method called describe_restaurant() that prints these two pieces of \n",
    "information, and a method called open_restaurant() that prints a message indicating that the restaurant is open.\n",
    "\n",
    "Make an instance called restaurant from your class. Print the two attributes individually and then call both methods."
   ]
  },
  {
   "cell_type": "code",
   "execution_count": null,
   "id": "fef8bd4d",
   "metadata": {},
   "outputs": [],
   "source": []
  },
  {
   "cell_type": "code",
   "execution_count": null,
   "id": "8fb37625",
   "metadata": {},
   "outputs": [],
   "source": []
  },
  {
   "cell_type": "code",
   "execution_count": null,
   "id": "7fd02beb",
   "metadata": {},
   "outputs": [],
   "source": []
  },
  {
   "cell_type": "code",
   "execution_count": null,
   "id": "1a15166b",
   "metadata": {},
   "outputs": [],
   "source": []
  },
  {
   "cell_type": "code",
   "execution_count": null,
   "id": "e8751c97",
   "metadata": {},
   "outputs": [],
   "source": []
  },
  {
   "cell_type": "code",
   "execution_count": null,
   "id": "9fa06f52",
   "metadata": {},
   "outputs": [],
   "source": []
  },
  {
   "cell_type": "code",
   "execution_count": null,
   "id": "d100dd68",
   "metadata": {},
   "outputs": [],
   "source": []
  },
  {
   "cell_type": "code",
   "execution_count": null,
   "id": "2bd44e18",
   "metadata": {},
   "outputs": [],
   "source": []
  },
  {
   "cell_type": "code",
   "execution_count": null,
   "id": "8a601d9d",
   "metadata": {},
   "outputs": [],
   "source": []
  },
  {
   "cell_type": "code",
   "execution_count": null,
   "id": "03a8e160",
   "metadata": {},
   "outputs": [],
   "source": []
  }
 ],
 "metadata": {
  "kernelspec": {
   "display_name": "Python 3 (ipykernel)",
   "language": "python",
   "name": "python3"
  },
  "language_info": {
   "codemirror_mode": {
    "name": "ipython",
    "version": 3
   },
   "file_extension": ".py",
   "mimetype": "text/x-python",
   "name": "python",
   "nbconvert_exporter": "python",
   "pygments_lexer": "ipython3",
   "version": "3.11.1"
  }
 },
 "nbformat": 4,
 "nbformat_minor": 5
}
