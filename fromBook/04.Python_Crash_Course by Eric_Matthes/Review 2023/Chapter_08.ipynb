{
 "cells": [
  {
   "cell_type": "markdown",
   "id": "1afe0aee",
   "metadata": {},
   "source": [
    "# FUNCTIONS"
   ]
  },
  {
   "cell_type": "markdown",
   "id": "a653d5b9",
   "metadata": {},
   "source": [
    "### Defining a Function"
   ]
  },
  {
   "cell_type": "code",
   "execution_count": 2,
   "id": "48bc962e",
   "metadata": {},
   "outputs": [
    {
     "name": "stdout",
     "output_type": "stream",
     "text": [
      "Hello!\n"
     ]
    }
   ],
   "source": [
    "def greet_user(): ###keyword def informs Python that you’re defining a function.\n",
    "    \"\"\"Display a simple greeting\"\"\" ### this is a comment called a \"docstring\"\n",
    "    print(\"Hello!\")\n",
    "    \n",
    "greet_user() ###To call a function, you write the name of the function"
   ]
  },
  {
   "cell_type": "markdown",
   "id": "3c28fc86",
   "metadata": {},
   "source": [
    "### Passing Information to a Function"
   ]
  },
  {
   "cell_type": "code",
   "execution_count": 5,
   "id": "5b1b206c",
   "metadata": {},
   "outputs": [
    {
     "name": "stdout",
     "output_type": "stream",
     "text": [
      "Hello, Mr.Tekka.\n"
     ]
    }
   ],
   "source": [
    "def greet_user(username):\n",
    "    \"\"\"Display a simple greeting\"\"\"\n",
    "    \n",
    "    print(\"Hello, Mr.\" + username.title() + \".\")\n",
    "    \n",
    "greet_user(\"tekka\")"
   ]
  },
  {
   "cell_type": "markdown",
   "id": "7f912da9",
   "metadata": {},
   "source": [
    "### Arguments and Parameters"
   ]
  },
  {
   "cell_type": "markdown",
   "id": "576c0b0a",
   "metadata": {},
   "source": [
    "The variable username in the definition of greet_user() is an example of a \n",
    "parameter, a piece of information the function needs to do its job. The value \n",
    "'jesse' in greet_user('jesse') is an example of an argument. An argument \n",
    "is a piece of information that is passed from a function call to a function. When we call the function, we place the value we want the function to work \n",
    "with in parentheses. In this case the argument 'jesse' was passed to the \n",
    "function greet_user(), and the value was stored in the parameter username."
   ]
  },
  {
   "cell_type": "markdown",
   "id": "aa70c953",
   "metadata": {},
   "source": [
    "# Passing Arguments"
   ]
  },
  {
   "cell_type": "code",
   "execution_count": null,
   "id": "3ba7ce37",
   "metadata": {},
   "outputs": [],
   "source": []
  }
 ],
 "metadata": {
  "kernelspec": {
   "display_name": "Python 3 (ipykernel)",
   "language": "python",
   "name": "python3"
  },
  "language_info": {
   "codemirror_mode": {
    "name": "ipython",
    "version": 3
   },
   "file_extension": ".py",
   "mimetype": "text/x-python",
   "name": "python",
   "nbconvert_exporter": "python",
   "pygments_lexer": "ipython3",
   "version": "3.11.1"
  }
 },
 "nbformat": 4,
 "nbformat_minor": 5
}
