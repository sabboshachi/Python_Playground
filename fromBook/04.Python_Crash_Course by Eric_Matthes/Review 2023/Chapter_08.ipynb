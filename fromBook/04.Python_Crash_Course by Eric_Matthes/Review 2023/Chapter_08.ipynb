{
 "cells": [
  {
   "cell_type": "markdown",
   "id": "ae6d49c1",
   "metadata": {},
   "source": [
    "# FUNCTIONS"
   ]
  },
  {
   "cell_type": "markdown",
   "id": "fdf6d2f3",
   "metadata": {},
   "source": [
    "### Defining a Function"
   ]
  },
  {
   "cell_type": "code",
   "execution_count": 2,
   "id": "6893fc17",
   "metadata": {},
   "outputs": [
    {
     "name": "stdout",
     "output_type": "stream",
     "text": [
      "Hello!\n"
     ]
    }
   ],
   "source": [
    "def greet_user(): ###keyword def informs Python that you’re defining a function.\n",
    "    \"\"\"Display a simple greeting\"\"\" ### this is a comment called a \"docstring\"\n",
    "    print(\"Hello!\")\n",
    "    \n",
    "greet_user() ###To call a function, you write the name of the function"
   ]
  },
  {
   "cell_type": "markdown",
   "id": "09c11fda",
   "metadata": {},
   "source": [
    "### Passing Information to a Function"
   ]
  },
  {
   "cell_type": "code",
   "execution_count": 5,
   "id": "2a0eca54",
   "metadata": {},
   "outputs": [
    {
     "name": "stdout",
     "output_type": "stream",
     "text": [
      "Hello, Mr.Tekka.\n"
     ]
    }
   ],
   "source": [
    "def greet_user(username):\n",
    "    \"\"\"Display a simple greeting\"\"\"\n",
    "    \n",
    "    print(\"Hello, Mr.\" + username.title() + \".\")\n",
    "    \n",
    "greet_user(\"tekka\")"
   ]
  },
  {
   "cell_type": "markdown",
   "id": "a108231c",
   "metadata": {},
   "source": [
    "### Arguments and Parameters"
   ]
  },
  {
   "cell_type": "markdown",
   "id": "a7c007a2",
   "metadata": {},
   "source": [
    "The variable username in the definition of greet_user() is an example of a \n",
    "parameter, a piece of information the function needs to do its job. The value \n",
    "'jesse' in greet_user('jesse') is an example of an argument. An argument \n",
    "is a piece of information that is passed from a function call to a function. When we call the function, we place the value we want the function to work \n",
    "with in parentheses. In this case the argument 'jesse' was passed to the \n",
    "function greet_user(), and the value was stored in the parameter username."
   ]
  },
  {
   "cell_type": "markdown",
   "id": "20bd9004",
   "metadata": {},
   "source": [
    "# Passing Arguments"
   ]
  },
  {
   "cell_type": "markdown",
   "id": "8fe776ec",
   "metadata": {},
   "source": [
    "Because a function definition can have multiple parameters, a function call \n",
    "may need multiple arguments. You can pass arguments to your functions \n",
    "in a number of ways. You can use positional arguments, which need to be in \n",
    "the same order the parameters were written; keyword arguments, where each \n",
    "argument consists of a variable name and a value; and lists and dictionaries \n",
    "of values. Let’s look at each of these in turn."
   ]
  },
  {
   "cell_type": "markdown",
   "id": "71d33f4f",
   "metadata": {},
   "source": [
    "### Positional Arguments"
   ]
  },
  {
   "cell_type": "markdown",
   "id": "6e361ff6",
   "metadata": {},
   "source": [
    "When you call a function, Python must match each argument in the function call with a parameter in the function definition. \n",
    "The simplest way to do this is based on the order of the arguments provided.Values matched up this way are called positional argument.\n"
   ]
  },
  {
   "cell_type": "code",
   "execution_count": 2,
   "id": "e620df21",
   "metadata": {},
   "outputs": [
    {
     "name": "stdout",
     "output_type": "stream",
     "text": [
      "\n",
      "I have a Cat.\n",
      "Its name is Tom.\n"
     ]
    }
   ],
   "source": [
    "def describe_pet(animal_type, pet_name):\n",
    "    '''Display information about the pet'''\n",
    "    print(\"\\nI have a \" + animal_type + \".\")\n",
    "    print(\"Its name is \" + pet_name.title()+ \".\")\n",
    "    \n",
    "describe_pet(\"Cat\", \"Tom\")"
   ]
  },
  {
   "cell_type": "code",
   "execution_count": 3,
   "id": "178ffe44",
   "metadata": {},
   "outputs": [
    {
     "name": "stdout",
     "output_type": "stream",
     "text": [
      "\n",
      "I have a Tom.\n",
      "Its name is Cat.\n"
     ]
    }
   ],
   "source": [
    "def describe_pet(pet_name, animal_type):\n",
    "    '''Display information about the pet'''\n",
    "    print(\"\\nI have a \" + animal_type + \".\")\n",
    "    print(\"Its name is \" + pet_name.title()+ \".\")\n",
    "    \n",
    "describe_pet(\"Cat\", \"Tom\")"
   ]
  },
  {
   "cell_type": "markdown",
   "id": "4ed5acee",
   "metadata": {},
   "source": [
    "Answer cheaged beacuse we changed the order of the argument. Which results in a wrong output."
   ]
  },
  {
   "cell_type": "markdown",
   "id": "11417be2",
   "metadata": {},
   "source": [
    "### Multiple Function Calls"
   ]
  },
  {
   "cell_type": "code",
   "execution_count": 4,
   "id": "91d75422",
   "metadata": {},
   "outputs": [
    {
     "name": "stdout",
     "output_type": "stream",
     "text": [
      "\n",
      "I have a Cat.\n",
      "Its name is Tom.\n",
      "\n",
      "I have a Mouse.\n",
      "Its name is Jerry.\n"
     ]
    }
   ],
   "source": [
    "def describe_pet(animal_type, pet_name):\n",
    "    '''Display information about the pet'''\n",
    "    print(\"\\nI have a \" + animal_type + \".\")\n",
    "    print(\"Its name is \" + pet_name.title()+ \".\")\n",
    "    \n",
    "describe_pet(\"Cat\", \"Tom\")\n",
    "describe_pet(\"Mouse\", \"Jerry\")"
   ]
  },
  {
   "cell_type": "markdown",
   "id": "823bf9e2",
   "metadata": {},
   "source": [
    "### Keyword Arguments"
   ]
  },
  {
   "cell_type": "markdown",
   "id": "ade0f51e",
   "metadata": {},
   "source": [
    "A keyword argument is a name-value pair that you pass to a function. You \n",
    "directly associate the name and the value within the argument, so when you \n",
    "pass the argument to the function, there’s no confusion. Keyword arguments free you from having \n",
    "to worry about correctly ordering your arguments in the function call, and \n",
    "they clarify the role of each value in the function call."
   ]
  },
  {
   "cell_type": "code",
   "execution_count": 5,
   "id": "5e64e2f4",
   "metadata": {},
   "outputs": [
    {
     "name": "stdout",
     "output_type": "stream",
     "text": [
      "\n",
      "I have a Cat.\n",
      "Its name is Tom.\n"
     ]
    }
   ],
   "source": [
    "def describe_pet(animal_type, pet_name):\n",
    "    '''Display information about the pet'''\n",
    "    print(\"\\nI have a \" + animal_type + \".\")\n",
    "    print(\"Its name is \" + pet_name.title()+ \".\")\n",
    "    \n",
    "describe_pet(animal_type = \"Cat\", pet_name = \"Tom\")"
   ]
  },
  {
   "cell_type": "code",
   "execution_count": 7,
   "id": "6731cd2b",
   "metadata": {},
   "outputs": [
    {
     "name": "stdout",
     "output_type": "stream",
     "text": [
      "\n",
      "I have a Cat.\n",
      "Its name is Tom.\n"
     ]
    }
   ],
   "source": [
    "def describe_pet(pet_name, animal_type):\n",
    "    '''Display information about the pet'''\n",
    "    print(\"\\nI have a \" + animal_type + \".\")\n",
    "    print(\"Its name is \" + pet_name.title()+ \".\")\n",
    "    \n",
    "    \n",
    "describe_pet(animal_type = \"Cat\", pet_name = \"Tom\")\n",
    "\n",
    "### in such cases we don't have to worry about the order of the arguments, coz we already assigned value to each argument manually."
   ]
  },
  {
   "cell_type": "markdown",
   "id": "498ab320",
   "metadata": {},
   "source": [
    "### Default Values"
   ]
  },
  {
   "cell_type": "markdown",
   "id": "99370c1d",
   "metadata": {},
   "source": [
    "When writing a function, you can define a default value for each parameter."
   ]
  },
  {
   "cell_type": "code",
   "execution_count": 11,
   "id": "81b862e6",
   "metadata": {},
   "outputs": [
    {
     "name": "stdout",
     "output_type": "stream",
     "text": [
      "\n",
      "I have a Dog.\n",
      "Its name is Tom.\n",
      "\n",
      "I have a Dog.\n",
      "Its name is Max.\n"
     ]
    }
   ],
   "source": [
    "def describe_pet(pet_name, animal_type = \"Dog\"):\n",
    "    '''Display information about the pet'''\n",
    "    print(\"\\nI have a \" + animal_type + \".\")\n",
    "    print(\"Its name is \" + pet_name.title()+ \".\")\n",
    "    \n",
    "describe_pet(pet_name = \"Tom\")\n",
    "describe_pet(pet_name = \"Max\")"
   ]
  },
  {
   "cell_type": "code",
   "execution_count": 12,
   "id": "3633aa77",
   "metadata": {},
   "outputs": [
    {
     "ename": "SyntaxError",
     "evalue": "non-default argument follows default argument (1725361983.py, line 1)",
     "output_type": "error",
     "traceback": [
      "\u001b[1;36m  Cell \u001b[1;32mIn[12], line 1\u001b[1;36m\u001b[0m\n\u001b[1;33m    def describe_pet(animal_type = \"Dog\", pet_name):\u001b[0m\n\u001b[1;37m                                          ^\u001b[0m\n\u001b[1;31mSyntaxError\u001b[0m\u001b[1;31m:\u001b[0m non-default argument follows default argument\n"
     ]
    }
   ],
   "source": [
    "def describe_pet(animal_type = \"Dog\", pet_name):\n",
    "    '''Display information about the pet'''\n",
    "    print(\"\\nI have a \" + animal_type + \".\")\n",
    "    print(\"Its name is \" + pet_name.title()+ \".\")\n",
    "    \n",
    "describe_pet(pet_name = \"Tom\")\n",
    "describe_pet(pet_name = \"Max\")"
   ]
  },
  {
   "cell_type": "markdown",
   "id": "1dad8e45",
   "metadata": {},
   "source": [
    "### Equivalent Function Calls"
   ]
  },
  {
   "cell_type": "code",
   "execution_count": null,
   "id": "c74a959d",
   "metadata": {},
   "outputs": [],
   "source": [
    "# A dog named Willie.\n",
    "describe_pet('willie')\n",
    "describe_pet(pet_name='willie')\n",
    "\n",
    "# A hamster named Harry.\n",
    "describe_pet('harry', 'hamster')\n",
    "describe_pet(pet_name='harry', animal_type='hamster')\n",
    "describe_pet(animal_type='hamster', pet_name='harry')"
   ]
  },
  {
   "cell_type": "markdown",
   "id": "791b36ba",
   "metadata": {},
   "source": [
    "### Avoiding Argument Errors"
   ]
  },
  {
   "cell_type": "code",
   "execution_count": 13,
   "id": "7e0ce94d",
   "metadata": {},
   "outputs": [
    {
     "ename": "TypeError",
     "evalue": "describe_pet() missing 2 required positional arguments: 'animal_type' and 'pet_name'",
     "output_type": "error",
     "traceback": [
      "\u001b[1;31m---------------------------------------------------------------------------\u001b[0m",
      "\u001b[1;31mTypeError\u001b[0m                                 Traceback (most recent call last)",
      "Cell \u001b[1;32mIn[13], line 6\u001b[0m\n\u001b[0;32m      3\u001b[0m     \u001b[38;5;28mprint\u001b[39m(\u001b[38;5;124m\"\u001b[39m\u001b[38;5;130;01m\\n\u001b[39;00m\u001b[38;5;124mI have a \u001b[39m\u001b[38;5;124m\"\u001b[39m \u001b[38;5;241m+\u001b[39m animal_type \u001b[38;5;241m+\u001b[39m \u001b[38;5;124m\"\u001b[39m\u001b[38;5;124m.\u001b[39m\u001b[38;5;124m\"\u001b[39m)\n\u001b[0;32m      4\u001b[0m     \u001b[38;5;28mprint\u001b[39m(\u001b[38;5;124m\"\u001b[39m\u001b[38;5;124mIts name is \u001b[39m\u001b[38;5;124m\"\u001b[39m \u001b[38;5;241m+\u001b[39m pet_name\u001b[38;5;241m.\u001b[39mtitle()\u001b[38;5;241m+\u001b[39m \u001b[38;5;124m\"\u001b[39m\u001b[38;5;124m.\u001b[39m\u001b[38;5;124m\"\u001b[39m)\n\u001b[1;32m----> 6\u001b[0m \u001b[43mdescribe_pet\u001b[49m\u001b[43m(\u001b[49m\u001b[43m)\u001b[49m\n",
      "\u001b[1;31mTypeError\u001b[0m: describe_pet() missing 2 required positional arguments: 'animal_type' and 'pet_name'"
     ]
    }
   ],
   "source": [
    "def describe_pet(animal_type, pet_name):\n",
    "    '''Display information about the pet'''\n",
    "    print(\"\\nI have a \" + animal_type + \".\")\n",
    "    print(\"Its name is \" + pet_name.title()+ \".\")\n",
    "    \n",
    "describe_pet()"
   ]
  },
  {
   "cell_type": "markdown",
   "id": "ae1442ff",
   "metadata": {},
   "source": [
    "# Return Values"
   ]
  },
  {
   "cell_type": "markdown",
   "id": "7d57d31b",
   "metadata": {},
   "source": [
    "A function doesn’t always have to display its output directly. Instead, it can \n",
    "process some data and then return a value or set of values. The value the \n",
    "function returns is called a return value. <b>The return statement takes a value \n",
    "from inside a function and sends it back to the line that called the function. </b>"
   ]
  },
  {
   "cell_type": "markdown",
   "id": "3d19d07c",
   "metadata": {},
   "source": [
    "### Returning a Simple Value"
   ]
  },
  {
   "cell_type": "code",
   "execution_count": 16,
   "id": "aa90bd2a",
   "metadata": {},
   "outputs": [
    {
     "name": "stdout",
     "output_type": "stream",
     "text": [
      "Jimi Hendrix\n"
     ]
    }
   ],
   "source": [
    "def get_formatted_name(first_name, last_name):\n",
    "    '''Return a full name, neatly formatted.'''\n",
    "    full_name = first_name + ' ' + last_name\n",
    "    return full_name.title()\n",
    "\n",
    "musician = get_formatted_name(\"jimi\", \"hendrix\")\n",
    "print(musician)    "
   ]
  },
  {
   "cell_type": "markdown",
   "id": "009d14dc",
   "metadata": {},
   "source": [
    "## Making an Argument Optional"
   ]
  },
  {
   "cell_type": "code",
   "execution_count": 19,
   "id": "ef0ab32d",
   "metadata": {},
   "outputs": [
    {
     "name": "stdout",
     "output_type": "stream",
     "text": [
      "John Lee Hooker\n"
     ]
    }
   ],
   "source": [
    "def get_formatted_name(first_name, middle_name, last_name):\n",
    "    '''Return a full name, neatly formatted.'''\n",
    "    full_name = first_name + ' ' + middle_name + ' ' + last_name\n",
    "    return full_name.title()\n",
    "\n",
    "musician = get_formatted_name('john', 'lee', 'hooker')\n",
    "print(musician)"
   ]
  },
  {
   "cell_type": "markdown",
   "id": "59edadaf",
   "metadata": {},
   "source": [
    "But middle names aren’t always needed, and this function as written \n",
    "would not work if you tried to call it with only a first name and a last name. \n",
    "To make the middle name optional, we can give the middle_name argument \n",
    "an empty default value and ignore the argument unless the user provides a \n",
    "value."
   ]
  },
  {
   "cell_type": "code",
   "execution_count": 20,
   "id": "88571675",
   "metadata": {},
   "outputs": [
    {
     "ename": "SyntaxError",
     "evalue": "non-default argument follows default argument (4263710630.py, line 1)",
     "output_type": "error",
     "traceback": [
      "\u001b[1;36m  Cell \u001b[1;32mIn[20], line 1\u001b[1;36m\u001b[0m\n\u001b[1;33m    def get_formatted_name(first_name, middle_name = \"\", last_name):\u001b[0m\n\u001b[1;37m                                                         ^\u001b[0m\n\u001b[1;31mSyntaxError\u001b[0m\u001b[1;31m:\u001b[0m non-default argument follows default argument\n"
     ]
    }
   ],
   "source": [
    "def get_formatted_name(first_name, middle_name = \"\", last_name):\n",
    "    '''Return a full name, neatly formatted.'''\n",
    "    if middle_name:\n",
    "        full_name = first_name + ' ' + middle_name + ' ' + last_name\n",
    "    else:\n",
    "        full_name = first_name + ' ' + last_name\n",
    "    return full_name.title()\n",
    "\n",
    "musician = get_formatted_name('jimi', 'hendrix')\n",
    "print(musician)\n",
    "\n",
    "musician = get_formatted_name('john', 'lee', 'hooker')\n",
    "print(musician)"
   ]
  },
  {
   "cell_type": "code",
   "execution_count": 22,
   "id": "06b724a2",
   "metadata": {},
   "outputs": [
    {
     "name": "stdout",
     "output_type": "stream",
     "text": [
      "Jimi Hendrix.\n",
      "John Hooker Lee.\n"
     ]
    }
   ],
   "source": [
    "def get_formatted_name(first_name,  last_name, middle_name = \"\"):\n",
    "    '''Return a full name, neatly formatted.'''\n",
    "    if middle_name:\n",
    "        full_name = first_name + ' ' + middle_name + ' ' + last_name + \".\"\n",
    "    else:\n",
    "        full_name = first_name + ' ' + last_name + \".\"\n",
    "    return full_name.title()\n",
    "\n",
    "musician = get_formatted_name('jimi', 'hendrix')\n",
    "print(musician)\n",
    "\n",
    "musician = get_formatted_name('john', 'lee', 'hooker')\n",
    "print(musician)"
   ]
  },
  {
   "cell_type": "markdown",
   "id": "f2825aaf",
   "metadata": {},
   "source": [
    "### Returning a Dictionary"
   ]
  },
  {
   "cell_type": "markdown",
   "id": "de076332",
   "metadata": {},
   "source": [
    "A function can return any kind of value you need it to, including more complicated data structures like lists and dictionaries."
   ]
  },
  {
   "cell_type": "code",
   "execution_count": 23,
   "id": "6f2f3721",
   "metadata": {},
   "outputs": [
    {
     "name": "stdout",
     "output_type": "stream",
     "text": [
      "{'first': 'susmita', 'last': 'dey'}\n"
     ]
    }
   ],
   "source": [
    "def build_person(first_name, last_name):\n",
    "    \"\"\"Return a dictionary of information about a person.\"\"\"\n",
    "    person = {'first' : first_name, 'last' : last_name}\n",
    "    return person\n",
    "\n",
    "musician = build_person(\"susmita\", \"dey\")\n",
    "print(musician)\n",
    "    "
   ]
  },
  {
   "cell_type": "code",
   "execution_count": 24,
   "id": "288cd4fa",
   "metadata": {},
   "outputs": [
    {
     "data": {
      "text/plain": [
       "dict"
      ]
     },
     "execution_count": 24,
     "metadata": {},
     "output_type": "execute_result"
    }
   ],
   "source": [
    "type(musician)"
   ]
  },
  {
   "cell_type": "code",
   "execution_count": 30,
   "id": "360eb391",
   "metadata": {},
   "outputs": [
    {
     "name": "stdout",
     "output_type": "stream",
     "text": [
      "{'first': 'susmita', 'fast': 'dey'}\n",
      "{'first': 'sabboshachi', 'fast': 'sarkar'}\n"
     ]
    }
   ],
   "source": [
    "def build_person(first_name, last_name):\n",
    "    \"\"\"Return a dictionary of information about a person.\"\"\"\n",
    "    person = {'first' : first_name, 'fast' : last_name}\n",
    "    return person\n",
    "\n",
    "musician = build_person(\"susmita\", \"dey\")\n",
    "print(musician)\n",
    "musician_2 = build_person(\"sabboshachi\", \"sarkar\")\n",
    "print(musician_2)"
   ]
  },
  {
   "cell_type": "code",
   "execution_count": 31,
   "id": "1fb18cee",
   "metadata": {},
   "outputs": [
    {
     "name": "stdout",
     "output_type": "stream",
     "text": [
      "{'first': 'susmita', 'last': 'Dey', 'age': 25}\n"
     ]
    }
   ],
   "source": [
    "def build_person(first_name, last_name, age=''):\n",
    "    \"\"\"Return a dictionary of information about a person.\"\"\"\n",
    "    person = {'first': first_name, 'last': last_name}\n",
    "    if age:\n",
    "        person[\"age\"] = age\n",
    "        return person \n",
    "    \n",
    "musician = build_person(\"susmita\", \"Dey\", age = 25 )\n",
    "\n",
    "print(musician)\n",
    "\n",
    "\n",
    "    "
   ]
  },
  {
   "cell_type": "code",
   "execution_count": 34,
   "id": "cf5b7216",
   "metadata": {},
   "outputs": [
    {
     "name": "stdout",
     "output_type": "stream",
     "text": [
      "{'first': 'susmita', 'last': 'Dey'}\n"
     ]
    }
   ],
   "source": [
    "def build_person(first_name, last_name, age=''):\n",
    "    \"\"\"Return a dictionary of information about a person.\"\"\"\n",
    "    person = {'first': first_name, 'last': last_name}\n",
    "    if age:\n",
    "        person[\"age\"] = age\n",
    "        return person \n",
    "    else:\n",
    "        return person\n",
    "    \n",
    "musician = build_person(\"susmita\", \"Dey\")\n",
    "\n",
    "print(musician)"
   ]
  },
  {
   "cell_type": "markdown",
   "id": "751d57c2",
   "metadata": {},
   "source": [
    "### Using a Function with a while Loop"
   ]
  },
  {
   "cell_type": "code",
   "execution_count": null,
   "id": "cc44aebc",
   "metadata": {},
   "outputs": [
    {
     "name": "stdout",
     "output_type": "stream",
     "text": [
      "\n",
      "Please tell me your name:\n",
      "First Name: Susmita\n",
      "Last Name: Dey\n",
      "\n",
      "Hello Susmita  Dey!\n",
      "\n",
      "Please tell me your name:\n"
     ]
    }
   ],
   "source": [
    "def get_formatted_name(first_name, last_name, middle_name =\"\" ):\n",
    "    '''Return a full name, neatly formatted.'''\n",
    "    full_name = first_name + ' ' + middle_name + ' ' + last_name\n",
    "    return full_name.title()\n",
    "\n",
    "# This is an infinite loop!\n",
    "\n",
    "while True:\n",
    "    print(\"\\nPlease tell me your name:\")\n",
    "    f_name = input(\"First Name: \")\n",
    "    l_name = input(\"Last Name: \")\n",
    "    \n",
    "    formatted_name = get_formatted_name(f_name, l_name)\n",
    "    print(\"\\nHello \" + formatted_name + \"!\")"
   ]
  },
  {
   "cell_type": "code",
   "execution_count": 1,
   "id": "f7e4d86b",
   "metadata": {},
   "outputs": [
    {
     "name": "stdout",
     "output_type": "stream",
     "text": [
      "\n",
      "Please tell me your name:\n",
      "First Name: Susmita\n",
      "Last Name: Dey\n",
      "\n",
      "Hello Susmita  Dey!\n",
      "\n",
      "Please tell me your name:\n",
      "First Name: q\n"
     ]
    }
   ],
   "source": [
    "def get_formatted_name(first_name, last_name, middle_name =\"\" ):\n",
    "    '''Return a full name, neatly formatted.'''\n",
    "    full_name = first_name + ' ' + middle_name + ' ' + last_name\n",
    "    return full_name.title()\n",
    "\n",
    "\n",
    "while True:\n",
    "    print(\"\\nPlease tell me your name:\")\n",
    "    f_name = input(\"First Name: \")\n",
    "    if f_name == 'q':\n",
    "         break\n",
    "    l_name = input(\"Last Name: \")\n",
    "    if l_name == 'q':\n",
    "         break\n",
    "    \n",
    "    formatted_name = get_formatted_name(f_name, l_name)\n",
    "    print(\"\\nHello \" + formatted_name + \"!\")"
   ]
  },
  {
   "cell_type": "markdown",
   "id": "7e38825b",
   "metadata": {},
   "source": [
    "# Passing a List"
   ]
  },
  {
   "cell_type": "code",
   "execution_count": null,
   "id": "2ec4b044",
   "metadata": {},
   "outputs": [],
   "source": []
  },
  {
   "cell_type": "code",
   "execution_count": null,
   "id": "5b044903",
   "metadata": {},
   "outputs": [],
   "source": []
  },
  {
   "cell_type": "code",
   "execution_count": null,
   "id": "452ad496",
   "metadata": {},
   "outputs": [],
   "source": []
  },
  {
   "cell_type": "code",
   "execution_count": null,
   "id": "651bd7f2",
   "metadata": {},
   "outputs": [],
   "source": []
  },
  {
   "cell_type": "code",
   "execution_count": null,
   "id": "07c6435d",
   "metadata": {},
   "outputs": [],
   "source": []
  },
  {
   "cell_type": "code",
   "execution_count": null,
   "id": "18e10681",
   "metadata": {},
   "outputs": [],
   "source": []
  },
  {
   "cell_type": "code",
   "execution_count": null,
   "id": "77d5d641",
   "metadata": {},
   "outputs": [],
   "source": []
  },
  {
   "cell_type": "code",
   "execution_count": null,
   "id": "801b4ccb",
   "metadata": {},
   "outputs": [],
   "source": []
  },
  {
   "cell_type": "code",
   "execution_count": null,
   "id": "e25d55a6",
   "metadata": {},
   "outputs": [],
   "source": []
  },
  {
   "cell_type": "code",
   "execution_count": null,
   "id": "abe3ab4d",
   "metadata": {},
   "outputs": [],
   "source": []
  },
  {
   "cell_type": "code",
   "execution_count": null,
   "id": "614c042f",
   "metadata": {},
   "outputs": [],
   "source": []
  }
 ],
 "metadata": {
  "kernelspec": {
   "display_name": "Python 3 (ipykernel)",
   "language": "python",
   "name": "python3"
  },
  "language_info": {
   "codemirror_mode": {
    "name": "ipython",
    "version": 3
   },
   "file_extension": ".py",
   "mimetype": "text/x-python",
   "name": "python",
   "nbconvert_exporter": "python",
   "pygments_lexer": "ipython3",
   "version": "3.11.1"
  }
 },
 "nbformat": 4,
 "nbformat_minor": 5
}
