{
 "cells": [
  {
   "cell_type": "markdown",
   "id": "ae6d49c1",
   "metadata": {},
   "source": [
    "# FUNCTIONS"
   ]
  },
  {
   "cell_type": "markdown",
   "id": "fdf6d2f3",
   "metadata": {},
   "source": [
    "### Defining a Function"
   ]
  },
  {
   "cell_type": "code",
   "execution_count": 2,
   "id": "6893fc17",
   "metadata": {},
   "outputs": [
    {
     "name": "stdout",
     "output_type": "stream",
     "text": [
      "Hello!\n"
     ]
    }
   ],
   "source": [
    "def greet_user(): ###keyword def informs Python that you’re defining a function.\n",
    "    \"\"\"Display a simple greeting\"\"\" ### this is a comment called a \"docstring\"\n",
    "    print(\"Hello!\")\n",
    "    \n",
    "greet_user() ###To call a function, you write the name of the function"
   ]
  },
  {
   "cell_type": "markdown",
   "id": "09c11fda",
   "metadata": {},
   "source": [
    "### Passing Information to a Function"
   ]
  },
  {
   "cell_type": "code",
   "execution_count": 5,
   "id": "2a0eca54",
   "metadata": {},
   "outputs": [
    {
     "name": "stdout",
     "output_type": "stream",
     "text": [
      "Hello, Mr.Tekka.\n"
     ]
    }
   ],
   "source": [
    "def greet_user(username):\n",
    "    \"\"\"Display a simple greeting\"\"\"\n",
    "    \n",
    "    print(\"Hello, Mr.\" + username.title() + \".\")\n",
    "    \n",
    "greet_user(\"tekka\")"
   ]
  },
  {
   "cell_type": "markdown",
   "id": "a108231c",
   "metadata": {},
   "source": [
    "### Arguments and Parameters"
   ]
  },
  {
   "cell_type": "markdown",
   "id": "a7c007a2",
   "metadata": {},
   "source": [
    "The variable username in the definition of greet_user() is an example of a \n",
    "parameter, a piece of information the function needs to do its job. The value \n",
    "'jesse' in greet_user('jesse') is an example of an argument. An argument \n",
    "is a piece of information that is passed from a function call to a function. When we call the function, we place the value we want the function to work \n",
    "with in parentheses. In this case the argument 'jesse' was passed to the \n",
    "function greet_user(), and the value was stored in the parameter username."
   ]
  },
  {
   "cell_type": "markdown",
   "id": "20bd9004",
   "metadata": {},
   "source": [
    "# Passing Arguments"
   ]
  },
  {
   "cell_type": "markdown",
   "id": "8fe776ec",
   "metadata": {},
   "source": [
    "Because a function definition can have multiple parameters, a function call \n",
    "may need multiple arguments. You can pass arguments to your functions \n",
    "in a number of ways. You can use positional arguments, which need to be in \n",
    "the same order the parameters were written; keyword arguments, where each \n",
    "argument consists of a variable name and a value; and lists and dictionaries \n",
    "of values. Let’s look at each of these in turn."
   ]
  },
  {
   "cell_type": "markdown",
   "id": "71d33f4f",
   "metadata": {},
   "source": [
    "### Positional Arguments"
   ]
  },
  {
   "cell_type": "markdown",
   "id": "24125eea",
   "metadata": {},
   "source": [
    "When you call a function, Python must match each argument in the function call with a parameter in the function definition. \n",
    "The simplest way to do this is based on the order of the arguments provided.Values matched up this way are called positional argument.\n"
   ]
  },
  {
   "cell_type": "code",
   "execution_count": 2,
   "id": "312b78dd",
   "metadata": {},
   "outputs": [
    {
     "name": "stdout",
     "output_type": "stream",
     "text": [
      "\n",
      "I have a Cat.\n",
      "Its name is Tom.\n"
     ]
    }
   ],
   "source": [
    "def describe_pet(animal_type, pet_name):\n",
    "    '''Display information about the pet'''\n",
    "    print(\"\\nI have a \" + animal_type + \".\")\n",
    "    print(\"Its name is \" + pet_name.title()+ \".\")\n",
    "    \n",
    "describe_pet(\"Cat\", \"Tom\")"
   ]
  },
  {
   "cell_type": "code",
   "execution_count": 3,
   "id": "61a6fc96",
   "metadata": {},
   "outputs": [
    {
     "name": "stdout",
     "output_type": "stream",
     "text": [
      "\n",
      "I have a Tom.\n",
      "Its name is Cat.\n"
     ]
    }
   ],
   "source": [
    "def describe_pet(pet_name, animal_type):\n",
    "    '''Display information about the pet'''\n",
    "    print(\"\\nI have a \" + animal_type + \".\")\n",
    "    print(\"Its name is \" + pet_name.title()+ \".\")\n",
    "    \n",
    "describe_pet(\"Cat\", \"Tom\")"
   ]
  },
  {
   "cell_type": "markdown",
   "id": "26458c90",
   "metadata": {},
   "source": [
    "Answer cheaged beacuse we changed the order of the argument. Which results in a wrong output."
   ]
  },
  {
   "cell_type": "markdown",
   "id": "b01ee354",
   "metadata": {},
   "source": [
    "### Multiple Function Calls"
   ]
  },
  {
   "cell_type": "code",
   "execution_count": 4,
   "id": "6e3e5ae5",
   "metadata": {},
   "outputs": [
    {
     "name": "stdout",
     "output_type": "stream",
     "text": [
      "\n",
      "I have a Cat.\n",
      "Its name is Tom.\n",
      "\n",
      "I have a Mouse.\n",
      "Its name is Jerry.\n"
     ]
    }
   ],
   "source": [
    "def describe_pet(animal_type, pet_name):\n",
    "    '''Display information about the pet'''\n",
    "    print(\"\\nI have a \" + animal_type + \".\")\n",
    "    print(\"Its name is \" + pet_name.title()+ \".\")\n",
    "    \n",
    "describe_pet(\"Cat\", \"Tom\")\n",
    "describe_pet(\"Mouse\", \"Jerry\")"
   ]
  },
  {
   "cell_type": "markdown",
   "id": "2f0f2df1",
   "metadata": {},
   "source": [
    "### Keyword Arguments"
   ]
  },
  {
   "cell_type": "markdown",
   "id": "4e2208ee",
   "metadata": {},
   "source": [
    "A keyword argument is a name-value pair that you pass to a function. You \n",
    "directly associate the name and the value within the argument, so when you \n",
    "pass the argument to the function, there’s no confusion. Keyword arguments free you from having \n",
    "to worry about correctly ordering your arguments in the function call, and \n",
    "they clarify the role of each value in the function call."
   ]
  },
  {
   "cell_type": "code",
   "execution_count": 5,
   "id": "cec2bd51",
   "metadata": {},
   "outputs": [
    {
     "name": "stdout",
     "output_type": "stream",
     "text": [
      "\n",
      "I have a Cat.\n",
      "Its name is Tom.\n"
     ]
    }
   ],
   "source": [
    "def describe_pet(animal_type, pet_name):\n",
    "    '''Display information about the pet'''\n",
    "    print(\"\\nI have a \" + animal_type + \".\")\n",
    "    print(\"Its name is \" + pet_name.title()+ \".\")\n",
    "    \n",
    "describe_pet(animal_type = \"Cat\", pet_name = \"Tom\")"
   ]
  },
  {
   "cell_type": "code",
   "execution_count": 7,
   "id": "c7b6a877",
   "metadata": {},
   "outputs": [
    {
     "name": "stdout",
     "output_type": "stream",
     "text": [
      "\n",
      "I have a Cat.\n",
      "Its name is Tom.\n"
     ]
    }
   ],
   "source": [
    "def describe_pet(pet_name, animal_type):\n",
    "    '''Display information about the pet'''\n",
    "    print(\"\\nI have a \" + animal_type + \".\")\n",
    "    print(\"Its name is \" + pet_name.title()+ \".\")\n",
    "    \n",
    "    \n",
    "describe_pet(animal_type = \"Cat\", pet_name = \"Tom\")\n",
    "\n",
    "### in such cases we don't have to worry about the order of the arguments, coz we already assigned value to each argument manually."
   ]
  },
  {
   "cell_type": "markdown",
   "id": "b1e2092b",
   "metadata": {},
   "source": [
    "### Default Values"
   ]
  },
  {
   "cell_type": "markdown",
   "id": "12b84a13",
   "metadata": {},
   "source": [
    "When writing a function, you can define a default value for each parameter."
   ]
  },
  {
   "cell_type": "code",
   "execution_count": 11,
   "id": "49eb5d5e",
   "metadata": {},
   "outputs": [
    {
     "name": "stdout",
     "output_type": "stream",
     "text": [
      "\n",
      "I have a Dog.\n",
      "Its name is Tom.\n",
      "\n",
      "I have a Dog.\n",
      "Its name is Max.\n"
     ]
    }
   ],
   "source": [
    "def describe_pet(pet_name, animal_type = \"Dog\"):\n",
    "    '''Display information about the pet'''\n",
    "    print(\"\\nI have a \" + animal_type + \".\")\n",
    "    print(\"Its name is \" + pet_name.title()+ \".\")\n",
    "    \n",
    "describe_pet(pet_name = \"Tom\")\n",
    "describe_pet(pet_name = \"Max\")"
   ]
  },
  {
   "cell_type": "code",
   "execution_count": 12,
   "id": "482c2e90",
   "metadata": {},
   "outputs": [
    {
     "ename": "SyntaxError",
     "evalue": "non-default argument follows default argument (1725361983.py, line 1)",
     "output_type": "error",
     "traceback": [
      "\u001b[1;36m  Cell \u001b[1;32mIn[12], line 1\u001b[1;36m\u001b[0m\n\u001b[1;33m    def describe_pet(animal_type = \"Dog\", pet_name):\u001b[0m\n\u001b[1;37m                                          ^\u001b[0m\n\u001b[1;31mSyntaxError\u001b[0m\u001b[1;31m:\u001b[0m non-default argument follows default argument\n"
     ]
    }
   ],
   "source": [
    "def describe_pet(animal_type = \"Dog\", pet_name):\n",
    "    '''Display information about the pet'''\n",
    "    print(\"\\nI have a \" + animal_type + \".\")\n",
    "    print(\"Its name is \" + pet_name.title()+ \".\")\n",
    "    \n",
    "describe_pet(pet_name = \"Tom\")\n",
    "describe_pet(pet_name = \"Max\")"
   ]
  },
  {
   "cell_type": "markdown",
   "id": "4b897c6f",
   "metadata": {},
   "source": [
    "### Equivalent Function Calls"
   ]
  },
  {
   "cell_type": "code",
   "execution_count": null,
   "id": "8387c73b",
   "metadata": {},
   "outputs": [],
   "source": [
    "# A dog named Willie.\n",
    "describe_pet('willie')\n",
    "describe_pet(pet_name='willie')\n",
    "\n",
    "# A hamster named Harry.\n",
    "describe_pet('harry', 'hamster')\n",
    "describe_pet(pet_name='harry', animal_type='hamster')\n",
    "describe_pet(animal_type='hamster', pet_name='harry')"
   ]
  },
  {
   "cell_type": "markdown",
   "id": "5d489973",
   "metadata": {},
   "source": [
    "### Avoiding Argument Errors"
   ]
  },
  {
   "cell_type": "code",
   "execution_count": 13,
   "id": "7d24d489",
   "metadata": {},
   "outputs": [
    {
     "ename": "TypeError",
     "evalue": "describe_pet() missing 2 required positional arguments: 'animal_type' and 'pet_name'",
     "output_type": "error",
     "traceback": [
      "\u001b[1;31m---------------------------------------------------------------------------\u001b[0m",
      "\u001b[1;31mTypeError\u001b[0m                                 Traceback (most recent call last)",
      "Cell \u001b[1;32mIn[13], line 6\u001b[0m\n\u001b[0;32m      3\u001b[0m     \u001b[38;5;28mprint\u001b[39m(\u001b[38;5;124m\"\u001b[39m\u001b[38;5;130;01m\\n\u001b[39;00m\u001b[38;5;124mI have a \u001b[39m\u001b[38;5;124m\"\u001b[39m \u001b[38;5;241m+\u001b[39m animal_type \u001b[38;5;241m+\u001b[39m \u001b[38;5;124m\"\u001b[39m\u001b[38;5;124m.\u001b[39m\u001b[38;5;124m\"\u001b[39m)\n\u001b[0;32m      4\u001b[0m     \u001b[38;5;28mprint\u001b[39m(\u001b[38;5;124m\"\u001b[39m\u001b[38;5;124mIts name is \u001b[39m\u001b[38;5;124m\"\u001b[39m \u001b[38;5;241m+\u001b[39m pet_name\u001b[38;5;241m.\u001b[39mtitle()\u001b[38;5;241m+\u001b[39m \u001b[38;5;124m\"\u001b[39m\u001b[38;5;124m.\u001b[39m\u001b[38;5;124m\"\u001b[39m)\n\u001b[1;32m----> 6\u001b[0m \u001b[43mdescribe_pet\u001b[49m\u001b[43m(\u001b[49m\u001b[43m)\u001b[49m\n",
      "\u001b[1;31mTypeError\u001b[0m: describe_pet() missing 2 required positional arguments: 'animal_type' and 'pet_name'"
     ]
    }
   ],
   "source": [
    "def describe_pet(animal_type, pet_name):\n",
    "    '''Display information about the pet'''\n",
    "    print(\"\\nI have a \" + animal_type + \".\")\n",
    "    print(\"Its name is \" + pet_name.title()+ \".\")\n",
    "    \n",
    "describe_pet()"
   ]
  },
  {
   "cell_type": "markdown",
   "id": "2b74647d",
   "metadata": {},
   "source": [
    "# Return Values"
   ]
  },
  {
   "cell_type": "markdown",
   "id": "be49669b",
   "metadata": {},
   "source": [
    "A function doesn’t always have to display its output directly. Instead, it can \n",
    "process some data and then return a value or set of values. The value the \n",
    "function returns is called a return value. <b>The return statement takes a value \n",
    "from inside a function and sends it back to the line that called the function. </b>"
   ]
  },
  {
   "cell_type": "markdown",
   "id": "d4771a6a",
   "metadata": {},
   "source": [
    "### Returning a Simple Value"
   ]
  },
  {
   "cell_type": "code",
   "execution_count": 16,
   "id": "fae86139",
   "metadata": {},
   "outputs": [
    {
     "name": "stdout",
     "output_type": "stream",
     "text": [
      "Jimi Hendrix\n"
     ]
    }
   ],
   "source": [
    "def get_formatted_name(first_name, last_name):\n",
    "    '''Return a full name, neatly formatted.'''\n",
    "    full_name = first_name + ' ' + last_name\n",
    "    return full_name.title()\n",
    "\n",
    "musician = get_formatted_name(\"jimi\", \"hendrix\")\n",
    "print(musician)    "
   ]
  },
  {
   "cell_type": "markdown",
   "id": "20164c94",
   "metadata": {},
   "source": [
    "## Making an Argument Optional"
   ]
  },
  {
   "cell_type": "code",
   "execution_count": 19,
   "id": "4d485672",
   "metadata": {},
   "outputs": [
    {
     "name": "stdout",
     "output_type": "stream",
     "text": [
      "John Lee Hooker\n"
     ]
    }
   ],
   "source": [
    "def get_formatted_name(first_name, middle_name, last_name):\n",
    "    '''Return a full name, neatly formatted.'''\n",
    "    full_name = first_name + ' ' + middle_name + ' ' + last_name\n",
    "    return full_name.title()\n",
    "\n",
    "musician = get_formatted_name('john', 'lee', 'hooker')\n",
    "print(musician)"
   ]
  },
  {
   "cell_type": "markdown",
   "id": "6e0ba429",
   "metadata": {},
   "source": [
    "But middle names aren’t always needed, and this function as written \n",
    "would not work if you tried to call it with only a first name and a last name. \n",
    "To make the middle name optional, we can give the middle_name argument \n",
    "an empty default value and ignore the argument unless the user provides a \n",
    "value."
   ]
  },
  {
   "cell_type": "code",
   "execution_count": 20,
   "id": "0cc1c3ec",
   "metadata": {},
   "outputs": [
    {
     "ename": "SyntaxError",
     "evalue": "non-default argument follows default argument (4263710630.py, line 1)",
     "output_type": "error",
     "traceback": [
      "\u001b[1;36m  Cell \u001b[1;32mIn[20], line 1\u001b[1;36m\u001b[0m\n\u001b[1;33m    def get_formatted_name(first_name, middle_name = \"\", last_name):\u001b[0m\n\u001b[1;37m                                                         ^\u001b[0m\n\u001b[1;31mSyntaxError\u001b[0m\u001b[1;31m:\u001b[0m non-default argument follows default argument\n"
     ]
    }
   ],
   "source": [
    "def get_formatted_name(first_name, middle_name = \"\", last_name):\n",
    "    '''Return a full name, neatly formatted.'''\n",
    "    if middle_name:\n",
    "        full_name = first_name + ' ' + middle_name + ' ' + last_name\n",
    "    else:\n",
    "        full_name = first_name + ' ' + last_name\n",
    "    return full_name.title()\n",
    "\n",
    "musician = get_formatted_name('jimi', 'hendrix')\n",
    "print(musician)\n",
    "\n",
    "musician = get_formatted_name('john', 'lee', 'hooker')\n",
    "print(musician)"
   ]
  },
  {
   "cell_type": "code",
   "execution_count": 22,
   "id": "7869f4ce",
   "metadata": {},
   "outputs": [
    {
     "name": "stdout",
     "output_type": "stream",
     "text": [
      "Jimi Hendrix.\n",
      "John Hooker Lee.\n"
     ]
    }
   ],
   "source": [
    "def get_formatted_name(first_name,  last_name, middle_name = \"\"):\n",
    "    '''Return a full name, neatly formatted.'''\n",
    "    if middle_name:\n",
    "        full_name = first_name + ' ' + middle_name + ' ' + last_name + \".\"\n",
    "    else:\n",
    "        full_name = first_name + ' ' + last_name + \".\"\n",
    "    return full_name.title()\n",
    "\n",
    "musician = get_formatted_name('jimi', 'hendrix')\n",
    "print(musician)\n",
    "\n",
    "musician = get_formatted_name('john', 'lee', 'hooker')\n",
    "print(musician)"
   ]
  },
  {
   "cell_type": "markdown",
   "id": "c45e7c83",
   "metadata": {},
   "source": [
    "### Returning a Dictionary"
   ]
  },
  {
   "cell_type": "markdown",
   "id": "24db8f46",
   "metadata": {},
   "source": [
    "A function can return any kind of value you need it to, including more complicated data structures like lists and dictionaries."
   ]
  },
  {
   "cell_type": "code",
   "execution_count": 23,
   "id": "704a76cf",
   "metadata": {},
   "outputs": [
    {
     "name": "stdout",
     "output_type": "stream",
     "text": [
      "{'first': 'susmita', 'last': 'dey'}\n"
     ]
    }
   ],
   "source": [
    "def build_person(first_name, last_name):\n",
    "    \"\"\"Return a dictionary of information about a person.\"\"\"\n",
    "    person = {'first' : first_name, 'last' : last_name}\n",
    "    return person\n",
    "\n",
    "musician = build_person(\"susmita\", \"dey\")\n",
    "print(musician)\n",
    "    "
   ]
  },
  {
   "cell_type": "code",
   "execution_count": 24,
   "id": "9864ef7c",
   "metadata": {},
   "outputs": [
    {
     "data": {
      "text/plain": [
       "dict"
      ]
     },
     "execution_count": 24,
     "metadata": {},
     "output_type": "execute_result"
    }
   ],
   "source": [
    "type(musician)"
   ]
  },
  {
   "cell_type": "code",
   "execution_count": 30,
   "id": "e50dc382",
   "metadata": {},
   "outputs": [
    {
     "name": "stdout",
     "output_type": "stream",
     "text": [
      "{'first': 'susmita', 'fast': 'dey'}\n",
      "{'first': 'sabboshachi', 'fast': 'sarkar'}\n"
     ]
    }
   ],
   "source": [
    "def build_person(first_name, last_name):\n",
    "    \"\"\"Return a dictionary of information about a person.\"\"\"\n",
    "    person = {'first' : first_name, 'fast' : last_name}\n",
    "    return person\n",
    "\n",
    "musician = build_person(\"susmita\", \"dey\")\n",
    "print(musician)\n",
    "musician_2 = build_person(\"sabboshachi\", \"sarkar\")\n",
    "print(musician_2)"
   ]
  },
  {
   "cell_type": "code",
   "execution_count": 31,
   "id": "dbc24499",
   "metadata": {},
   "outputs": [
    {
     "name": "stdout",
     "output_type": "stream",
     "text": [
      "{'first': 'susmita', 'last': 'Dey', 'age': 25}\n"
     ]
    }
   ],
   "source": [
    "def build_person(first_name, last_name, age=''):\n",
    "    \"\"\"Return a dictionary of information about a person.\"\"\"\n",
    "    person = {'first': first_name, 'last': last_name}\n",
    "    if age:\n",
    "        person[\"age\"] = age\n",
    "        return person \n",
    "    \n",
    "musician = build_person(\"susmita\", \"Dey\", age = 25 )\n",
    "\n",
    "print(musician)\n",
    "\n",
    "\n",
    "    "
   ]
  },
  {
   "cell_type": "code",
   "execution_count": 34,
   "id": "884f6146",
   "metadata": {},
   "outputs": [
    {
     "name": "stdout",
     "output_type": "stream",
     "text": [
      "{'first': 'susmita', 'last': 'Dey'}\n"
     ]
    }
   ],
   "source": [
    "def build_person(first_name, last_name, age=''):\n",
    "    \"\"\"Return a dictionary of information about a person.\"\"\"\n",
    "    person = {'first': first_name, 'last': last_name}\n",
    "    if age:\n",
    "        person[\"age\"] = age\n",
    "        return person \n",
    "    else:\n",
    "        return person\n",
    "    \n",
    "musician = build_person(\"susmita\", \"Dey\")\n",
    "\n",
    "print(musician)"
   ]
  },
  {
   "cell_type": "markdown",
   "id": "f120b9d9",
   "metadata": {},
   "source": [
    "### Using a Function with a while Loop"
   ]
  },
  {
   "cell_type": "code",
   "execution_count": null,
   "id": "201e3352",
   "metadata": {},
   "outputs": [
    {
     "name": "stdout",
     "output_type": "stream",
     "text": [
      "\n",
      "Please tell me your name:\n",
      "First Name: Susmita\n",
      "Last Name: Dey\n",
      "\n",
      "Hello Susmita  Dey!\n",
      "\n",
      "Please tell me your name:\n"
     ]
    }
   ],
   "source": [
    "def get_formatted_name(first_name, last_name, middle_name =\"\" ):\n",
    "    '''Return a full name, neatly formatted.'''\n",
    "    full_name = first_name + ' ' + middle_name + ' ' + last_name\n",
    "    return full_name.title()\n",
    "\n",
    "# This is an infinite loop!\n",
    "\n",
    "while True:\n",
    "    print(\"\\nPlease tell me your name:\")\n",
    "    f_name = input(\"First Name: \")\n",
    "    l_name = input(\"Last Name: \")\n",
    "    \n",
    "    formatted_name = get_formatted_name(f_name, l_name)\n",
    "    print(\"\\nHello \" + formatted_name + \"!\")"
   ]
  },
  {
   "cell_type": "code",
   "execution_count": 1,
   "id": "48a26aec",
   "metadata": {},
   "outputs": [
    {
     "name": "stdout",
     "output_type": "stream",
     "text": [
      "\n",
      "Please tell me your name:\n",
      "First Name: Susmita\n",
      "Last Name: Dey\n",
      "\n",
      "Hello Susmita  Dey!\n",
      "\n",
      "Please tell me your name:\n",
      "First Name: q\n"
     ]
    }
   ],
   "source": [
    "def get_formatted_name(first_name, last_name, middle_name =\"\" ):\n",
    "    '''Return a full name, neatly formatted.'''\n",
    "    full_name = first_name + ' ' + middle_name + ' ' + last_name\n",
    "    return full_name.title()\n",
    "\n",
    "\n",
    "while True:\n",
    "    print(\"\\nPlease tell me your name:\")\n",
    "    f_name = input(\"First Name: \")\n",
    "    if f_name == 'q':\n",
    "         break\n",
    "    l_name = input(\"Last Name: \")\n",
    "    if l_name == 'q':\n",
    "         break\n",
    "    \n",
    "    formatted_name = get_formatted_name(f_name, l_name)\n",
    "    print(\"\\nHello \" + formatted_name + \"!\")"
   ]
  },
  {
   "cell_type": "markdown",
   "id": "12a84dc6",
   "metadata": {},
   "source": [
    "# Passing a List"
   ]
  },
  {
   "cell_type": "code",
   "execution_count": 3,
   "id": "e1506202",
   "metadata": {},
   "outputs": [
    {
     "name": "stdout",
     "output_type": "stream",
     "text": [
      "Hello, Susmita!\n",
      "Hello, Sabboshachi!\n",
      "Hello, Tekka!\n"
     ]
    }
   ],
   "source": [
    "def greet_users(names):\n",
    "    \"\"\"Print a simple greeting to each user in the list.\"\"\"\n",
    "    for name in names:\n",
    "        msg = \"Hello, \" + name.title() + \"!\"\n",
    "        print(msg)\n",
    "        \n",
    "usernames = [\"susmita\", \"sabboshachi\", \"tekka\"]\n",
    "\n",
    "greet_users(usernames)\n",
    "    "
   ]
  },
  {
   "cell_type": "markdown",
   "id": "b3d5c2b7",
   "metadata": {},
   "source": [
    "### Modifying a List in a Function"
   ]
  },
  {
   "cell_type": "code",
   "execution_count": 4,
   "id": "0cf9bf07",
   "metadata": {},
   "outputs": [
    {
     "name": "stdout",
     "output_type": "stream",
     "text": [
      "Printing model: dodecahedron\n",
      "Printing model: robot pendant\n",
      "Printing model: iphone case\n",
      "\n",
      "The following models have been printed:\n",
      "dodecahedron\n",
      "robot pendant\n",
      "iphone case\n"
     ]
    }
   ],
   "source": [
    "# Start with some designs that need to be printed.\n",
    "unprinted_designs = ['iphone case', 'robot pendant', 'dodecahedron']\n",
    "completed_models = []\n",
    "\n",
    "# Simulate printing each design, until none are left.\n",
    "# Move each design to completed_models after printing.\n",
    "while unprinted_designs:\n",
    "    current_design = unprinted_designs.pop()\n",
    "    # Simulate creating a 3D print from the design.\n",
    "    print(\"Printing model: \" + current_design)\n",
    "    completed_models.append(current_design)\n",
    "    \n",
    "# Display all completed models.\n",
    "print(\"\\nThe following models have been printed:\")\n",
    "for completed_model in completed_models:\n",
    "    print(completed_model)\n",
    "    "
   ]
  },
  {
   "cell_type": "markdown",
   "id": "1ab95df4",
   "metadata": {},
   "source": [
    "We can reorganize this code by writing two functions, each of which \n",
    "does one specific job. Most of the code won’t change; we’re just making it \n",
    "more efficient. The first function will handle printing the designs, and the \n",
    "second will summarize the prints that have been made:"
   ]
  },
  {
   "cell_type": "code",
   "execution_count": 5,
   "id": "139833ce",
   "metadata": {},
   "outputs": [
    {
     "name": "stdout",
     "output_type": "stream",
     "text": [
      "Printing model: dodecahedron\n",
      "Printing model: robot pendant\n",
      "Printing model: iphone case\n",
      "\n",
      "The following models have been printed:\n",
      "dodecahedron\n",
      "robot pendant\n",
      "iphone case\n"
     ]
    }
   ],
   "source": [
    "def print_models(unprinted_designs, completed_models):\n",
    "    \"\"\"Simulate printing each design, until none are left. Move each design to completed_models after printing.\"\"\"\n",
    "    while unprinted_designs:\n",
    "        current_design = unprinted_designs.pop()\n",
    "        \n",
    "        # Simulate creating a 3D print from the design.\n",
    "        print(\"Printing model: \" + current_design)\n",
    "        completed_models.append(current_design)\n",
    "        \n",
    "def show_completed_models(completed_models):\n",
    "    \"\"\"Show all the models that were printed.\"\"\"\n",
    "    print(\"\\nThe following models have been printed:\")\n",
    "    for completed_model in completed_models:\n",
    "        print(completed_model)\n",
    "        \n",
    "\n",
    "unprinted_designs = ['iphone case', 'robot pendant', 'dodecahedron']\n",
    "completed_models = []\n",
    "   \n",
    "    \n",
    "print_models(unprinted_designs, completed_models)\n",
    "show_completed_models(completed_models)\n",
    "        "
   ]
  },
  {
   "cell_type": "markdown",
   "id": "cffce860",
   "metadata": {},
   "source": [
    "# Passing an Arbitrary Number of Arguments"
   ]
  },
  {
   "cell_type": "code",
   "execution_count": 9,
   "id": "1ba01b6a",
   "metadata": {},
   "outputs": [
    {
     "name": "stdout",
     "output_type": "stream",
     "text": [
      "pepperoni\n"
     ]
    },
    {
     "ename": "TypeError",
     "evalue": "make_pizza() takes 1 positional argument but 3 were given",
     "output_type": "error",
     "traceback": [
      "\u001b[1;31m---------------------------------------------------------------------------\u001b[0m",
      "\u001b[1;31mTypeError\u001b[0m                                 Traceback (most recent call last)",
      "Cell \u001b[1;32mIn[9], line 6\u001b[0m\n\u001b[0;32m      3\u001b[0m     \u001b[38;5;28mprint\u001b[39m(toppings)\n\u001b[0;32m      5\u001b[0m make_pizza(\u001b[38;5;124m'\u001b[39m\u001b[38;5;124mpepperoni\u001b[39m\u001b[38;5;124m'\u001b[39m)\n\u001b[1;32m----> 6\u001b[0m \u001b[43mmake_pizza\u001b[49m\u001b[43m(\u001b[49m\u001b[38;5;124;43m'\u001b[39;49m\u001b[38;5;124;43mmushrooms\u001b[39;49m\u001b[38;5;124;43m'\u001b[39;49m\u001b[43m,\u001b[49m\u001b[43m \u001b[49m\u001b[38;5;124;43m'\u001b[39;49m\u001b[38;5;124;43mgreen peppers\u001b[39;49m\u001b[38;5;124;43m'\u001b[39;49m\u001b[43m,\u001b[49m\u001b[43m \u001b[49m\u001b[38;5;124;43m'\u001b[39;49m\u001b[38;5;124;43mextra cheese\u001b[39;49m\u001b[38;5;124;43m'\u001b[39;49m\u001b[43m)\u001b[49m  \n",
      "\u001b[1;31mTypeError\u001b[0m: make_pizza() takes 1 positional argument but 3 were given"
     ]
    }
   ],
   "source": [
    "def make_pizza(toppings):\n",
    "    \"\"\"Print the list of toppings that have been requested.\"\"\"\n",
    "    print(toppings)\n",
    "    \n",
    "make_pizza('pepperoni')\n",
    "make_pizza('mushrooms', 'green peppers', 'extra cheese')  "
   ]
  },
  {
   "cell_type": "code",
   "execution_count": 10,
   "id": "5eb86c80",
   "metadata": {},
   "outputs": [
    {
     "name": "stdout",
     "output_type": "stream",
     "text": [
      "('pepperoni',)\n",
      "('mushrooms', 'green peppers', 'extra cheese')\n"
     ]
    }
   ],
   "source": [
    "def make_pizza(*toppings):\n",
    "    \"\"\"Print the list of toppings that have been requested.\"\"\"\n",
    "    print(toppings)\n",
    "    \n",
    "make_pizza('pepperoni')\n",
    "make_pizza('mushrooms', 'green peppers', 'extra cheese') "
   ]
  },
  {
   "cell_type": "markdown",
   "id": "e783a379",
   "metadata": {},
   "source": [
    "The asterisk in the parameter name *toppings tells Python to make an \n",
    "empty tuple called toppings and pack whatever values it receives into this \n",
    "tuple. The print statement in the function body produces output showing \n",
    "that Python can handle a function call with one value and a call with three \n",
    "values."
   ]
  },
  {
   "cell_type": "code",
   "execution_count": 11,
   "id": "1a1c9be0",
   "metadata": {},
   "outputs": [
    {
     "name": "stdout",
     "output_type": "stream",
     "text": [
      "\n",
      "Making a pizza with the following toppings:\n",
      "- pepperoni\n",
      "\n",
      "Making a pizza with the following toppings:\n",
      "- mushrooms\n",
      "- green peppers\n",
      "- extra cheese\n"
     ]
    }
   ],
   "source": [
    "def make_pizza(*toppings):\n",
    "    \"\"\"Summarize the pizza we are about to make.\"\"\"\n",
    "    print(\"\\nMaking a pizza with the following toppings:\")\n",
    "    for topping in toppings:\n",
    "        print(\"- \" + topping)\n",
    "\n",
    "make_pizza('pepperoni')\n",
    "make_pizza('mushrooms', 'green peppers', 'extra cheese')"
   ]
  },
  {
   "cell_type": "markdown",
   "id": "c4ac35a3",
   "metadata": {},
   "source": [
    "### Mixing Positional and Arbitrary Arguments"
   ]
  },
  {
   "cell_type": "markdown",
   "id": "5a742497",
   "metadata": {},
   "source": [
    "If you want a function to accept several different kinds of arguments, the \n",
    "parameter that accepts an arbitrary number of arguments must be placed \n",
    "last in the function definition. Python matches positional and keyword \n",
    "arguments first and then collects any remaining arguments in the final \n",
    "parameter."
   ]
  },
  {
   "cell_type": "code",
   "execution_count": 12,
   "id": "7b0608fa",
   "metadata": {},
   "outputs": [
    {
     "name": "stdout",
     "output_type": "stream",
     "text": [
      "\n",
      "Making a 16-inch pizza with the following toppings:\n",
      "- pepperoni\n",
      "\n",
      "Making a 12-inch pizza with the following toppings:\n",
      "- mushrooms\n",
      "- green peppers\n",
      "- extra cheese\n"
     ]
    }
   ],
   "source": [
    "def make_pizza(size, *toppings): \n",
    "    \"\"\"Summarize the pizza we are about to make.\"\"\"\n",
    "    print(\"\\nMaking a \" + str(size) + \"-inch pizza with the following toppings:\")\n",
    "    \n",
    "    for topping in toppings:\n",
    "        print(\"- \" + topping)\n",
    "        \n",
    "make_pizza(16, 'pepperoni') \n",
    "make_pizza(12, 'mushrooms', 'green peppers', 'extra cheese')\n",
    "    "
   ]
  },
  {
   "cell_type": "markdown",
   "id": "a5560e67",
   "metadata": {},
   "source": [
    "### Using Arbitrary Keyword Arguments"
   ]
  },
  {
   "cell_type": "markdown",
   "id": "f7ece4db",
   "metadata": {},
   "source": [
    "Sometimes you’ll want to accept an arbitrary number of arguments, but you \n",
    "won’t know ahead of time what kind of information will be passed to the \n",
    "function. In this case, you can write functions that accept as many key-value \n",
    "pairs as the calling statement provides."
   ]
  },
  {
   "cell_type": "code",
   "execution_count": 16,
   "id": "1047cdc1",
   "metadata": {},
   "outputs": [
    {
     "name": "stdout",
     "output_type": "stream",
     "text": [
      "{'first_name': 'albert', 'last_name': 'einstein', 'location': 'princeton', 'field': 'physics'}\n"
     ]
    }
   ],
   "source": [
    "def build_profile(first, last, **user_info):\n",
    "    \"\"\"Build a dictionary containing everything we know about a user.\"\"\"\n",
    "    profile = {}\n",
    "    profile['first_name'] = first\n",
    "    profile['last_name'] = last\n",
    "    for key, value in user_info.items():\n",
    "        profile[key] = value\n",
    "    return profile\n",
    "    \n",
    "user_profile = build_profile('albert', 'einstein', location='princeton', field='physics')\n",
    "\n",
    "print(user_profile)"
   ]
  },
  {
   "cell_type": "markdown",
   "id": "e5077017",
   "metadata": {},
   "source": [
    "# Storing Your Functions in Modules"
   ]
  },
  {
   "cell_type": "code",
   "execution_count": 19,
   "id": "93194d5d",
   "metadata": {},
   "outputs": [],
   "source": [
    "def make_pizza(size, *toppings):\n",
    "    \"\"\"Summarize the pizza we are about to make.\"\"\"\n",
    "    print(\"\\nMaking a \" + str(size) + \"-inch pizza with the following toppings:\")\n",
    "    for topping in toppings:\n",
    "        print(\"- \" + topping)"
   ]
  },
  {
   "cell_type": "markdown",
   "id": "6e7297ea",
   "metadata": {},
   "source": [
    "Now we’ll make a separate file called making_pizzas.py in the same \n",
    "directory as pizza.py. This file imports the module we just created and then \n",
    "makes two calls to make_pizza():"
   ]
  },
  {
   "cell_type": "code",
   "execution_count": null,
   "id": "cfee1739",
   "metadata": {},
   "outputs": [],
   "source": [
    "import pizza\n",
    "\n",
    "pizza.make_pizza(16, 'pepperoni')\n",
    "pizza.make_pizza(12, 'mushrooms', 'green peppers', 'extra cheese')"
   ]
  },
  {
   "cell_type": "markdown",
   "id": "c1ecedd3",
   "metadata": {},
   "source": [
    "### Importing Specific Functions"
   ]
  },
  {
   "cell_type": "code",
   "execution_count": null,
   "id": "9dfb05ba",
   "metadata": {},
   "outputs": [],
   "source": [
    "from module_name import function_name"
   ]
  },
  {
   "cell_type": "code",
   "execution_count": null,
   "id": "8cb8ab17",
   "metadata": {},
   "outputs": [],
   "source": [
    "from module_name import function_0, function_1, function_2"
   ]
  },
  {
   "cell_type": "code",
   "execution_count": null,
   "id": "3ce903a7",
   "metadata": {},
   "outputs": [],
   "source": [
    "from pizza import make_pizza\n",
    "make_pizza(16, 'pepperoni')\n",
    "make_pizza(12, 'mushrooms', 'green peppers', 'extra cheese')"
   ]
  },
  {
   "cell_type": "markdown",
   "id": "caf3adcd",
   "metadata": {},
   "source": [
    "### Using as to Give a Function an Alias"
   ]
  },
  {
   "cell_type": "code",
   "execution_count": null,
   "id": "0aa75e02",
   "metadata": {},
   "outputs": [],
   "source": [
    "from pizza import make_pizza as mp\n",
    "\n",
    "mp(16, 'pepperoni')\n",
    "mp(12, 'mushrooms', 'green peppers', 'extra cheese')"
   ]
  },
  {
   "cell_type": "code",
   "execution_count": null,
   "id": "2ce4749e",
   "metadata": {},
   "outputs": [],
   "source": [
    "from module_name import function_name as fn"
   ]
  },
  {
   "cell_type": "markdown",
   "id": "195efedf",
   "metadata": {},
   "source": [
    "### Using as to Give a Module an Alias"
   ]
  },
  {
   "cell_type": "code",
   "execution_count": null,
   "id": "2ffc2e62",
   "metadata": {},
   "outputs": [],
   "source": [
    "import pizza as p\n",
    "\n",
    "p.make_pizza(16, 'pepperoni')\n",
    "p.make_pizza(12, 'mushrooms', 'green peppers', 'extra cheese')"
   ]
  },
  {
   "cell_type": "code",
   "execution_count": null,
   "id": "36536c69",
   "metadata": {},
   "outputs": [],
   "source": [
    "import module_name as mn"
   ]
  },
  {
   "cell_type": "markdown",
   "id": "87a85c6a",
   "metadata": {},
   "source": [
    "### Importing All Functions in a Module"
   ]
  },
  {
   "cell_type": "code",
   "execution_count": null,
   "id": "a7e543ec",
   "metadata": {},
   "outputs": [],
   "source": []
  }
 ],
 "metadata": {
  "kernelspec": {
   "display_name": "Python 3 (ipykernel)",
   "language": "python",
   "name": "python3"
  },
  "language_info": {
   "codemirror_mode": {
    "name": "ipython",
    "version": 3
   },
   "file_extension": ".py",
   "mimetype": "text/x-python",
   "name": "python",
   "nbconvert_exporter": "python",
   "pygments_lexer": "ipython3",
   "version": "3.11.1"
  }
 },
 "nbformat": 4,
 "nbformat_minor": 5
}
