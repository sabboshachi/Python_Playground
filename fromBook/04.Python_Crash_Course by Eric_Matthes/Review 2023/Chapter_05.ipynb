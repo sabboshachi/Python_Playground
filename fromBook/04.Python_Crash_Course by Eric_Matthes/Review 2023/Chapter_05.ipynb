{
 "cells": [
  {
   "cell_type": "markdown",
   "id": "613a2a3d",
   "metadata": {},
   "source": [
    "# IF STATEMENTS"
   ]
  },
  {
   "cell_type": "markdown",
   "id": "29e8661d",
   "metadata": {},
   "source": [
    "If statements are used to test for particular conditions and\n",
    "respond appropriately."
   ]
  },
  {
   "cell_type": "markdown",
   "id": "54f4a6f2",
   "metadata": {},
   "source": [
    "### Conditional tests"
   ]
  },
  {
   "cell_type": "code",
   "execution_count": null,
   "id": "ae94bc40",
   "metadata": {},
   "outputs": [],
   "source": [
    "equals x == 42\n",
    "not equal x != 42\n",
    "greater than x > 42\n",
    " or equal to x >= 42\n",
    "less than x < 42\n",
    " or equal to x <= 42"
   ]
  },
  {
   "cell_type": "markdown",
   "id": "f4937c98",
   "metadata": {},
   "source": [
    "### Conditional test with lists"
   ]
  },
  {
   "cell_type": "code",
   "execution_count": null,
   "id": "b87a18a9",
   "metadata": {},
   "outputs": [],
   "source": [
    "'trek' in bikes\n",
    "'surly' not in bikes"
   ]
  },
  {
   "cell_type": "code",
   "execution_count": null,
   "id": "5739ed27",
   "metadata": {},
   "outputs": [],
   "source": [
    "### Assigning boolean values"
   ]
  },
  {
   "cell_type": "code",
   "execution_count": null,
   "id": "206f7e73",
   "metadata": {},
   "outputs": [],
   "source": [
    "game_active = True\n",
    "can_edit = False"
   ]
  },
  {
   "cell_type": "markdown",
   "id": "c9227052",
   "metadata": {},
   "source": [
    "### A simple if test"
   ]
  },
  {
   "cell_type": "code",
   "execution_count": null,
   "id": "5b115ebb",
   "metadata": {},
   "outputs": [],
   "source": [
    "if age >= 18:\n",
    "    print(\"You can vote!\")"
   ]
  },
  {
   "cell_type": "markdown",
   "id": "da3494c5",
   "metadata": {},
   "source": [
    "### If-elif-else statements"
   ]
  },
  {
   "cell_type": "code",
   "execution_count": null,
   "id": "a80fc614",
   "metadata": {},
   "outputs": [],
   "source": [
    "if age < 4:\n",
    "     ticket_price = 0\n",
    "elif age < 18:\n",
    "     ticket_price = 10\n",
    "else:\n",
    "     ticket_price = 15"
   ]
  },
  {
   "cell_type": "markdown",
   "id": "4b410aed",
   "metadata": {},
   "source": [
    "### A Simple Example"
   ]
  },
  {
   "cell_type": "code",
   "execution_count": 1,
   "id": "e62a409e",
   "metadata": {},
   "outputs": [
    {
     "name": "stdout",
     "output_type": "stream",
     "text": [
      "Audi\n",
      "BMW\n",
      "Subaru\n",
      "Toyota\n"
     ]
    }
   ],
   "source": [
    "cars = ['audi', 'bmw', 'subaru', 'toyota']\n",
    "\n",
    "for car in cars:\n",
    "    if car == 'bmw':\n",
    "        print(car.upper())\n",
    "    else:\n",
    "        print(car.title())"
   ]
  },
  {
   "cell_type": "markdown",
   "id": "a133ffa4",
   "metadata": {},
   "source": [
    "# Simple if Statements"
   ]
  },
  {
   "cell_type": "code",
   "execution_count": null,
   "id": "cd252df0",
   "metadata": {},
   "outputs": [],
   "source": [
    "if conditional_test:\n",
    "     do something"
   ]
  },
  {
   "cell_type": "markdown",
   "id": "0078a96e",
   "metadata": {},
   "source": [
    "# Using if Statements with Lists"
   ]
  },
  {
   "cell_type": "code",
   "execution_count": 4,
   "id": "e2138f5d",
   "metadata": {},
   "outputs": [
    {
     "name": "stdout",
     "output_type": "stream",
     "text": [
      "Adding mushrooms.\n",
      "Sorry, we are out of green peppers right now.\n",
      "Adding extra cheese.\n",
      "\n",
      "Finished making your pizza!\n"
     ]
    }
   ],
   "source": [
    "requested_toppings = ['mushrooms', 'green peppers', 'extra cheese']\n",
    "\n",
    "for requested_topping in requested_toppings:\n",
    "    if requested_topping == 'green peppers':\n",
    "         print(\"Sorry, we are out of green peppers right now.\")\n",
    "    else:\n",
    "         print(\"Adding \" + requested_topping + \".\")\n",
    "\n",
    "print(\"\\nFinished making your pizza!\")"
   ]
  },
  {
   "cell_type": "markdown",
   "id": "b1ecb2c6",
   "metadata": {},
   "source": [
    "# Checking That a List Is Not Empty"
   ]
  },
  {
   "cell_type": "code",
   "execution_count": 8,
   "id": "033a76c6",
   "metadata": {},
   "outputs": [
    {
     "name": "stdout",
     "output_type": "stream",
     "text": [
      "Are you sure you want a plain pizza?\n"
     ]
    }
   ],
   "source": [
    "requested_toppings = []\n",
    "\n",
    "if requested_toppings: # checking if the list is empty or not\n",
    "    for requested_topping in requested_toppings:\n",
    "        print(\"Adding \" + requested_topping + \".\")\n",
    "        \n",
    "    print(\"\\nFinished making your pizza!\")\n",
    "else:\n",
    "     print(\"Are you sure you want a plain pizza?\")"
   ]
  },
  {
   "cell_type": "markdown",
   "id": "f663e3c8",
   "metadata": {},
   "source": [
    "### Using Multiple Lists"
   ]
  },
  {
   "cell_type": "code",
   "execution_count": 10,
   "id": "f2c5b6b7",
   "metadata": {},
   "outputs": [
    {
     "name": "stdout",
     "output_type": "stream",
     "text": [
      "Adding mushrooms.\n",
      "Sorry, we don't have french fries.\n",
      "Adding extra cheese.\n",
      "\n",
      "Finished making your pizza!\n"
     ]
    }
   ],
   "source": [
    "available_toppings = ['mushrooms', 'olives', 'green peppers', 'pepperoni', 'pineapple', 'extra cheese']\n",
    "\n",
    "requested_toppings = ['mushrooms', 'french fries', 'extra cheese']\n",
    "\n",
    "for requested_topping in requested_toppings:\n",
    "    if requested_topping in available_toppings:\n",
    "        print(\"Adding \" + requested_topping + \".\")\n",
    "    else:\n",
    "        print(\"Sorry, we don't have \" + requested_topping + \".\")\n",
    "        \n",
    "print(\"\\nFinished making your pizza!\")"
   ]
  }
 ],
 "metadata": {
  "kernelspec": {
   "display_name": "Python 3 (ipykernel)",
   "language": "python",
   "name": "python3"
  },
  "language_info": {
   "codemirror_mode": {
    "name": "ipython",
    "version": 3
   },
   "file_extension": ".py",
   "mimetype": "text/x-python",
   "name": "python",
   "nbconvert_exporter": "python",
   "pygments_lexer": "ipython3",
   "version": "3.11.1"
  }
 },
 "nbformat": 4,
 "nbformat_minor": 5
}
