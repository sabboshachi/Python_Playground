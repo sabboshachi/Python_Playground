{
 "cells": [
  {
   "cell_type": "markdown",
   "id": "da061916",
   "metadata": {},
   "source": [
    "# The Integer, Floating-Point, and String Data Types"
   ]
  },
  {
   "cell_type": "markdown",
   "id": "a910f2ce",
   "metadata": {},
   "source": [
    "### Common Data Types"
   ]
  },
  {
   "cell_type": "markdown",
   "id": "10ac29f2",
   "metadata": {},
   "source": [
    "Integers === -2, -1, 0, 1, 2, 3, 4, 5 <br>\n",
    "Floating-point numbers === -1.25, -1.0, --0.5, 0.0, 0.5, 1.0, 1.25 <br>\n",
    "Strings === 'a', 'aa', 'aaa', 'Hello!', '11 cats'"
   ]
  },
  {
   "cell_type": "markdown",
   "id": "bb6895f6",
   "metadata": {},
   "source": [
    "### String Concatenation and Replication"
   ]
  },
  {
   "cell_type": "code",
   "execution_count": 1,
   "id": "5bbc4c34",
   "metadata": {},
   "outputs": [
    {
     "name": "stdout",
     "output_type": "stream",
     "text": [
      "AliceBob\n"
     ]
    }
   ],
   "source": [
    "name = 'Alice' + 'Bob'\n",
    "print(name)"
   ]
  },
  {
   "cell_type": "code",
   "execution_count": 3,
   "id": "65d65152",
   "metadata": {},
   "outputs": [
    {
     "name": "stdout",
     "output_type": "stream",
     "text": [
      "Alice Alice Alice Alice Alice \n"
     ]
    }
   ],
   "source": [
    "name = 'Alice ' * 5\n",
    "print(name)"
   ]
  },
  {
   "cell_type": "code",
   "execution_count": 4,
   "id": "066018dd",
   "metadata": {},
   "outputs": [
    {
     "ename": "TypeError",
     "evalue": "can't multiply sequence by non-int of type 'str'",
     "output_type": "error",
     "traceback": [
      "\u001b[1;31m---------------------------------------------------------------------------\u001b[0m",
      "\u001b[1;31mTypeError\u001b[0m                                 Traceback (most recent call last)",
      "Cell \u001b[1;32mIn[4], line 1\u001b[0m\n\u001b[1;32m----> 1\u001b[0m name \u001b[38;5;241m=\u001b[39m \u001b[38;5;124;43m'\u001b[39;49m\u001b[38;5;124;43mAlice\u001b[39;49m\u001b[38;5;124;43m'\u001b[39;49m\u001b[43m \u001b[49m\u001b[38;5;241;43m*\u001b[39;49m\u001b[43m \u001b[49m\u001b[38;5;124;43m'\u001b[39;49m\u001b[38;5;124;43mBob\u001b[39;49m\u001b[38;5;124;43m'\u001b[39;49m\n\u001b[0;32m      2\u001b[0m \u001b[38;5;28mprint\u001b[39m(name)\n",
      "\u001b[1;31mTypeError\u001b[0m: can't multiply sequence by non-int of type 'str'"
     ]
    }
   ],
   "source": [
    "name = 'Alice' * 'Bob'\n",
    "print(name)"
   ]
  },
  {
   "cell_type": "code",
   "execution_count": 5,
   "id": "ef1d3d59",
   "metadata": {},
   "outputs": [
    {
     "ename": "TypeError",
     "evalue": "can't multiply sequence by non-int of type 'float'",
     "output_type": "error",
     "traceback": [
      "\u001b[1;31m---------------------------------------------------------------------------\u001b[0m",
      "\u001b[1;31mTypeError\u001b[0m                                 Traceback (most recent call last)",
      "Cell \u001b[1;32mIn[5], line 1\u001b[0m\n\u001b[1;32m----> 1\u001b[0m name \u001b[38;5;241m=\u001b[39m \u001b[38;5;124;43m'\u001b[39;49m\u001b[38;5;124;43mAlice\u001b[39;49m\u001b[38;5;124;43m'\u001b[39;49m\u001b[43m \u001b[49m\u001b[38;5;241;43m*\u001b[39;49m\u001b[43m \u001b[49m\u001b[38;5;241;43m5.0\u001b[39;49m\n\u001b[0;32m      2\u001b[0m \u001b[38;5;28mprint\u001b[39m(name)\n",
      "\u001b[1;31mTypeError\u001b[0m: can't multiply sequence by non-int of type 'float'"
     ]
    }
   ],
   "source": [
    "name = 'Alice' * 5.0\n",
    "print(name)"
   ]
  },
  {
   "cell_type": "markdown",
   "id": "b9f644b8",
   "metadata": {},
   "source": [
    "### Storing Values in Variables"
   ]
  },
  {
   "cell_type": "markdown",
   "id": "760a3735",
   "metadata": {},
   "source": [
    "A variable is like a box in the computer’s memory where you can store a \n",
    "single value.\n",
    "\n",
    "You’ll store values in variables with an assignment statement. An assignment \n",
    "statement consists of a variable name, an equal sign (called the assignment \n",
    "operator), and the value to be stored."
   ]
  }
 ],
 "metadata": {
  "kernelspec": {
   "display_name": "Python 3 (ipykernel)",
   "language": "python",
   "name": "python3"
  },
  "language_info": {
   "codemirror_mode": {
    "name": "ipython",
    "version": 3
   },
   "file_extension": ".py",
   "mimetype": "text/x-python",
   "name": "python",
   "nbconvert_exporter": "python",
   "pygments_lexer": "ipython3",
   "version": "3.11.1"
  }
 },
 "nbformat": 4,
 "nbformat_minor": 5
}
