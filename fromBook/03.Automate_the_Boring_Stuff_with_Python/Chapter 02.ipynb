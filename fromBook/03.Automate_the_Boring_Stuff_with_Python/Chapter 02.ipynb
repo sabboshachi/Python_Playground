{
 "cells": [
  {
   "cell_type": "markdown",
   "id": "3477ff82",
   "metadata": {},
   "source": [
    "# Flow Control"
   ]
  },
  {
   "cell_type": "markdown",
   "id": "be220065",
   "metadata": {},
   "source": [
    "Flow control statements can decide which Python \n",
    "instructions to execute under which conditions.\n",
    "\n",
    "In a flowchart, there is usually more than one way to go from the start \n",
    "to the end. The same is true for lines of code in a computer program. Flowcharts represent these branching points with diamonds, while the other steps are represented with rectangles. The starting and ending steps are \n",
    "represented with rounded rectangles."
   ]
  },
  {
   "cell_type": "markdown",
   "id": "7071c2ed",
   "metadata": {},
   "source": [
    "### Boolean Values"
   ]
  },
  {
   "cell_type": "markdown",
   "id": "261f91cf",
   "metadata": {},
   "source": [
    "While the integer, floating-point, and string data types have an unlimited \n",
    "number of possible values, the Boolean data type has only two values: True\n",
    "and False. (Boolean is capitalized because the data type is named after \n",
    "mathematician George Boole.) When typed as Python code, the Boolean \n",
    "values True and False lack the quotes you place around strings, and they \n",
    "always start with a capital T or F, with the rest of the word in lowercase. \n",
    "Enter the following into the interactive shell."
   ]
  },
  {
   "cell_type": "code",
   "execution_count": 1,
   "id": "4d88c65e",
   "metadata": {},
   "outputs": [],
   "source": [
    "spam = True"
   ]
  },
  {
   "cell_type": "code",
   "execution_count": 2,
   "id": "8e8ca446",
   "metadata": {},
   "outputs": [
    {
     "data": {
      "text/plain": [
       "True"
      ]
     },
     "execution_count": 2,
     "metadata": {},
     "output_type": "execute_result"
    }
   ],
   "source": [
    "spam"
   ]
  },
  {
   "cell_type": "code",
   "execution_count": 3,
   "id": "e0032d12",
   "metadata": {},
   "outputs": [
    {
     "ename": "SyntaxError",
     "evalue": "cannot assign to True (1730036152.py, line 1)",
     "output_type": "error",
     "traceback": [
      "\u001b[1;36m  Cell \u001b[1;32mIn[3], line 1\u001b[1;36m\u001b[0m\n\u001b[1;33m    True = 2 + 2\u001b[0m\n\u001b[1;37m    ^\u001b[0m\n\u001b[1;31mSyntaxError\u001b[0m\u001b[1;31m:\u001b[0m cannot assign to True\n"
     ]
    }
   ],
   "source": [
    "True = 2 + 2"
   ]
  },
  {
   "cell_type": "markdown",
   "id": "bca4384e",
   "metadata": {},
   "source": [
    "### Comparison Operators"
   ]
  },
  {
   "cell_type": "markdown",
   "id": "14133cdf",
   "metadata": {},
   "source": [
    "\"==\" (Equal to)\n",
    "\n",
    "\"!= (Not equal to)\n",
    "\n",
    "< (Less than)\n",
    "\n",
    "\">\" (Greater than)\n",
    "\n",
    "<= (Less than or equal to)\n",
    "\n",
    "\">=\" (Greater than or equal to)"
   ]
  },
  {
   "cell_type": "code",
   "execution_count": null,
   "id": "f556f9c6",
   "metadata": {},
   "outputs": [],
   "source": []
  },
  {
   "cell_type": "code",
   "execution_count": null,
   "id": "c64ff587",
   "metadata": {},
   "outputs": [],
   "source": []
  },
  {
   "cell_type": "code",
   "execution_count": null,
   "id": "8d5514b3",
   "metadata": {},
   "outputs": [],
   "source": []
  }
 ],
 "metadata": {
  "kernelspec": {
   "display_name": "Python 3 (ipykernel)",
   "language": "python",
   "name": "python3"
  },
  "language_info": {
   "codemirror_mode": {
    "name": "ipython",
    "version": 3
   },
   "file_extension": ".py",
   "mimetype": "text/x-python",
   "name": "python",
   "nbconvert_exporter": "python",
   "pygments_lexer": "ipython3",
   "version": "3.11.1"
  }
 },
 "nbformat": 4,
 "nbformat_minor": 5
}
