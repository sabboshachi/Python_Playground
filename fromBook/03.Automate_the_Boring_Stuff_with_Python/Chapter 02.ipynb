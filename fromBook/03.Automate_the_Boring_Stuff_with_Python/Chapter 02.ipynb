{
 "cells": [
  {
   "cell_type": "markdown",
   "id": "87336a80",
   "metadata": {},
   "source": [
    "# Flow Control"
   ]
  },
  {
   "cell_type": "markdown",
   "id": "8fe77a91",
   "metadata": {},
   "source": [
    "Flow control statements can decide which Python \n",
    "instructions to execute under which conditions.\n",
    "\n",
    "In a flowchart, there is usually more than one way to go from the start \n",
    "to the end. The same is true for lines of code in a computer program. Flowcharts represent these branching points with diamonds, while the other steps are represented with rectangles. The starting and ending steps are \n",
    "represented with rounded rectangles."
   ]
  },
  {
   "cell_type": "markdown",
   "id": "4cb80afd",
   "metadata": {},
   "source": [
    "### Boolean Values"
   ]
  },
  {
   "cell_type": "markdown",
   "id": "fcd16c95",
   "metadata": {},
   "source": [
    "While the integer, floating-point, and string data types have an unlimited \n",
    "number of possible values, the Boolean data type has only two values: True\n",
    "and False. (Boolean is capitalized because the data type is named after \n",
    "mathematician George Boole.) When typed as Python code, the Boolean \n",
    "values True and False lack the quotes you place around strings, and they \n",
    "always start with a capital T or F, with the rest of the word in lowercase. \n",
    "Enter the following into the interactive shell."
   ]
  },
  {
   "cell_type": "code",
   "execution_count": 1,
   "id": "44bf5798",
   "metadata": {},
   "outputs": [],
   "source": [
    "spam = True"
   ]
  },
  {
   "cell_type": "code",
   "execution_count": 2,
   "id": "21192b44",
   "metadata": {},
   "outputs": [
    {
     "data": {
      "text/plain": [
       "True"
      ]
     },
     "execution_count": 2,
     "metadata": {},
     "output_type": "execute_result"
    }
   ],
   "source": [
    "spam"
   ]
  },
  {
   "cell_type": "code",
   "execution_count": 3,
   "id": "2135fdb5",
   "metadata": {},
   "outputs": [
    {
     "ename": "SyntaxError",
     "evalue": "cannot assign to True (1730036152.py, line 1)",
     "output_type": "error",
     "traceback": [
      "\u001b[1;36m  Cell \u001b[1;32mIn[3], line 1\u001b[1;36m\u001b[0m\n\u001b[1;33m    True = 2 + 2\u001b[0m\n\u001b[1;37m    ^\u001b[0m\n\u001b[1;31mSyntaxError\u001b[0m\u001b[1;31m:\u001b[0m cannot assign to True\n"
     ]
    }
   ],
   "source": [
    "True = 2 + 2"
   ]
  },
  {
   "cell_type": "markdown",
   "id": "8ab9210c",
   "metadata": {},
   "source": [
    "### Comparison Operators"
   ]
  },
  {
   "cell_type": "markdown",
   "id": "2a119be6",
   "metadata": {},
   "source": [
    "\"==\" (Equal to)\n",
    "\n",
    "\"!=\" (Not equal to)\n",
    "\n",
    "\"<\" (Less than)\n",
    "\n",
    "\">\" (Greater than)\n",
    "\n",
    "\"<=\" (Less than or equal to)\n",
    "\n",
    "\">=\" (Greater than or equal to)"
   ]
  },
  {
   "cell_type": "markdown",
   "id": "36a1d132",
   "metadata": {},
   "source": [
    "### The and Operator’s Truth Table"
   ]
  },
  {
   "cell_type": "markdown",
   "id": "dd455b2e",
   "metadata": {},
   "source": [
    "* True and True == True\n",
    "* True and False == False\n",
    "* False and True == False\n",
    "* False and False == False"
   ]
  },
  {
   "cell_type": "markdown",
   "id": "cc5b4d6f",
   "metadata": {},
   "source": [
    "### The or Operator’s Truth Table"
   ]
  },
  {
   "cell_type": "markdown",
   "id": "607827d8",
   "metadata": {},
   "source": [
    "* True or True == True\n",
    "* True or False == True\n",
    "* False or True == True\n",
    "* False or False == False"
   ]
  },
  {
   "cell_type": "markdown",
   "id": "50d5ba5f",
   "metadata": {},
   "source": [
    "### The not Operator’s Truth Table"
   ]
  },
  {
   "cell_type": "markdown",
   "id": "cfcd6562",
   "metadata": {},
   "source": [
    "* not True == False\n",
    "* not False == True"
   ]
  },
  {
   "cell_type": "markdown",
   "id": "f79ea605",
   "metadata": {},
   "source": [
    "### Mixing Boolean and Comparison Operators"
   ]
  },
  {
   "cell_type": "code",
   "execution_count": 4,
   "id": "2b2f333f",
   "metadata": {},
   "outputs": [
    {
     "data": {
      "text/plain": [
       "True"
      ]
     },
     "execution_count": 4,
     "metadata": {},
     "output_type": "execute_result"
    }
   ],
   "source": [
    "(4 < 5) and (5 < 6)"
   ]
  },
  {
   "cell_type": "code",
   "execution_count": 5,
   "id": "8110626c",
   "metadata": {},
   "outputs": [
    {
     "data": {
      "text/plain": [
       "True"
      ]
     },
     "execution_count": 5,
     "metadata": {},
     "output_type": "execute_result"
    }
   ],
   "source": [
    " (1 == 2) or (2 == 2)"
   ]
  },
  {
   "cell_type": "code",
   "execution_count": 6,
   "id": "5e76f0f5",
   "metadata": {},
   "outputs": [
    {
     "data": {
      "text/plain": [
       "False"
      ]
     },
     "execution_count": 6,
     "metadata": {},
     "output_type": "execute_result"
    }
   ],
   "source": [
    " (4 < 5) and (9 < 6)"
   ]
  },
  {
   "cell_type": "code",
   "execution_count": 7,
   "id": "91cb37c3",
   "metadata": {},
   "outputs": [
    {
     "data": {
      "text/plain": [
       "True"
      ]
     },
     "execution_count": 7,
     "metadata": {},
     "output_type": "execute_result"
    }
   ],
   "source": [
    "2 + 2 == 4 and not 2 + 2 == 5 and 2 * 2 == 2 + 2"
   ]
  },
  {
   "cell_type": "markdown",
   "id": "36295a94",
   "metadata": {},
   "source": [
    "# Elements of Flow Control"
   ]
  },
  {
   "cell_type": "markdown",
   "id": "ad346465",
   "metadata": {},
   "source": [
    "Flow control statements often start with a part called the condition, and all \n",
    "are followed by a block of code called the clause."
   ]
  },
  {
   "cell_type": "markdown",
   "id": "4b2177dc",
   "metadata": {},
   "source": [
    "### Conditions"
   ]
  },
  {
   "cell_type": "markdown",
   "id": "5625b99a",
   "metadata": {},
   "source": [
    "A flow control statement \n",
    "decides what to do based on whether its condition is True or False, and \n",
    "almost every flow control statement uses a condition."
   ]
  },
  {
   "cell_type": "markdown",
   "id": "65829da6",
   "metadata": {},
   "source": [
    "### Blocks of Code"
   ]
  },
  {
   "cell_type": "markdown",
   "id": "3b4d9344",
   "metadata": {},
   "source": [
    "Lines of Python code can be grouped together in blocks. You can tell when a \n",
    "block begins and ends from the indentation of the lines of code. There are \n",
    "three rules for blocks.\n",
    "1. Blocks begin when the indentation increases.\n",
    "2. Blocks can contain other blocks.\n",
    "3. Blocks end when the indentation decreases to zero or to a containing block’s indentation."
   ]
  },
  {
   "cell_type": "code",
   "execution_count": null,
   "id": "8539146a",
   "metadata": {},
   "outputs": [],
   "source": []
  }
 ],
 "metadata": {
  "kernelspec": {
   "display_name": "Python 3 (ipykernel)",
   "language": "python",
   "name": "python3"
  },
  "language_info": {
   "codemirror_mode": {
    "name": "ipython",
    "version": 3
   },
   "file_extension": ".py",
   "mimetype": "text/x-python",
   "name": "python",
   "nbconvert_exporter": "python",
   "pygments_lexer": "ipython3",
   "version": "3.11.1"
  }
 },
 "nbformat": 4,
 "nbformat_minor": 5
}
