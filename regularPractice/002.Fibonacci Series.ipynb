{
 "cells": [
  {
   "cell_type": "code",
   "execution_count": 1,
   "id": "bd13c5f9",
   "metadata": {},
   "outputs": [
    {
     "name": "stdout",
     "output_type": "stream",
     "text": [
      "Enter the number of terms in the Fibonacci series: 5\n",
      "0 1 1 2 3 "
     ]
    }
   ],
   "source": [
    "# Define a function to generate the Fibonacci series\n",
    "def fibonacci_series(n):\n",
    "    # Initialize the first two numbers of the series\n",
    "    a, b = 0, 1\n",
    "    \n",
    "    # Check for invalid input\n",
    "    if n <= 0:\n",
    "        print(\"Invalid input! Please enter a positive integer.\")\n",
    "    elif n == 1:\n",
    "        print(a)\n",
    "    else:\n",
    "        # Print the first two numbers of the series\n",
    "        print(a, b, end=\" \")\n",
    "        \n",
    "        # Generate and print the remaining numbers of the series\n",
    "        for i in range(2, n):\n",
    "            c = a + b\n",
    "            print(c, end=\" \")\n",
    "            \n",
    "            # Update the values of a and b for the next iteration\n",
    "            a, b = b, c\n",
    "\n",
    "# Call the function to generate and print the Fibonacci series up to n terms\n",
    "n = int(input(\"Enter the number of terms in the Fibonacci series: \"))\n",
    "fibonacci_series(n)\n"
   ]
  },
  {
   "cell_type": "code",
   "execution_count": null,
   "id": "0b039c7c",
   "metadata": {},
   "outputs": [],
   "source": []
  }
 ],
 "metadata": {
  "kernelspec": {
   "display_name": "Python 3 (ipykernel)",
   "language": "python",
   "name": "python3"
  },
  "language_info": {
   "codemirror_mode": {
    "name": "ipython",
    "version": 3
   },
   "file_extension": ".py",
   "mimetype": "text/x-python",
   "name": "python",
   "nbconvert_exporter": "python",
   "pygments_lexer": "ipython3",
   "version": "3.11.1"
  }
 },
 "nbformat": 4,
 "nbformat_minor": 5
}
