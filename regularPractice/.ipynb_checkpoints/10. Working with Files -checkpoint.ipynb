{
 "cells": [
  {
   "cell_type": "markdown",
   "id": "dedfcccf",
   "metadata": {},
   "source": [
    "# Working with Files \n",
    "\n",
    "Our programes can read from files and write to files. Files are opened in Read mode <b>(\"r\")</b> by default, but can also be opened in Write mode <b>('w')</b> and Append mode <b>('a')</b>"
   ]
  },
  {
   "cell_type": "markdown",
   "id": "f497b1c3",
   "metadata": {},
   "source": [
    "### Reading a file and storing its lines"
   ]
  },
  {
   "cell_type": "code",
   "execution_count": 22,
   "id": "16c3ea2d",
   "metadata": {},
   "outputs": [
    {
     "name": "stdout",
     "output_type": "stream",
     "text": [
      "I love Programminmg!\n",
      "\n",
      "I want to be a programmer!.\n"
     ]
    }
   ],
   "source": [
    "filename = 'siddartha.txt'\n",
    "with open(filename) as file_object:\n",
    "    lines = file_object.readlines()\n",
    "    \n",
    "for line in lines:\n",
    "    print(line)"
   ]
  },
  {
   "cell_type": "markdown",
   "id": "ca585c7f",
   "metadata": {},
   "source": [
    "### Writing to a file"
   ]
  },
  {
   "cell_type": "code",
   "execution_count": 20,
   "id": "694731a5",
   "metadata": {},
   "outputs": [],
   "source": [
    "filename = 'siddartha.txt'\n",
    "with open(filename, 'w') as file_object:\n",
    "    file_object.write(\"I love Programminmg!\")"
   ]
  },
  {
   "cell_type": "markdown",
   "id": "43975df6",
   "metadata": {},
   "source": [
    "### Appending to a file"
   ]
  },
  {
   "cell_type": "code",
   "execution_count": 21,
   "id": "0fb02c74",
   "metadata": {},
   "outputs": [],
   "source": [
    "filename = 'siddartha.txt'\n",
    "\n",
    "with open(filename, 'a') as file_object:\n",
    "    file_object.write(\"\\nI want to be a programmer!.\")"
   ]
  }
 ],
 "metadata": {
  "kernelspec": {
   "display_name": "Python 3 (ipykernel)",
   "language": "python",
   "name": "python3"
  },
  "language_info": {
   "codemirror_mode": {
    "name": "ipython",
    "version": 3
   },
   "file_extension": ".py",
   "mimetype": "text/x-python",
   "name": "python",
   "nbconvert_exporter": "python",
   "pygments_lexer": "ipython3",
   "version": "3.10.1"
  }
 },
 "nbformat": 4,
 "nbformat_minor": 5
}
