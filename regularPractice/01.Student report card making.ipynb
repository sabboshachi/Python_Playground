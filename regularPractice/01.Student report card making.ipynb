{
 "cells": [
  {
   "cell_type": "code",
   "execution_count": 1,
   "id": "9b912248",
   "metadata": {},
   "outputs": [
    {
     "name": "stdout",
     "output_type": "stream",
     "text": [
      "School Annual Report Card\n",
      "\n",
      "Name\t\tMaths\tScience\tEnglish\tAverage\n",
      "\n",
      "Alice\t\t80\t85\t90\t85.00\n",
      "Bob\t\t75\t82\t88\t81.67\n",
      "Charlie\t\t85\t90\t92\t89.00\n",
      "David\t\t90\t92\t95\t92.33\n",
      "Eva\t\t78\t80\t85\t81.00\n",
      "\n",
      "Class Average: 85.80\n"
     ]
    }
   ],
   "source": [
    "# Define a dictionary of student names and their marks\n",
    "students = {\n",
    "    \"Alice\": [80, 85, 90],\n",
    "    \"Bob\": [75, 82, 88],\n",
    "    \"Charlie\": [85, 90, 92],\n",
    "    \"David\": [90, 92, 95],\n",
    "    \"Eva\": [78, 80, 85]\n",
    "}\n",
    "\n",
    "# Define a function to calculate the average marks for each student\n",
    "def calculate_average_marks(marks):\n",
    "    return sum(marks) / len(marks)\n",
    "\n",
    "# Print the report card header\n",
    "print(\"School Annual Report Card\\n\")\n",
    "print(\"Name\\t\\tMaths\\tScience\\tEnglish\\tAverage\\n\")\n",
    "\n",
    "# Iterate over the dictionary of students and their marks\n",
    "for name, marks in students.items():\n",
    "    # Calculate the average marks\n",
    "    average = calculate_average_marks(marks)\n",
    "    \n",
    "    # Print the student's name and marks\n",
    "    print(f\"{name}\\t\\t{marks[0]}\\t{marks[1]}\\t{marks[2]}\\t{average:.2f}\")\n",
    "\n",
    "# Calculate and print the overall class average\n",
    "total_marks = []\n",
    "for marks in students.values():\n",
    "    total_marks.extend(marks)\n",
    "class_average = calculate_average_marks(total_marks)\n",
    "print(f\"\\nClass Average: {class_average:.2f}\")\n"
   ]
  },
  {
   "cell_type": "code",
   "execution_count": null,
   "id": "0cae9485",
   "metadata": {},
   "outputs": [],
   "source": []
  }
 ],
 "metadata": {
  "kernelspec": {
   "display_name": "Python 3 (ipykernel)",
   "language": "python",
   "name": "python3"
  },
  "language_info": {
   "codemirror_mode": {
    "name": "ipython",
    "version": 3
   },
   "file_extension": ".py",
   "mimetype": "text/x-python",
   "name": "python",
   "nbconvert_exporter": "python",
   "pygments_lexer": "ipython3",
   "version": "3.11.1"
  }
 },
 "nbformat": 4,
 "nbformat_minor": 5
}
