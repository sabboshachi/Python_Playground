{
 "cells": [
  {
   "cell_type": "code",
   "execution_count": null,
   "id": "29fbd201",
   "metadata": {},
   "outputs": [],
   "source": [
    "\n",
    "from tkinter import *\n",
    "from tkinter.ttk import *\n",
    "\n",
    "# Import time\n",
    "from time import strftime\n",
    "\n",
    "# Create UI for our digital clock.\n",
    "root = Tk()\n",
    "\n",
    "# Set the title of our clock using title method.\n",
    "root.title(\"Digital clock\")\n",
    "\n",
    "# Define a clock function to get the time\n",
    "# Use strftime method to get the time and store it inside a string and name the string as tick\n",
    "def clock():\n",
    "    tick = strftime(\"%H:%M:%S %p\")\n",
    "    \n",
    "    # Set the label using config method.\n",
    "    label.config(text =tick)\n",
    "\n",
    "    # Call our clock function and use the after method to do the same\n",
    "    label.after(1000, clock)\n",
    "\n",
    "# Use label method to store our title.    \n",
    "label = Label(root, font = (\"segoe\", 60), foreground = \"yellow\", background = \"black\")\n",
    "\n",
    "# Use pack method to pack our label\n",
    "# Define the alignment of the label using the anchor method.\n",
    "label.pack(anchor= \"center\")\n",
    "\n",
    "# Call our clock function and at the end we will call it mainloop\n",
    "clock()\n",
    "mainloop()"
   ]
  },
  {
   "cell_type": "code",
   "execution_count": null,
   "id": "e919df53",
   "metadata": {},
   "outputs": [],
   "source": []
  }
 ],
 "metadata": {
  "kernelspec": {
   "display_name": "Python 3 (ipykernel)",
   "language": "python",
   "name": "python3"
  }
 },
 "nbformat": 4,
 "nbformat_minor": 5
}
