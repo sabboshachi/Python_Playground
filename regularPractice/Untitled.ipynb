{
 "cells": [
  {
   "cell_type": "code",
   "execution_count": 5,
   "id": "bb896c23",
   "metadata": {},
   "outputs": [],
   "source": [
    "from tkinter import *\n",
    "from tkinter.ttk import *"
   ]
  },
  {
   "cell_type": "code",
   "execution_count": 6,
   "id": "a7035311",
   "metadata": {},
   "outputs": [],
   "source": [
    "from time import strftime"
   ]
  },
  {
   "cell_type": "code",
   "execution_count": 12,
   "id": "d48fb2ff",
   "metadata": {},
   "outputs": [],
   "source": [
    "# Create UI for our digital clock.\n",
    "root = Tk()\n",
    "\n",
    "# Set the title of our clock using title method.\n",
    "root.title(\"Digital clock\")\n",
    "\n",
    "# Define a clock function to get the time\n",
    "# Use strftime method to get the time and store it inside a string and name the string as tick\n",
    "def clock():\n",
    "    tick = strftime(\"%H:%M:%S %p\")\n",
    "    \n",
    "    # Set the label using config method.\n",
    "    label.config(text =tick)\n",
    "\n",
    "    # Call our clock function and use the after method to do the same\n",
    "    label.after(1000, clock)\n",
    "\n",
    "# Use label method to store our title.    \n",
    "label = Label(root, font = (\"segoe\", 200), foreground = \"blue\", background = \"white\")\n",
    "\n",
    "# Use pack method to pack our label\n",
    "# Define the alignment of the label using the anchor method.\n",
    "label.pack(anchor= \"center\")\n",
    "\n",
    "# Call our clock function and at the end we will call it mainloop\n",
    "clock()\n",
    "mainloop()\n"
   ]
  },
  {
   "cell_type": "code",
   "execution_count": 13,
   "id": "870f71f6",
   "metadata": {},
   "outputs": [],
   "source": [
    "'''\n",
    "Python Program to Create Digital Clock\n",
    "'''\n",
    "\n",
    "# Import necessary modules!\n",
    "import turtle\n",
    "import random\n",
    "from turtle import *\n",
    "from time import sleep\n",
    "\n",
    "static_turtle = turtle.Turtle()\n",
    "frame = turtle.Screen()\n",
    "\n",
    "def tree(branch_len, inner_turtle):\n",
    "    if branch_len > 3:\n",
    "        if 9 <= branch_len <= 12:\n",
    "            if random.randint(0, 2) == 0:\n",
    "                inner_turtle.color(\"snow\")\n",
    "            else:\n",
    "                inner_turtle.color(\"lightcoral\")\n",
    "            inner_turtle.pensize(branch_len / 3)\n",
    "        elif branch_len < 9:\n",
    "            if random.randint(0, 1) == 0:\n",
    "                inner_turtle.color(\"snow\")\n",
    "            else:\n",
    "                inner_turtle.color(\"lightcoral\")\n",
    "            inner_turtle.pensize(branch_len / 2)\n",
    "        else:\n",
    "            inner_turtle.color(\"sienna\")\n",
    "            inner_turtle.pensize(branch_len / 10)\n",
    "\n",
    "        inner_turtle.forward(branch_len)\n",
    "        angle_elem = 1.5 * random.random()\n",
    "        inner_turtle.right(20 * angle_elem)\n",
    "        length_elem = 1.5 * random.random()\n",
    "        tree(branch_len - 10 * length_elem, inner_turtle)\n",
    "        inner_turtle.left(40 * angle_elem)\n",
    "        tree(branch_len - 10 * length_elem, inner_turtle)\n",
    "        inner_turtle.right(20 * angle_elem)\n",
    "        inner_turtle.up()\n",
    "        inner_turtle.backward(branch_len)\n",
    "        inner_turtle.down()\n",
    "        \n",
    "def petal(maxim, inner_turtle):\n",
    "    for i in range(maxim):\n",
    "        right_branch = 300 - 500 * random.random()\n",
    "        left_branch = 30 - 50 * random.random()\n",
    "        inner_turtle.up()\n",
    "        inner_turtle.forward(left_branch)\n",
    "        inner_turtle.left(90)\n",
    "        inner_turtle.forward(right_branch)\n",
    "        inner_turtle.down()\n",
    "        inner_turtle.color(\"lightcoral\")\n",
    "        inner_turtle.circle(1)\n",
    "        inner_turtle.up()\n",
    "        inner_turtle.backward(right_branch)\n",
    "        inner_turtle.right(90)\n",
    "        inner_turtle.backward(left_branch)\n",
    "        \n",
    "if __name__ == '__main__':\n",
    "    static_turtle = turtle.Turtle()\n",
    "    my_frame = turtle.Screen()\n",
    "    getscreen().tracer(5, 0)\n",
    "    turtle.screensize(bg=\"#f3cef5\") \n",
    "    static_turtle.left(90)\n",
    "    static_turtle.up()\n",
    "    static_turtle.backward(150)\n",
    "    static_turtle.down()\n",
    "    static_turtle.color(\"sienna\") \n",
    "    tree(60, static_turtle)\n",
    "    petal(100, static_turtle)\n",
    "    my_frame.exitonclick()   "
   ]
  },
  {
   "cell_type": "code",
   "execution_count": 16,
   "id": "63dfb6d7",
   "metadata": {},
   "outputs": [
    {
     "name": "stdout",
     "output_type": "stream",
     "text": [
      "Collecting PyQRCode\n",
      "  Downloading PyQRCode-1.2.1.zip (41 kB)\n",
      "     ---------------------------------------- 41.9/41.9 kB 1.0 MB/s eta 0:00:00\n",
      "  Preparing metadata (setup.py): started\n",
      "  Preparing metadata (setup.py): finished with status 'done'\n",
      "Installing collected packages: PyQRCode\n",
      "  Running setup.py install for PyQRCode: started\n",
      "  Running setup.py install for PyQRCode: finished with status 'done'\n",
      "Successfully installed PyQRCode-1.2.1\n",
      "Note: you may need to restart the kernel to use updated packages.\n"
     ]
    },
    {
     "name": "stderr",
     "output_type": "stream",
     "text": [
      "  DEPRECATION: PyQRCode is being installed using the legacy 'setup.py install' method, because it does not have a 'pyproject.toml' and the 'wheel' package is not installed. pip 23.1 will enforce this behaviour change. A possible replacement is to enable the '--use-pep517' option. Discussion can be found at https://github.com/pypa/pip/issues/8559\n"
     ]
    }
   ],
   "source": [
    "pip install PyQRCode"
   ]
  },
  {
   "cell_type": "code",
   "execution_count": 17,
   "id": "ff5cfac2",
   "metadata": {},
   "outputs": [],
   "source": [
    "import pyqrcode"
   ]
  },
  {
   "cell_type": "code",
   "execution_count": 19,
   "id": "d436e9d5",
   "metadata": {},
   "outputs": [],
   "source": [
    "# Define the data:\n",
    "# We need some text that we want to convert as our QR Code. \n",
    "# Since I am creating the QR Code for my github profile, \n",
    "# I will \"https://github.com/milaan9\" as data here. Let's store inside a variable.\n",
    "data = \"https://github.com/sabboshachi\"\n",
    "\n",
    "# Create qrcode:\n",
    "# Now that we have the data with us, we can move forward and \n",
    "# make use of the package we just imported. Let's create an variable.\n",
    "# We will use the create method (as it results in a cleaner looking code) on data.\n",
    "qr = pyqrcode.create(data)\n",
    "\n",
    "# Save the qrcode in png format with proper scaling:\n",
    "# Now let's store it in .png format with proper scaling.\n"
   ]
  },
  {
   "cell_type": "code",
   "execution_count": 20,
   "id": "21b5a754",
   "metadata": {},
   "outputs": [
    {
     "ename": "ModuleNotFoundError",
     "evalue": "No module named 'png'",
     "output_type": "error",
     "traceback": [
      "\u001b[1;31m---------------------------------------------------------------------------\u001b[0m",
      "\u001b[1;31mModuleNotFoundError\u001b[0m                       Traceback (most recent call last)",
      "Cell \u001b[1;32mIn[20], line 1\u001b[0m\n\u001b[1;32m----> 1\u001b[0m \u001b[43mqr\u001b[49m\u001b[38;5;241;43m.\u001b[39;49m\u001b[43mpng\u001b[49m\u001b[43m(\u001b[49m\u001b[38;5;124;43m\"\u001b[39;49m\u001b[38;5;124;43mgithubID.png\u001b[39;49m\u001b[38;5;124;43m\"\u001b[39;49m\u001b[43m,\u001b[49m\u001b[43m \u001b[49m\u001b[43mscale\u001b[49m\u001b[38;5;241;43m=\u001b[39;49m\u001b[43m \u001b[49m\u001b[38;5;241;43m5\u001b[39;49m\u001b[43m)\u001b[49m\n",
      "File \u001b[1;32m~\\AppData\\Local\\Programs\\Python\\Python311\\Lib\\site-packages\\pyqrcode\\__init__.py:462\u001b[0m, in \u001b[0;36mQRCode.png\u001b[1;34m(self, file, scale, module_color, background, quiet_zone)\u001b[0m\n\u001b[0;32m    416\u001b[0m \u001b[38;5;28;01mdef\u001b[39;00m \u001b[38;5;21mpng\u001b[39m(\u001b[38;5;28mself\u001b[39m, file, scale\u001b[38;5;241m=\u001b[39m\u001b[38;5;241m1\u001b[39m, module_color\u001b[38;5;241m=\u001b[39m(\u001b[38;5;241m0\u001b[39m, \u001b[38;5;241m0\u001b[39m, \u001b[38;5;241m0\u001b[39m, \u001b[38;5;241m255\u001b[39m),\n\u001b[0;32m    417\u001b[0m         background\u001b[38;5;241m=\u001b[39m(\u001b[38;5;241m255\u001b[39m, \u001b[38;5;241m255\u001b[39m, \u001b[38;5;241m255\u001b[39m, \u001b[38;5;241m255\u001b[39m), quiet_zone\u001b[38;5;241m=\u001b[39m\u001b[38;5;241m4\u001b[39m):\n\u001b[0;32m    418\u001b[0m \u001b[38;5;250m    \u001b[39m\u001b[38;5;124;03m\"\"\"This method writes the QR code out as an PNG image. The resulting\u001b[39;00m\n\u001b[0;32m    419\u001b[0m \u001b[38;5;124;03m    PNG has a bit depth of 1. The file parameter is used to specify where\u001b[39;00m\n\u001b[0;32m    420\u001b[0m \u001b[38;5;124;03m    to write the image to. It can either be an writable stream or a\u001b[39;00m\n\u001b[1;32m   (...)\u001b[0m\n\u001b[0;32m    460\u001b[0m \u001b[38;5;124;03m                     background=(0xff, 0xff, 0xff, 0x88)) #50% transparent white\u001b[39;00m\n\u001b[0;32m    461\u001b[0m \u001b[38;5;124;03m    \"\"\"\u001b[39;00m\n\u001b[1;32m--> 462\u001b[0m     \u001b[43mbuilder\u001b[49m\u001b[38;5;241;43m.\u001b[39;49m\u001b[43m_png\u001b[49m\u001b[43m(\u001b[49m\u001b[38;5;28;43mself\u001b[39;49m\u001b[38;5;241;43m.\u001b[39;49m\u001b[43mcode\u001b[49m\u001b[43m,\u001b[49m\u001b[43m \u001b[49m\u001b[38;5;28;43mself\u001b[39;49m\u001b[38;5;241;43m.\u001b[39;49m\u001b[43mversion\u001b[49m\u001b[43m,\u001b[49m\u001b[43m \u001b[49m\u001b[43mfile\u001b[49m\u001b[43m,\u001b[49m\u001b[43m \u001b[49m\u001b[43mscale\u001b[49m\u001b[43m,\u001b[49m\n\u001b[0;32m    463\u001b[0m \u001b[43m                 \u001b[49m\u001b[43mmodule_color\u001b[49m\u001b[43m,\u001b[49m\u001b[43m \u001b[49m\u001b[43mbackground\u001b[49m\u001b[43m,\u001b[49m\u001b[43m \u001b[49m\u001b[43mquiet_zone\u001b[49m\u001b[43m)\u001b[49m\n",
      "File \u001b[1;32m~\\AppData\\Local\\Programs\\Python\\Python311\\Lib\\site-packages\\pyqrcode\\builder.py:1266\u001b[0m, in \u001b[0;36m_png\u001b[1;34m(code, version, file, scale, module_color, background, quiet_zone, debug)\u001b[0m\n\u001b[0;32m   1244\u001b[0m \u001b[38;5;28;01mdef\u001b[39;00m \u001b[38;5;21m_png\u001b[39m(code, version, file, scale\u001b[38;5;241m=\u001b[39m\u001b[38;5;241m1\u001b[39m, module_color\u001b[38;5;241m=\u001b[39m(\u001b[38;5;241m0\u001b[39m, \u001b[38;5;241m0\u001b[39m, \u001b[38;5;241m0\u001b[39m, \u001b[38;5;241m255\u001b[39m),\n\u001b[0;32m   1245\u001b[0m          background\u001b[38;5;241m=\u001b[39m(\u001b[38;5;241m255\u001b[39m, \u001b[38;5;241m255\u001b[39m, \u001b[38;5;241m255\u001b[39m, \u001b[38;5;241m255\u001b[39m), quiet_zone\u001b[38;5;241m=\u001b[39m\u001b[38;5;241m4\u001b[39m, debug\u001b[38;5;241m=\u001b[39m\u001b[38;5;28;01mFalse\u001b[39;00m):\n\u001b[0;32m   1246\u001b[0m \u001b[38;5;250m    \u001b[39m\u001b[38;5;124;03m\"\"\"See: pyqrcode.QRCode.png()\u001b[39;00m\n\u001b[0;32m   1247\u001b[0m \n\u001b[0;32m   1248\u001b[0m \u001b[38;5;124;03m    This function was abstracted away from QRCode to allow for the output of\u001b[39;00m\n\u001b[1;32m   (...)\u001b[0m\n\u001b[0;32m   1264\u001b[0m \u001b[38;5;124;03m            modules) to the output (default: ``False``).\u001b[39;00m\n\u001b[0;32m   1265\u001b[0m \u001b[38;5;124;03m    \"\"\"\u001b[39;00m\n\u001b[1;32m-> 1266\u001b[0m     \u001b[38;5;28;01mimport\u001b[39;00m \u001b[38;5;21;01mpng\u001b[39;00m\n\u001b[0;32m   1268\u001b[0m     \u001b[38;5;66;03m# Coerce scale parameter into an integer\u001b[39;00m\n\u001b[0;32m   1269\u001b[0m     \u001b[38;5;28;01mtry\u001b[39;00m:\n",
      "\u001b[1;31mModuleNotFoundError\u001b[0m: No module named 'png'"
     ]
    }
   ],
   "source": [
    "qr.png(\"githubID.png\", scale= 5)"
   ]
  },
  {
   "cell_type": "code",
   "execution_count": 22,
   "id": "2d7c7274",
   "metadata": {},
   "outputs": [
    {
     "name": "stdout",
     "output_type": "stream",
     "text": [
      "Collecting cvzone\n",
      "  Downloading cvzone-1.5.6.tar.gz (12 kB)\n",
      "  Preparing metadata (setup.py): started\n",
      "  Preparing metadata (setup.py): finished with status 'done'\n",
      "Requirement already satisfied: opencv-python in c:\\users\\sabbo\\appdata\\local\\programs\\python\\python311\\lib\\site-packages (from cvzone) (4.7.0.68)\n",
      "Requirement already satisfied: numpy in c:\\users\\sabbo\\appdata\\local\\programs\\python\\python311\\lib\\site-packages (from cvzone) (1.24.1)\n",
      "Installing collected packages: cvzone\n",
      "  Running setup.py install for cvzone: started\n",
      "  Running setup.py install for cvzone: finished with status 'done'\n",
      "Successfully installed cvzone-1.5.6\n",
      "Note: you may need to restart the kernel to use updated packages.\n"
     ]
    },
    {
     "name": "stderr",
     "output_type": "stream",
     "text": [
      "  DEPRECATION: cvzone is being installed using the legacy 'setup.py install' method, because it does not have a 'pyproject.toml' and the 'wheel' package is not installed. pip 23.1 will enforce this behaviour change. A possible replacement is to enable the '--use-pep517' option. Discussion can be found at https://github.com/pypa/pip/issues/8559\n"
     ]
    }
   ],
   "source": [
    "pip install cvzone"
   ]
  },
  {
   "cell_type": "code",
   "execution_count": 23,
   "id": "c45454c3",
   "metadata": {},
   "outputs": [
    {
     "ename": "ModuleNotFoundError",
     "evalue": "No module named 'mediapipe'",
     "output_type": "error",
     "traceback": [
      "\u001b[1;31m---------------------------------------------------------------------------\u001b[0m",
      "\u001b[1;31mModuleNotFoundError\u001b[0m                       Traceback (most recent call last)",
      "Cell \u001b[1;32mIn[23], line 3\u001b[0m\n\u001b[0;32m      1\u001b[0m \u001b[38;5;28;01mimport\u001b[39;00m \u001b[38;5;21;01mcv2\u001b[39;00m\n\u001b[0;32m      2\u001b[0m \u001b[38;5;28;01mimport\u001b[39;00m \u001b[38;5;21;01msys\u001b[39;00m\n\u001b[1;32m----> 3\u001b[0m \u001b[38;5;28;01mfrom\u001b[39;00m \u001b[38;5;21;01mcvzone\u001b[39;00m\u001b[38;5;21;01m.\u001b[39;00m\u001b[38;5;21;01mHandTrackingModule\u001b[39;00m \u001b[38;5;28;01mimport\u001b[39;00m HandDetector\n\u001b[0;32m      4\u001b[0m \u001b[38;5;28;01mfrom\u001b[39;00m \u001b[38;5;21;01mtime\u001b[39;00m \u001b[38;5;28;01mimport\u001b[39;00m sleep\n\u001b[0;32m      5\u001b[0m \u001b[38;5;28;01mimport\u001b[39;00m \u001b[38;5;21;01mnumpy\u001b[39;00m \u001b[38;5;28;01mas\u001b[39;00m \u001b[38;5;21;01mnp\u001b[39;00m\n",
      "File \u001b[1;32m~\\AppData\\Local\\Programs\\Python\\Python311\\Lib\\site-packages\\cvzone\\HandTrackingModule.py:8\u001b[0m\n\u001b[0;32m      1\u001b[0m \u001b[38;5;124;03m\"\"\"\u001b[39;00m\n\u001b[0;32m      2\u001b[0m \u001b[38;5;124;03mHand Tracking Module\u001b[39;00m\n\u001b[0;32m      3\u001b[0m \u001b[38;5;124;03mBy: Computer Vision Zone\u001b[39;00m\n\u001b[0;32m      4\u001b[0m \u001b[38;5;124;03mWebsite: https://www.computervision.zone/\u001b[39;00m\n\u001b[0;32m      5\u001b[0m \u001b[38;5;124;03m\"\"\"\u001b[39;00m\n\u001b[0;32m      7\u001b[0m \u001b[38;5;28;01mimport\u001b[39;00m \u001b[38;5;21;01mcv2\u001b[39;00m\n\u001b[1;32m----> 8\u001b[0m \u001b[38;5;28;01mimport\u001b[39;00m \u001b[38;5;21;01mmediapipe\u001b[39;00m \u001b[38;5;28;01mas\u001b[39;00m \u001b[38;5;21;01mmp\u001b[39;00m\n\u001b[0;32m      9\u001b[0m \u001b[38;5;28;01mimport\u001b[39;00m \u001b[38;5;21;01mmath\u001b[39;00m\n\u001b[0;32m     12\u001b[0m \u001b[38;5;28;01mclass\u001b[39;00m \u001b[38;5;21;01mHandDetector\u001b[39;00m:\n",
      "\u001b[1;31mModuleNotFoundError\u001b[0m: No module named 'mediapipe'"
     ]
    }
   ],
   "source": [
    "import cv2\n",
    "import sys\n",
    "from cvzone.HandTrackingModule import HandDetector\n",
    "from time import sleep\n",
    "import numpy as np\n",
    "import cvzone\n",
    "\n",
    "\n",
    "cap =cv2.VideoCapture(0)\n",
    "cap.set(3,1280)\n",
    "cap.set(4,720)\n",
    "finalText=\"\"\n",
    "\n",
    "detector =HandDetector(detectionCon=0.8)\n",
    "keys=[[\"Q\",\"w\",\"E\",\"R\",\"T\",\"Y\",\"U\",\"I\",\"O\",\"P\"],\n",
    "[\"A\",\"S\",\"D\",\"F\",\"G\",\"H\",\"J\",\"K\",\"L\",\";\"],\n",
    "[\"Z\",\"X\",\"C\",\"V\",\"B\",\"N\",\"M\",\",\",\".\",\"/\"]]\n",
    "def drawAll(img,buttonList):\n",
    "    imgNew=np.zeros_like(img,np.uint8)\n",
    "\n",
    "    for button in buttonList:\n",
    "        x,y=button.pos \n",
    "        cvzone.cornerRect(imgNew,(button.pos[0],button.pos[1],button.size[0],button.size[1]),20,rt=0)   \n",
    "        cv2.rectangle(imgNew,button.pos,(x+button.size[0],y+button.size[1]),(255,0,253),cv2.FILLED)\n",
    "        cv2.putText(img,button.text,(x+20,y+65),cv2.FONT_HERSHEY_PLAIN,2,(255,255,255),4)\n",
    "    \n",
    "    out=img.copy()\n",
    "    alpha=0.5\n",
    "    mask=imgNew.astype(bool)\n",
    "    print(mask.shape)\n",
    "    out[mask]=cv2.addWeighted(img,alpha,imgNew,1-alpha,0)[mask]\n",
    "    return img    \n",
    "\n",
    "class Button():\n",
    "    def __init__(self,pos,text,size=[85,85]):\n",
    "        self.pos=pos\n",
    "        self.size=size\n",
    "        self.text=text\n",
    "\n",
    "    \n",
    "         \n",
    "\n",
    "buttonList=[]\n",
    "for i in range(len(keys)):\n",
    "    for j,key in enumerate(keys[i]):\n",
    "        buttonList.append(Button([100*j+5,100*i+50],key))\n",
    "   \n",
    "\n",
    "while True:\n",
    "    success,img=cap.read()\n",
    "    img= detector.findHands(img)\n",
    "    lmlist,bboxInfo=detector.findPosition(img)\n",
    "    # crete rectangles for keys\n",
    "    img=drawAll(img,buttonList)\n",
    "\n",
    "    if lmlist:        #hand is there\n",
    "        for button in buttonList:\n",
    "            x,y=button.pos\n",
    "            w,h=button.size\n",
    "            if x<lmlist[8][0]<x+w and y<lmlist[8][1]<y+h:\n",
    "                cv2.rectangle(img,button.pos,(x+w,y+h),(155,0,200),cv2.FILLED)\n",
    "                cv2.putText(img,button.text,(x+20,y+65),cv2.FONT_HERSHEY_PLAIN,4,(255,255,255),4)\n",
    "                l,_,_=detector.findDistance(8,12,img,draw=False)   \n",
    "                \n",
    "\n",
    "                if l< 45:\n",
    "                    cv2.rectangle(img,button.pos,(x+w,y+h),(255,0,0),cv2.FILLED)           \n",
    "                    cv2.putText(img,button.text,(x+20,y+65),cv2.FONT_HERSHEY_PLAIN,4,(255,255,255),4)  \n",
    "                    finalText+=button.text\n",
    "                    sleep(0.15)  \n",
    "             \n",
    "                           \n",
    "    \n",
    "\n",
    "    cv2.rectangle(img,(50,350),(700,450),(255,255,255),cv2.FILLED)\n",
    "    cv2.putText(img,finalText,(60,425),cv2.FONT_HERSHEY_PLAIN,5,(0,0,0),4)              \n",
    "\n",
    "    cv2.imshow(\"IMAGE\",img)\n",
    "    cv2.waitKey(1)"
   ]
  },
  {
   "cell_type": "code",
   "execution_count": 26,
   "id": "233c4e03",
   "metadata": {},
   "outputs": [
    {
     "name": "stdout",
     "output_type": "stream",
     "text": [
      "Collecting qrcode\n",
      "  Downloading qrcode-7.4-py3-none-any.whl (45 kB)\n",
      "     -------------------------------------- 45.9/45.9 kB 575.8 kB/s eta 0:00:00\n",
      "Collecting typing-extensions\n",
      "  Downloading typing_extensions-4.4.0-py3-none-any.whl (26 kB)\n",
      "Collecting pypng\n",
      "  Downloading pypng-0.20220715.0-py3-none-any.whl (58 kB)\n",
      "     ---------------------------------------- 58.1/58.1 kB 3.2 MB/s eta 0:00:00\n",
      "Requirement already satisfied: colorama in c:\\users\\sabbo\\appdata\\local\\programs\\python\\python311\\lib\\site-packages (from qrcode) (0.4.6)\n",
      "Installing collected packages: pypng, typing-extensions, qrcode\n",
      "Successfully installed pypng-0.20220715.0 qrcode-7.4 typing-extensions-4.4.0\n",
      "Note: you may need to restart the kernel to use updated packages.\n"
     ]
    }
   ],
   "source": [
    "pip install qrcode"
   ]
  },
  {
   "cell_type": "code",
   "execution_count": 27,
   "id": "b34458fe",
   "metadata": {},
   "outputs": [],
   "source": [
    "import qrcode"
   ]
  },
  {
   "cell_type": "code",
   "execution_count": 30,
   "id": "13aae47f",
   "metadata": {},
   "outputs": [
    {
     "name": "stdout",
     "output_type": "stream",
     "text": [
      "[b'https://www.google.com/']\n"
     ]
    }
   ],
   "source": [
    "# Enter url of any website here.\n",
    "input_URL = \"https://www.google.com/\"\n",
    "\n",
    "qr = qrcode.QRCode(\n",
    "    version=1,\n",
    "    error_correction=qrcode.constants.ERROR_CORRECT_L,\n",
    "    box_size=15,\n",
    "    border=4,\n",
    ")\n",
    "\n",
    "qr.add_data(input_URL)\n",
    "qr.make(fit=True)\n",
    "\n",
    "# convert into image\n",
    "img = qr.make_image(fill_color=\"red\", back_color=\"white\")\n",
    "img.save(\"url_qrcode.png\")\n",
    "\n",
    "print(qr.data_list)"
   ]
  },
  {
   "cell_type": "code",
   "execution_count": 33,
   "id": "4b47e0b6",
   "metadata": {},
   "outputs": [],
   "source": [
    "import qrcode\n",
    "import cv2\n",
    "qr = qrcode.make(\"Manan Patel\")\n",
    "qr.save(\"Qrcode.png\")\n",
    "\n",
    "# d= cv2.QRCodeDetector()\n",
    "# val , points, straight_qrcode = d.detectAndDecode(cv2.imread(\"Qrcode.png\"))\n",
    "# print(val)"
   ]
  },
  {
   "cell_type": "code",
   "execution_count": null,
   "id": "19118eed",
   "metadata": {},
   "outputs": [],
   "source": []
  }
 ],
 "metadata": {
  "kernelspec": {
   "display_name": "Python 3 (ipykernel)",
   "language": "python",
   "name": "python3"
  },
  "language_info": {
   "codemirror_mode": {
    "name": "ipython",
    "version": 3
   },
   "file_extension": ".py",
   "mimetype": "text/x-python",
   "name": "python",
   "nbconvert_exporter": "python",
   "pygments_lexer": "ipython3",
   "version": "3.11.1"
  }
 },
 "nbformat": 4,
 "nbformat_minor": 5
}
