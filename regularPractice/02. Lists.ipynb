{
 "cells": [
  {
   "cell_type": "markdown",
   "id": "4862b154",
   "metadata": {},
   "source": [
    "# Lists\n",
    "\n",
    "A list stores a series of items in a particular order. We access items using an index or within a loop."
   ]
  },
  {
   "cell_type": "markdown",
   "id": "e2c7840c",
   "metadata": {},
   "source": [
    "### Making a List"
   ]
  },
  {
   "cell_type": "code",
   "execution_count": 10,
   "id": "66d21d70",
   "metadata": {},
   "outputs": [],
   "source": [
    "bikes = [\"suzuki\" , \"honda\", \"yamaha\"]"
   ]
  },
  {
   "cell_type": "markdown",
   "id": "0e295c8f",
   "metadata": {},
   "source": [
    "### Get the first item in a list"
   ]
  },
  {
   "cell_type": "code",
   "execution_count": 11,
   "id": "7f684578",
   "metadata": {},
   "outputs": [],
   "source": [
    "first_bike = bikes[0]"
   ]
  },
  {
   "cell_type": "markdown",
   "id": "12c64737",
   "metadata": {},
   "source": [
    "### Get the last item in a list"
   ]
  },
  {
   "cell_type": "code",
   "execution_count": 12,
   "id": "ea5504a8",
   "metadata": {},
   "outputs": [],
   "source": [
    "last_bike = bikes[-1]"
   ]
  },
  {
   "cell_type": "markdown",
   "id": "56a141a3",
   "metadata": {},
   "source": [
    "### Looping through a list (for Loop)"
   ]
  },
  {
   "cell_type": "code",
   "execution_count": 13,
   "id": "19f27602",
   "metadata": {},
   "outputs": [
    {
     "name": "stdout",
     "output_type": "stream",
     "text": [
      "suzuki\n",
      "honda\n",
      "yamaha\n"
     ]
    }
   ],
   "source": [
    "for bike in bikes:\n",
    "    print (bike)"
   ]
  },
  {
   "cell_type": "markdown",
   "id": "8c33ae0a",
   "metadata": {},
   "source": [
    "### Adding items to a list"
   ]
  },
  {
   "cell_type": "code",
   "execution_count": 16,
   "id": "6bee4657",
   "metadata": {},
   "outputs": [
    {
     "name": "stdout",
     "output_type": "stream",
     "text": [
      "['hero']\n"
     ]
    }
   ],
   "source": [
    "bikes = []\n",
    "bikes.append('hero')\n",
    "\n",
    "print(bikes)"
   ]
  },
  {
   "cell_type": "markdown",
   "id": "52124ff3",
   "metadata": {},
   "source": [
    "### Making numerical lists"
   ]
  },
  {
   "cell_type": "code",
   "execution_count": 21,
   "id": "027518be",
   "metadata": {},
   "outputs": [
    {
     "name": "stdout",
     "output_type": "stream",
     "text": [
      "[1]\n",
      "[1, 4]\n",
      "[1, 4, 9]\n",
      "[1, 4, 9, 16]\n",
      "[1, 4, 9, 16, 25]\n",
      "[1, 4, 9, 16, 25, 36]\n",
      "[1, 4, 9, 16, 25, 36, 49]\n",
      "[1, 4, 9, 16, 25, 36, 49, 64]\n",
      "[1, 4, 9, 16, 25, 36, 49, 64, 81]\n",
      "[1, 4, 9, 16, 25, 36, 49, 64, 81, 100]\n",
      "[1, 4, 9, 16, 25, 36, 49, 64, 81, 100]\n"
     ]
    }
   ],
   "source": [
    "squares = []\n",
    "\n",
    "for x in range(1,11):\n",
    "    squares.append(x**2)\n",
    "    print(squares)\n",
    "\n",
    "print(squares)"
   ]
  },
  {
   "cell_type": "markdown",
   "id": "85b28b3e",
   "metadata": {},
   "source": [
    "### List Compreshesions "
   ]
  },
  {
   "cell_type": "code",
   "execution_count": 22,
   "id": "4a1cbf78",
   "metadata": {},
   "outputs": [
    {
     "name": "stdout",
     "output_type": "stream",
     "text": [
      "[1, 4, 9, 16, 25, 36, 49, 64, 81, 100]\n"
     ]
    }
   ],
   "source": [
    "squares = [x**2 for x in range(1,11)]\n",
    "print(squares)"
   ]
  },
  {
   "cell_type": "markdown",
   "id": "8f39cc8e",
   "metadata": {},
   "source": [
    "### Slicing a list "
   ]
  },
  {
   "cell_type": "code",
   "execution_count": 23,
   "id": "7479c2e4",
   "metadata": {},
   "outputs": [
    {
     "name": "stdout",
     "output_type": "stream",
     "text": [
      "['sam', 'bob']\n"
     ]
    }
   ],
   "source": [
    "finishers = ['sam', 'bob', 'ada', 'bea']\n",
    "\n",
    "first_two = finishers[:2]\n",
    "print(first_two)"
   ]
  },
  {
   "cell_type": "markdown",
   "id": "b7d0875d",
   "metadata": {},
   "source": [
    "### Copying a list"
   ]
  },
  {
   "cell_type": "code",
   "execution_count": 24,
   "id": "2a058695",
   "metadata": {},
   "outputs": [
    {
     "name": "stdout",
     "output_type": "stream",
     "text": [
      "['suzuki', 'honda', 'yamaha']\n"
     ]
    }
   ],
   "source": [
    "bikes = [\"suzuki\" , \"honda\", \"yamaha\"]\n",
    "\n",
    "copy_of_bikes = bikes[:]\n",
    "\n",
    "print(copy_of_bikes)"
   ]
  },
  {
   "cell_type": "code",
   "execution_count": null,
   "id": "a3f5ce48",
   "metadata": {},
   "outputs": [],
   "source": []
  }
 ],
 "metadata": {
  "kernelspec": {
   "display_name": "Python 3 (ipykernel)",
   "language": "python",
   "name": "python3"
  },
  "language_info": {
   "codemirror_mode": {
    "name": "ipython",
    "version": 3
   },
   "file_extension": ".py",
   "mimetype": "text/x-python",
   "name": "python",
   "nbconvert_exporter": "python",
   "pygments_lexer": "ipython3",
   "version": "3.10.1"
  }
 },
 "nbformat": 4,
 "nbformat_minor": 5
}
