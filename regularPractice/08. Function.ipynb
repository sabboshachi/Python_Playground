{
 "cells": [
  {
   "cell_type": "markdown",
   "id": "741196b6",
   "metadata": {},
   "source": [
    "# Function\n",
    "\n",
    "Functions are named blocks of code, designed to do one specific job. Information passed to a function is called <b>Argument</b> and the information received by a fucktion is called <b>Parameter</b>."
   ]
  },
  {
   "cell_type": "markdown",
   "id": "c2206f10",
   "metadata": {},
   "source": [
    "### A Simple function"
   ]
  },
  {
   "cell_type": "code",
   "execution_count": 5,
   "id": "852647b8",
   "metadata": {},
   "outputs": [],
   "source": [
    "def greet_user():   # fucntion declaration \n",
    "    \"\"\"Display a simple message\"\"\"\n",
    "    print(\"Hello!\")\n"
   ]
  },
  {
   "cell_type": "code",
   "execution_count": 6,
   "id": "fb5ed6b2",
   "metadata": {},
   "outputs": [
    {
     "name": "stdout",
     "output_type": "stream",
     "text": [
      "Hello!\n"
     ]
    }
   ],
   "source": [
    "greet_user() # calling the function"
   ]
  },
  {
   "cell_type": "markdown",
   "id": "74758129",
   "metadata": {},
   "source": [
    "### Passing Argument through a Function"
   ]
  },
  {
   "cell_type": "code",
   "execution_count": 10,
   "id": "6e8ad39b",
   "metadata": {},
   "outputs": [
    {
     "name": "stdout",
     "output_type": "stream",
     "text": [
      "Hello, susmita!\n",
      "Hello, sabboshachi!\n"
     ]
    }
   ],
   "source": [
    "def greet_user(username):\n",
    "    \"\"\"Display a personalized greeting\"\"\"\n",
    "    print(\"Hello, \" + username + \"!\")\n",
    "    \n",
    "name_list = [\"susmita\", \"sabboshachi\"]\n",
    "for name in name_list:\n",
    "    greet_user(name)"
   ]
  },
  {
   "cell_type": "markdown",
   "id": "6ca13e4e",
   "metadata": {},
   "source": [
    "### Default Value for Parameters"
   ]
  },
  {
   "cell_type": "code",
   "execution_count": 12,
   "id": "2e88d06c",
   "metadata": {},
   "outputs": [],
   "source": [
    "def make_pizza(topping = \"bacon\"):\n",
    "    \"\"\"Make a single topping pizza\"\"\"\n",
    "    print(\"Have a \" + topping + \" Pizza!\")\n",
    "    "
   ]
  },
  {
   "cell_type": "code",
   "execution_count": 13,
   "id": "3b463b88",
   "metadata": {},
   "outputs": [
    {
     "name": "stdout",
     "output_type": "stream",
     "text": [
      "Have a bacon Pizza!\n"
     ]
    }
   ],
   "source": [
    "make_pizza()"
   ]
  },
  {
   "cell_type": "code",
   "execution_count": 14,
   "id": "bce00964",
   "metadata": {},
   "outputs": [
    {
     "name": "stdout",
     "output_type": "stream",
     "text": [
      "Have a chicken Pizza!\n"
     ]
    }
   ],
   "source": [
    "make_pizza(\"chicken\")"
   ]
  },
  {
   "cell_type": "markdown",
   "id": "f7a2f609",
   "metadata": {},
   "source": [
    "### Returning a Value"
   ]
  },
  {
   "cell_type": "code",
   "execution_count": 17,
   "id": "2bc386be",
   "metadata": {},
   "outputs": [
    {
     "name": "stdout",
     "output_type": "stream",
     "text": [
      "8\n"
     ]
    }
   ],
   "source": [
    "def add_numbers(x,y):\n",
    "    \"\"\"Add two numbers and return the sum\"\"\"\n",
    "    return x + y\n",
    "\n",
    "sum = add_numbers(3 , 5)\n",
    "\n",
    "print(sum)"
   ]
  }
 ],
 "metadata": {
  "kernelspec": {
   "display_name": "Python 3 (ipykernel)",
   "language": "python",
   "name": "python3"
  },
  "language_info": {
   "codemirror_mode": {
    "name": "ipython",
    "version": 3
   },
   "file_extension": ".py",
   "mimetype": "text/x-python",
   "name": "python",
   "nbconvert_exporter": "python",
   "pygments_lexer": "ipython3",
   "version": "3.10.1"
  }
 },
 "nbformat": 4,
 "nbformat_minor": 5
}
