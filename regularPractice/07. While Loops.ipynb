{
 "cells": [
  {
   "cell_type": "markdown",
   "id": "9cd99f4b",
   "metadata": {},
   "source": [
    "# 07. While Loops\n",
    "\n",
    "A while loop repeats a block of code as long as a certain condition is true."
   ]
  },
  {
   "cell_type": "markdown",
   "id": "deec4157",
   "metadata": {},
   "source": [
    "### A simple while loop"
   ]
  },
  {
   "cell_type": "code",
   "execution_count": 2,
   "id": "5c4958b7",
   "metadata": {},
   "outputs": [
    {
     "name": "stdout",
     "output_type": "stream",
     "text": [
      "1\n",
      "2\n",
      "3\n",
      "4\n",
      "5\n"
     ]
    }
   ],
   "source": [
    "current_value = 1\n",
    "while current_value <=5:\n",
    "    print (current_value)\n",
    "    current_value += 1"
   ]
  },
  {
   "cell_type": "markdown",
   "id": "0896fa71",
   "metadata": {},
   "source": [
    "### Letting the user choose when to quit"
   ]
  },
  {
   "cell_type": "code",
   "execution_count": 4,
   "id": "8c3c845a",
   "metadata": {},
   "outputs": [
    {
     "name": "stdout",
     "output_type": "stream",
     "text": [
      "what is your message? Hi\n",
      "Hi\n",
      "what is your message? quit\n",
      "quit\n"
     ]
    }
   ],
   "source": [
    "message = \"\"\n",
    "\n",
    "while message != \"quit\":\n",
    "    message = input(\"what is your message? \")\n",
    "    print(message)"
   ]
  }
 ],
 "metadata": {
  "kernelspec": {
   "display_name": "Python 3 (ipykernel)",
   "language": "python",
   "name": "python3"
  },
  "language_info": {
   "codemirror_mode": {
    "name": "ipython",
    "version": 3
   },
   "file_extension": ".py",
   "mimetype": "text/x-python",
   "name": "python",
   "nbconvert_exporter": "python",
   "pygments_lexer": "ipython3",
   "version": "3.10.1"
  }
 },
 "nbformat": 4,
 "nbformat_minor": 5
}
